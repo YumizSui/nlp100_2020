{
 "cells": [
  {
   "cell_type": "code",
   "execution_count": 1,
   "metadata": {},
   "outputs": [],
   "source": [
    "import pandas as pd\n",
    "from sklearn.model_selection import train_test_split"
   ]
  },
  {
   "cell_type": "markdown",
   "metadata": {},
   "source": [
    "### 50"
   ]
  },
  {
   "cell_type": "code",
   "execution_count": 2,
   "metadata": {},
   "outputs": [],
   "source": [
    "newsdf=pd.read_csv(\"src/newsCorpora.csv\",header=None,sep=\"\\t\", names=['ID', 'TITLE', 'URL', 'PUBLISHER', 'CATEGORY', 'STORY', 'HOSTNAME', 'TIMESTAMP'])\n",
    "newsdf=newsdf[newsdf.PUBLISHER.isin([\"Reuters\",\"Huffington Post\",\"Businessweek\",\"Contactmusic.com\",\"Daily Mail\"])][[\"CATEGORY\",\"TITLE\"]]\n",
    "train,test=train_test_split(newsdf,test_size=0.2,stratify=newsdf.CATEGORY)\n",
    "valid,test=train_test_split(test,test_size=0.5,stratify=test.CATEGORY)\n",
    "train.to_csv('src/train.txt', index=False, sep=\"\\t\",header=None)\n",
    "valid.to_csv('src/valid.txt', index=False, sep=\"\\t\",header=None)\n",
    "test.to_csv('src/test.txt', index=False, sep=\"\\t\",header=None)"
   ]
  },
  {
   "cell_type": "code",
   "execution_count": 10,
   "metadata": {},
   "outputs": [
    {
     "data": {
      "text/html": [
       "<div>\n",
       "<style scoped>\n",
       "    .dataframe tbody tr th:only-of-type {\n",
       "        vertical-align: middle;\n",
       "    }\n",
       "\n",
       "    .dataframe tbody tr th {\n",
       "        vertical-align: top;\n",
       "    }\n",
       "\n",
       "    .dataframe thead th {\n",
       "        text-align: right;\n",
       "    }\n",
       "</style>\n",
       "<table border=\"1\" class=\"dataframe\">\n",
       "  <thead>\n",
       "    <tr style=\"text-align: right;\">\n",
       "      <th></th>\n",
       "      <th>TITLE</th>\n",
       "    </tr>\n",
       "    <tr>\n",
       "      <th>CATEGORY</th>\n",
       "      <th></th>\n",
       "    </tr>\n",
       "  </thead>\n",
       "  <tbody>\n",
       "    <tr>\n",
       "      <th>b</th>\n",
       "      <td>5627</td>\n",
       "    </tr>\n",
       "    <tr>\n",
       "      <th>e</th>\n",
       "      <td>5279</td>\n",
       "    </tr>\n",
       "    <tr>\n",
       "      <th>m</th>\n",
       "      <td>910</td>\n",
       "    </tr>\n",
       "    <tr>\n",
       "      <th>t</th>\n",
       "      <td>1524</td>\n",
       "    </tr>\n",
       "  </tbody>\n",
       "</table>\n",
       "</div>"
      ],
      "text/plain": [
       "          TITLE\n",
       "CATEGORY       \n",
       "b          5627\n",
       "e          5279\n",
       "m           910\n",
       "t          1524"
      ]
     },
     "execution_count": 10,
     "metadata": {},
     "output_type": "execute_result"
    }
   ],
   "source": [
    "newsdf.groupby(\"CATEGORY\").count()"
   ]
  },
  {
   "cell_type": "code",
   "execution_count": 11,
   "metadata": {},
   "outputs": [
    {
     "data": {
      "text/plain": [
       "b    5627\n",
       "e    5279\n",
       "t    1524\n",
       "m     910\n",
       "Name: CATEGORY, dtype: int64"
      ]
     },
     "execution_count": 11,
     "metadata": {},
     "output_type": "execute_result"
    }
   ],
   "source": [
    "newsdf.CATEGORY.value_counts()"
   ]
  },
  {
   "cell_type": "markdown",
   "metadata": {},
   "source": [
    "### 51"
   ]
  },
  {
   "cell_type": "markdown",
   "metadata": {},
   "source": [
    "TF-IDFというのがあるらしい  \n",
    "nltkを使うやつ：時間かかりすぎるので断念"
   ]
  },
  {
   "cell_type": "code",
   "execution_count": 4,
   "metadata": {},
   "outputs": [],
   "source": [
    "from sklearn.feature_extraction.text import TfidfVectorizer\n",
    "import string\n",
    "import re"
   ]
  },
  {
   "cell_type": "code",
   "execution_count": 3,
   "metadata": {},
   "outputs": [],
   "source": [
    "def normalizeText(text):\n",
    "    text = text.lower()  # 小文字化\n",
    "    table = str.maketrans(string.punctuation, ' '*len(string.punctuation))\n",
    "    text = re.sub('[0-9|,|.]+', '0', text)\n",
    "    text = text.translate(table)\n",
    "    text = re.sub(r\"\\s+\", \" \", text)\n",
    "    text = re.sub(r\"^ | $\", \"\", text)\n",
    "    return text"
   ]
  },
  {
   "cell_type": "code",
   "execution_count": 192,
   "metadata": {},
   "outputs": [],
   "source": [
    "Tfidfvec = TfidfVectorizer(min_df=5, max_df=0.9)#,max_features=1000, ngram_range=(1, 2))\n",
    "\n",
    "train_vec=Tfidfvec.fit_transform(train.TITLE.map(lambda x: normalizeText(x)))\n",
    "valid_vec=Tfidfvec.transform(valid.TITLE.map(lambda x: normalizeText(x)))\n",
    "test_vec=Tfidfvec.transform(test.TITLE.map(lambda x: normalizeText(x)))\n",
    "\n",
    "train_feature=pd.DataFrame(train_vec.toarray(), columns=Tfidfvec.get_feature_names())\n",
    "valid_feature=pd.DataFrame(valid_vec.toarray(), columns=Tfidfvec.get_feature_names())\n",
    "test_feature=pd.DataFrame(test_vec.toarray(), columns=Tfidfvec.get_feature_names())\n",
    "\n",
    "# train_feature.to_csv(\"src/train.feature.txt\", index=False, sep=\"\\t\")\n",
    "# valid_feature.to_csv(\"src/valid.feature.txt\", index=False, sep=\"\\t\")\n",
    "# test_feature.to_csv(\"src/test.feature.txt\", index=False, sep=\"\\t\")\n",
    "# train_feature=pd.read_csv(\"src/train.feature.txt\",sep=\"\\t\")\n",
    "# valid_feature=pd.read_csv(\"src/valid.feature.txt\",sep=\"\\t\")\n",
    "# test_feature=pd.read_csv(\"src/test.feature.txt\",sep=\"\\t\")"
   ]
  },
  {
   "cell_type": "markdown",
   "metadata": {},
   "source": [
    "### 52"
   ]
  },
  {
   "cell_type": "code",
   "execution_count": 12,
   "metadata": {},
   "outputs": [],
   "source": [
    "from sklearn.linear_model import LogisticRegression"
   ]
  },
  {
   "cell_type": "code",
   "execution_count": 115,
   "metadata": {},
   "outputs": [
    {
     "data": {
      "text/plain": [
       "LogisticRegression(max_iter=10000)"
      ]
     },
     "execution_count": 115,
     "metadata": {},
     "output_type": "execute_result"
    }
   ],
   "source": [
    "clf_Log = LogisticRegression( max_iter=10000)\n",
    "clf_Log.fit(train_feature, train['CATEGORY'])"
   ]
  },
  {
   "cell_type": "markdown",
   "metadata": {},
   "source": [
    "### 53"
   ]
  },
  {
   "cell_type": "code",
   "execution_count": 5,
   "metadata": {},
   "outputs": [],
   "source": [
    "import numpy as np"
   ]
  },
  {
   "cell_type": "code",
   "execution_count": 116,
   "metadata": {},
   "outputs": [],
   "source": [
    "train_res=pd.DataFrame(np.array([np.max(clf_Log.predict_proba(train_feature),axis=1),clf_Log.predict(train_feature)]).T,columns=[\"predict_prob\",\"predict_category\"])\n",
    "test_res=pd.DataFrame(np.array([np.max(clf_Log.predict_proba(test_feature),axis=1),clf_Log.predict(test_feature)]).T,columns=[\"predict_prob\",\"predict_category\"])"
   ]
  },
  {
   "cell_type": "markdown",
   "metadata": {},
   "source": [
    "### 54"
   ]
  },
  {
   "cell_type": "code",
   "execution_count": 52,
   "metadata": {},
   "outputs": [
    {
     "name": "stdout",
     "output_type": "stream",
     "text": [
      "0.9418103448275862\n",
      "0.8905547226386806\n"
     ]
    }
   ],
   "source": [
    "#カットなし\n",
    "print(clf_Log.score(train_feature,train.CATEGORY))\n",
    "print(clf_Log.score(test_feature,test.CATEGORY))"
   ]
  },
  {
   "cell_type": "code",
   "execution_count": 65,
   "metadata": {},
   "outputs": [
    {
     "name": "stdout",
     "output_type": "stream",
     "text": [
      "0.9173538230884558\n",
      "0.8860569715142429\n"
     ]
    }
   ],
   "source": [
    "#10以下カット\n",
    "print(clf_Log.score(train_feature,train.CATEGORY))\n",
    "print(clf_Log.score(test_feature,test.CATEGORY))"
   ]
  },
  {
   "cell_type": "code",
   "execution_count": 56,
   "metadata": {},
   "outputs": [
    {
     "name": "stdout",
     "output_type": "stream",
     "text": [
      "0.9421851574212894\n",
      "0.8740629685157422\n"
     ]
    }
   ],
   "source": [
    "#n2gramも含めたけど…\n",
    "print(clf_Log.score(train_feature,train.CATEGORY))\n",
    "print(clf_Log.score(test_feature,test.CATEGORY))"
   ]
  },
  {
   "cell_type": "code",
   "execution_count": 69,
   "metadata": {},
   "outputs": [
    {
     "name": "stdout",
     "output_type": "stream",
     "text": [
      "0.9196026986506747\n",
      "0.8883058470764618\n"
     ]
    }
   ],
   "source": [
    "#n2 10以下カット\n",
    "print(clf_Log.score(train_feature,train.CATEGORY))\n",
    "print(clf_Log.score(test_feature,test.CATEGORY))"
   ]
  },
  {
   "cell_type": "code",
   "execution_count": 117,
   "metadata": {},
   "outputs": [
    {
     "name": "stdout",
     "output_type": "stream",
     "text": [
      "0.9418103448275862\n",
      "0.8905547226386806\n"
     ]
    }
   ],
   "source": [
    "#n2 5以下カット\n",
    "print(clf_Log.score(train_feature,train.CATEGORY))\n",
    "print(clf_Log.score(test_feature,test.CATEGORY))"
   ]
  },
  {
   "cell_type": "markdown",
   "metadata": {},
   "source": [
    "### 55"
   ]
  },
  {
   "cell_type": "code",
   "execution_count": 6,
   "metadata": {},
   "outputs": [],
   "source": [
    "from sklearn.metrics import confusion_matrix"
   ]
  },
  {
   "cell_type": "code",
   "execution_count": 7,
   "metadata": {
    "collapsed": true
   },
   "outputs": [
    {
     "ename": "NameError",
     "evalue": "name 'clf_Log' is not defined",
     "output_type": "error",
     "traceback": [
      "\u001b[0;31m-----------------------------------------------------\u001b[0m",
      "\u001b[0;31mNameError\u001b[0m           Traceback (most recent call last)",
      "\u001b[0;32m<ipython-input-7-5376035e66ef>\u001b[0m in \u001b[0;36m<module>\u001b[0;34m\u001b[0m\n\u001b[1;32m      1\u001b[0m \u001b[0mtrain_true\u001b[0m\u001b[0;34m=\u001b[0m\u001b[0mtrain\u001b[0m\u001b[0;34m.\u001b[0m\u001b[0mCATEGORY\u001b[0m\u001b[0;34m\u001b[0m\u001b[0;34m\u001b[0m\u001b[0m\n\u001b[0;32m----> 2\u001b[0;31m \u001b[0mtrain_pred\u001b[0m\u001b[0;34m=\u001b[0m\u001b[0mclf_Log\u001b[0m\u001b[0;34m.\u001b[0m\u001b[0mpredict\u001b[0m\u001b[0;34m(\u001b[0m\u001b[0mtrain_feature\u001b[0m\u001b[0;34m)\u001b[0m\u001b[0;34m\u001b[0m\u001b[0;34m\u001b[0m\u001b[0m\n\u001b[0m\u001b[1;32m      3\u001b[0m \u001b[0mtest_true\u001b[0m\u001b[0;34m=\u001b[0m\u001b[0mtest\u001b[0m\u001b[0;34m.\u001b[0m\u001b[0mCATEGORY\u001b[0m\u001b[0;34m\u001b[0m\u001b[0;34m\u001b[0m\u001b[0m\n\u001b[1;32m      4\u001b[0m \u001b[0mtest_pred\u001b[0m\u001b[0;34m=\u001b[0m\u001b[0mclf_Log\u001b[0m\u001b[0;34m.\u001b[0m\u001b[0mpredict\u001b[0m\u001b[0;34m(\u001b[0m\u001b[0mtest_feature\u001b[0m\u001b[0;34m)\u001b[0m\u001b[0;34m\u001b[0m\u001b[0;34m\u001b[0m\u001b[0m\n",
      "\u001b[0;31mNameError\u001b[0m: name 'clf_Log' is not defined"
     ]
    }
   ],
   "source": [
    "train_true=train.CATEGORY\n",
    "train_pred=clf_Log.predict(train_feature)\n",
    "test_true=test.CATEGORY\n",
    "test_pred=clf_Log.predict(test_feature)"
   ]
  },
  {
   "cell_type": "code",
   "execution_count": 98,
   "metadata": {},
   "outputs": [
    {
     "data": {
      "text/plain": [
       "array([[4360,   78,    7,   57],\n",
       "       [  33, 4181,    1,    8],\n",
       "       [  84,  133,  504,    7],\n",
       "       [ 177,  119,    3,  920]])"
      ]
     },
     "execution_count": 98,
     "metadata": {},
     "output_type": "execute_result"
    }
   ],
   "source": [
    "#train confusion\n",
    "confusion_matrix(train_true, train_pred)"
   ]
  },
  {
   "cell_type": "code",
   "execution_count": 99,
   "metadata": {},
   "outputs": [
    {
     "data": {
      "text/plain": [
       "array([[538,  18,   1,   6],\n",
       "       [ 18, 508,   0,   2],\n",
       "       [ 14,  21,  53,   3],\n",
       "       [ 35,  25,   2,  90]])"
      ]
     },
     "execution_count": 99,
     "metadata": {},
     "output_type": "execute_result"
    }
   ],
   "source": [
    "#test confusion\n",
    "confusion_matrix(test_true, test_pred)"
   ]
  },
  {
   "cell_type": "markdown",
   "metadata": {},
   "source": [
    "### 56"
   ]
  },
  {
   "cell_type": "code",
   "execution_count": 107,
   "metadata": {},
   "outputs": [],
   "source": [
    "from sklearn.metrics import classification_report"
   ]
  },
  {
   "cell_type": "code",
   "execution_count": 110,
   "metadata": {},
   "outputs": [
    {
     "name": "stdout",
     "output_type": "stream",
     "text": [
      "              precision    recall  f1-score   support\n",
      "\n",
      "           b       0.94      0.97      0.95      4502\n",
      "           e       0.93      0.99      0.96      4223\n",
      "           m       0.98      0.69      0.81       728\n",
      "           t       0.93      0.75      0.83      1219\n",
      "\n",
      "    accuracy                           0.93     10672\n",
      "   macro avg       0.94      0.85      0.89     10672\n",
      "weighted avg       0.93      0.93      0.93     10672\n",
      "\n"
     ]
    }
   ],
   "source": [
    "#train\n",
    "print(classification_report(train_true, train_pred))"
   ]
  },
  {
   "cell_type": "code",
   "execution_count": 111,
   "metadata": {},
   "outputs": [
    {
     "name": "stdout",
     "output_type": "stream",
     "text": [
      "              precision    recall  f1-score   support\n",
      "\n",
      "           b       0.89      0.96      0.92       563\n",
      "           e       0.89      0.96      0.92       528\n",
      "           m       0.95      0.58      0.72        91\n",
      "           t       0.89      0.59      0.71       152\n",
      "\n",
      "    accuracy                           0.89      1334\n",
      "   macro avg       0.90      0.77      0.82      1334\n",
      "weighted avg       0.89      0.89      0.88      1334\n",
      "\n"
     ]
    }
   ],
   "source": [
    "#test\n",
    "print(classification_report(test_true, test_pred))"
   ]
  },
  {
   "cell_type": "code",
   "execution_count": null,
   "metadata": {},
   "outputs": [],
   "source": [
    "#recallが低い：あるカテゴリーをそのカテゴリーだと識別できた割合が低い"
   ]
  },
  {
   "cell_type": "markdown",
   "metadata": {},
   "source": [
    "### 57"
   ]
  },
  {
   "cell_type": "code",
   "execution_count": 148,
   "metadata": {},
   "outputs": [],
   "source": [
    "coefs=pd.DataFrame(clf_Log.coef_.T,columns=clf_Log.classes_)\n",
    "coefs[\"terms\"]=Tfidfvec.get_feature_names()"
   ]
  },
  {
   "cell_type": "code",
   "execution_count": 170,
   "metadata": {},
   "outputs": [
    {
     "name": "stdout",
     "output_type": "stream",
     "text": [
      "business\n",
      "top  : china\tfed\tbank\tstocks\tecb\teuro\tupdate\tukraine\toil\tdollar\n",
      "worst: and\tthe\tebola\ther\tshe\tgoogle\tfacebook\tapple\tvideo\tstudy\n",
      "entertainment\n",
      "top  : kardashian\tchris\tkim\tstar\tmiley\ther\tcyrus\tpaul\tshe\tmovie\n",
      "worst: update\tus\tgoogle\tsays\tchina\tfacebook\tstudy\tceo\tgm\tapple\n",
      "health\n",
      "top  : ebola\tcancer\tstudy\tfda\tdrug\tmers\thealth\tcigarettes\tcdc\tcould\n",
      "worst: gm\tfacebook\tgoogle\tapple\tceo\tfed\tclimate\ttwitter\tdeal\tbank\n",
      "science and technology\n",
      "top  : google\tfacebook\tapple\tmicrosoft\tclimate\ttesla\tgm\tnasa\tfcc\tsamsung\n",
      "worst: stocks\tfed\tpercent\tamerican\tdrug\ther\tcancer\tecb\tkardashian\tshares\n"
     ]
    }
   ],
   "source": [
    "category={\"b\":\"business\",\"t\":\"science and technology\",\"e\":\"entertainment\",\"m\":\"health\"}\n",
    "for i in clf_Log.classes_:\n",
    "    print(category[i])\n",
    "    print(\"top  :\",\"\\t\".join(coefs.sort_values(i,ascending=False)[:10][\"terms\"].values))\n",
    "    print(\"worst:\",\"\\t\".join(coefs.sort_values(i,ascending=True)[:10][\"terms\"].values))"
   ]
  },
  {
   "cell_type": "markdown",
   "metadata": {},
   "source": [
    "### 58"
   ]
  },
  {
   "cell_type": "code",
   "execution_count": 9,
   "metadata": {},
   "outputs": [],
   "source": [
    "Tfidfvec = TfidfVectorizer(min_df=10, max_df=0.8)#,max_features=1000, ngram_range=(1, 2))\n",
    "\n",
    "train_vec=Tfidfvec.fit_transform(train.TITLE.map(lambda x: normalizeText(x)))\n",
    "valid_vec=Tfidfvec.transform(valid.TITLE.map(lambda x: normalizeText(x)))\n",
    "test_vec=Tfidfvec.transform(test.TITLE.map(lambda x: normalizeText(x)))\n",
    "\n",
    "train_feature=pd.DataFrame(train_vec.toarray(), columns=Tfidfvec.get_feature_names())\n",
    "valid_feature=pd.DataFrame(valid_vec.toarray(), columns=Tfidfvec.get_feature_names())\n",
    "test_feature=pd.DataFrame(test_vec.toarray(), columns=Tfidfvec.get_feature_names())"
   ]
  },
  {
   "cell_type": "code",
   "execution_count": 8,
   "metadata": {},
   "outputs": [],
   "source": [
    "train_true=train.CATEGORY\n",
    "valid_true=valid.CATEGORY\n",
    "test_true=test.CATEGORY"
   ]
  },
  {
   "cell_type": "code",
   "execution_count": 201,
   "metadata": {},
   "outputs": [],
   "source": [
    "from tqdm import tqdm\n",
    "import matplotlib.pyplot as plt"
   ]
  },
  {
   "cell_type": "code",
   "execution_count": 211,
   "metadata": {
    "scrolled": false
   },
   "outputs": [
    {
     "name": "stderr",
     "output_type": "stream",
     "text": [
      "100%|██████████| 8/8 [07:23<00:00, 55.42s/it]\n"
     ]
    }
   ],
   "source": [
    "scores=[]\n",
    "for C in tqdm(np.logspace(-3, 4, 8, base=10)):\n",
    "    clf_Log = LogisticRegression(max_iter=10000, C=C)\n",
    "    clf_Log.fit(train_feature, train_true)\n",
    "    train_score=clf_Log.score(train_feature, train_true)\n",
    "    valid_score=clf_Log.score(valid_feature, valid_true)\n",
    "    test_score=clf_Log.score(test_feature, test_true)\n",
    "    scores.append([train_score,valid_score,test_score])\n",
    "scores=np.array(scores).T"
   ]
  },
  {
   "cell_type": "code",
   "execution_count": 212,
   "metadata": {},
   "outputs": [
    {
     "data": {
      "image/png": "[encoded data removed]",
      "text/plain": [
       "<Figure size 432x288 with 1 Axes>"
      ]
     },
     "metadata": {
      "needs_background": "light"
     },
     "output_type": "display_data"
    }
   ],
   "source": [
    "cs=np.logspace(-3, 4, 8, base=10)\n",
    "plt.plot(cs,scores[0],label=\"train\")\n",
    "plt.plot(cs,scores[1],label=\"valid\")\n",
    "plt.plot(cs,scores[2],label=\"test\")\n",
    "plt.xscale(\"log\")"
   ]
  },
  {
   "cell_type": "markdown",
   "metadata": {},
   "source": [
    "過学習がちょい見える"
   ]
  },
  {
   "cell_type": "markdown",
   "metadata": {},
   "source": [
    "### 59"
   ]
  },
  {
   "cell_type": "markdown",
   "metadata": {},
   "source": [
    "実行時間長すぎて断念  \n",
    "一応動くコード…"
   ]
  },
  {
   "cell_type": "code",
   "execution_count": 19,
   "metadata": {},
   "outputs": [],
   "source": [
    "import optuna"
   ]
  },
  {
   "cell_type": "code",
   "execution_count": 15,
   "metadata": {},
   "outputs": [],
   "source": [
    "from sklearn.metrics import f1_score"
   ]
  },
  {
   "cell_type": "code",
   "execution_count": 28,
   "metadata": {},
   "outputs": [],
   "source": [
    "clf_Log = LogisticRegression(C=10.0, max_iter=10000)\n",
    "clf_Log.fit(train_feature, train_true)\n",
    "train_pred=clf_Log.predict(train_feature)"
   ]
  },
  {
   "cell_type": "code",
   "execution_count": 20,
   "metadata": {},
   "outputs": [],
   "source": [
    "def objective(trial):\n",
    "    l1_ratio = trial.suggest_uniform('l1_ratio', 0, 1)\n",
    "    C = trial.suggest_loguniform('C', 1e-4, 1e4)\n",
    "    clf_Log=LogisticRegression(max_iter=10000,penalty=\"elasticnet\",solver='saga', l1_ratio=l1_ratio,C=C)\n",
    "    clf_Log.fit(train_feature, train_true)\n",
    "    valid_pred=clf_Log.predict(valid_feature)\n",
    "    return f1_score(valid_pred, valid_true, average='micro')"
   ]
  },
  {
   "cell_type": "code",
   "execution_count": 22,
   "metadata": {
    "scrolled": false
   },
   "outputs": [
    {
     "name": "stderr",
     "output_type": "stream",
     "text": [
      "[I 2020-08-24 18:06:07,222] Trial 0 finished with value: 0.8808095952023988 and parameters: {'l1_ratio': 0.6575925074474871, 'C': 3.1044375292893234}. Best is trial 0 with value: 0.8808095952023988.\n",
      "/home/yumizsui/anaconda3/lib/python3.8/site-packages/sklearn/linear_model/_sag.py:329: ConvergenceWarning: The max_iter was reached which means the coef_ did not converge\n",
      "  warnings.warn(\"The max_iter was reached which means \"\n",
      "[I 2020-08-24 18:10:26,797] Trial 1 finished with value: 0.8515742128935532 and parameters: {'l1_ratio': 0.7603975372415486, 'C': 1955.918787281466}. Best is trial 0 with value: 0.8808095952023988.\n"
     ]
    }
   ],
   "source": [
    "study = optuna.create_study(direction='maximize')\n",
    "study.optimize(objective, timeout=1000,n_trials=100)"
   ]
  },
  {
   "cell_type": "code",
   "execution_count": 26,
   "metadata": {},
   "outputs": [
    {
     "data": {
      "text/plain": [
       "LogisticRegression(C=3.1044375292893234, l1_ratio=0.6575925074474871,\n",
       "                   max_iter=10000, penalty='elasticnet', solver='saga')"
      ]
     },
     "execution_count": 26,
     "metadata": {},
     "output_type": "execute_result"
    }
   ],
   "source": [
    "params=study.best_trial.params\n",
    "clf_Log=LogisticRegression(max_iter=10000,penalty=\"elasticnet\",solver='saga', l1_ratio=params[\"l1_ratio\"],C=params[\"C\"])\n",
    "clf_Log.fit(train_feature, train_true)b"
   ]
  },
  {
   "cell_type": "code",
   "execution_count": 28,
   "metadata": {},
   "outputs": [
    {
     "name": "stdout",
     "output_type": "stream",
     "text": [
      "train :  0.9450899550224887\n",
      "valid :  0.8808095952023988\n",
      "test  :  0.8703148425787106\n"
     ]
    }
   ],
   "source": [
    "train_pred=clf_Log.predict(train_feature)\n",
    "valid_pred=clf_Log.predict(valid_feature)\n",
    "test_pred=clf_Log.predict(test_feature)\n",
    "\n",
    "print(\"train : \",f1_score(train_pred, train_true, average='micro'))\n",
    "print(\"valid : \",f1_score(valid_pred, valid_true, average='micro'))\n",
    "print(\"test  : \",f1_score(test_pred, test_true, average='micro'))"
   ]
  }
 ],
 "metadata": {
  "kernelspec": {
   "display_name": "Python 3",
   "language": "python",
   "name": "python3"
  },
  "language_info": {
   "codemirror_mode": {
    "name": "ipython",
    "version": 3
   },
   "file_extension": ".py",
   "mimetype": "text/x-python",
   "name": "python",
   "nbconvert_exporter": "python",
   "pygments_lexer": "ipython3",
   "version": "3.8.3"
  }
 },
 "nbformat": 4,
 "nbformat_minor": 4
}
