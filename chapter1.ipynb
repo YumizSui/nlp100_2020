{
 "cells": [
  {
   "cell_type": "markdown",
   "metadata": {},
   "source": [
    "### 00"
   ]
  },
  {
   "cell_type": "code",
   "execution_count": 2,
   "metadata": {
    "scrolled": true
   },
   "outputs": [
    {
     "name": "stdout",
     "output_type": "stream",
     "text": [
      "desserts\n"
     ]
    }
   ],
   "source": [
    "s=\"stressed\"\n",
    "result=s[::-1]\n",
    "print(result)"
   ]
  },
  {
   "cell_type": "markdown",
   "metadata": {},
   "source": [
    "### 01"
   ]
  },
  {
   "cell_type": "code",
   "execution_count": 3,
   "metadata": {},
   "outputs": [
    {
     "name": "stdout",
     "output_type": "stream",
     "text": [
      "パトカー\n"
     ]
    }
   ],
   "source": [
    "s=\"パタトクカシーー\"\n",
    "result=s[0::2]\n",
    "print(result)"
   ]
  },
  {
   "cell_type": "markdown",
   "metadata": {},
   "source": [
    "### 02"
   ]
  },
  {
   "cell_type": "code",
   "execution_count": 5,
   "metadata": {},
   "outputs": [
    {
     "name": "stdout",
     "output_type": "stream",
     "text": [
      "パタトクカシーー\n"
     ]
    }
   ],
   "source": [
    "s1=\"パトカー\"\n",
    "s2=\"タクシー\"\n",
    "result=\"\"\n",
    "for i in range(len(s1)):\n",
    "    result+=s1[i]+s2[i]\n",
    "print(result)"
   ]
  },
  {
   "cell_type": "markdown",
   "metadata": {},
   "source": [
    "### 03"
   ]
  },
  {
   "cell_type": "code",
   "execution_count": 6,
   "metadata": {
    "scrolled": true
   },
   "outputs": [
    {
     "name": "stdout",
     "output_type": "stream",
     "text": [
      "[3, 1, 4, 1, 6, 9, 2, 7, 5, 3, 5, 8, 9, 7, 10]\n"
     ]
    }
   ],
   "source": [
    "sentence=\"Now I need a drink, alcoholic of course, after the heavy lectures involving quantum mechanics.\"\n",
    "result=[len(t) for t in sentence.split(sep=\" \")]\n",
    "print(result)"
   ]
  },
  {
   "cell_type": "markdown",
   "metadata": {},
   "source": [
    "### 04"
   ]
  },
  {
   "cell_type": "code",
   "execution_count": 9,
   "metadata": {},
   "outputs": [
    {
     "name": "stdout",
     "output_type": "stream",
     "text": [
      "{'H': 1, 'He': 2, 'Li': 3, 'Be': 4, 'B': 5, 'C': 6, 'N': 7, 'O': 8, 'F': 9, 'Ne': 10, 'Na': 11, 'Mi': 12, 'Al': 13, 'Si': 14, 'P': 15, 'S': 16, 'Cl': 17, 'Ar': 18, 'K': 19, 'Ca': 20}\n"
     ]
    }
   ],
   "source": [
    "sentence=\"Hi He Lied Because Boron Could Not Oxidize Fluorine. New Nations Might Also Sign Peace Security Clause. Arthur King Can.\"\n",
    "ahead1=[1, 5, 6, 7, 8, 9, 15, 16, 19]\n",
    "result={}\n",
    "for i,word in enumerate(sentence.split(sep=\" \"),1):\n",
    "    if i in ahead1:\n",
    "        result[word[0]]=i\n",
    "    else:\n",
    "        result[word[:2]]=i\n",
    "print(result)"
   ]
  },
  {
   "cell_type": "markdown",
   "metadata": {},
   "source": [
    "### 05"
   ]
  },
  {
   "cell_type": "code",
   "execution_count": 16,
   "metadata": {},
   "outputs": [
    {
     "name": "stdout",
     "output_type": "stream",
     "text": [
      "word_bigram: [['I', 'am'], ['am', 'an'], ['an', 'NLPer']]\n",
      "chara_bigram: ['I ', ' a', 'am', 'm ', ' a', 'an', 'n ', ' N', 'NL', 'LP', 'Pe', 'er']\n"
     ]
    }
   ],
   "source": [
    "def gen_ngram(seplist,n):\n",
    "    return [seplist[i:i+n] for i in range(len(seplist)-n+1)]\n",
    "sentence=\"I am an NLPer\"\n",
    "n=2\n",
    "word_bigram=gen_ngram(sentence.split(sep=\" \"),2)\n",
    "chara_bigram=gen_ngram(sentence,2)\n",
    "print(f\"word_bigram: {word_bigram}\")\n",
    "print(f\"chara_bigram: {chara_bigram}\")"
   ]
  },
  {
   "cell_type": "markdown",
   "metadata": {},
   "source": [
    "### 06"
   ]
  },
  {
   "cell_type": "code",
   "execution_count": 18,
   "metadata": {},
   "outputs": [
    {
     "name": "stdout",
     "output_type": "stream",
     "text": [
      "X: {'pa', 'is', 'se', 'ap', 'ra', 'ad', 'ar', 'di'}\n",
      "Y: {'pa', 'ph', 'ap', 'ra', 'ag', 'ar', 'gr'}\n",
      "union: {'pa', 'is', 'se', 'ph', 'ag', 'ap', 'ra', 'ad', 'ar', 'gr', 'di'}\n",
      "intersection: {'pa', 'ar', 'ap', 'ra'}\n",
      "difference: {'ad', 'is', 'se', 'di'}\n",
      "True\n",
      "False\n"
     ]
    }
   ],
   "source": [
    "s1=\"paraparaparadise\"\n",
    "s2=\"paragraph\"\n",
    "X=set(gen_ngram(s1,2))\n",
    "Y=set(gen_ngram(s2,2))\n",
    "union=X.union(Y)\n",
    "intersection=X.intersection(Y)\n",
    "difference=X.difference(Y)\n",
    "\n",
    "print(f\"X: {X}\")\n",
    "print(f\"Y: {Y}\")\n",
    "print(f\"union: {union}\")\n",
    "print(f\"intersection: {intersection}\")\n",
    "print(f\"difference: {difference}\")\n",
    "print(\"se\" in X)\n",
    "print(\"se\" in Y)"
   ]
  },
  {
   "cell_type": "markdown",
   "metadata": {},
   "source": [
    "### 07"
   ]
  },
  {
   "cell_type": "code",
   "execution_count": 24,
   "metadata": {},
   "outputs": [
    {
     "name": "stdout",
     "output_type": "stream",
     "text": [
      "12時の気温は22.4\n"
     ]
    }
   ],
   "source": [
    "def YisZatX(x,y,z):\n",
    "    return f\"{x}時の{y}は{z}\"\n",
    "x=12\n",
    "y=\"気温\"\n",
    "z=22.4\n",
    "result=YisZatX(x,y,z)\n",
    "print(result)### 07"
   ]
  },
  {
   "cell_type": "markdown",
   "metadata": {},
   "source": [
    "### 08"
   ]
  },
  {
   "cell_type": "code",
   "execution_count": 23,
   "metadata": {},
   "outputs": [
    {
     "name": "stdout",
     "output_type": "stream",
     "text": [
      "hoge la  huga\n",
      "sltv oz  sftz\n",
      "hoge la  huga\n"
     ]
    }
   ],
   "source": [
    "def cipher(statement):\n",
    "    crypt=\"\"\n",
    "    for chara in statement:\n",
    "        if chara.islower():\n",
    "            crypt+=chr(219-ord(chara))\n",
    "        else:\n",
    "            crypt+=chara\n",
    "    return crypt\n",
    "statement=\"hoge la  huga\"\n",
    "print(statement)\n",
    "crypt=cipher(statement)\n",
    "print(crypt)\n",
    "decrypt=cipher(crypt)\n",
    "print(decrypt)"
   ]
  },
  {
   "cell_type": "markdown",
   "metadata": {},
   "source": [
    "### 09"
   ]
  },
  {
   "cell_type": "code",
   "execution_count": 25,
   "metadata": {},
   "outputs": [
    {
     "name": "stdout",
     "output_type": "stream",
     "text": [
      "I couldn't believe that I could actually understand what I was reading : the phenomenal power of the human mind .\n",
      "I cdunl'ot believe that I cloud atauclly unntrdsead what I was ridaeng : the pahenmenol peowr of the human mind .\n"
     ]
    }
   ],
   "source": [
    "import random\n",
    "def shuffle_statement(statement):\n",
    "    shuffled_statement=[]\n",
    "    for word in statement.split(sep=\" \"):\n",
    "        if len(word)>4:\n",
    "            shuffled_statement.append(word[0]+\"\".join(random.sample(word[1:-1], len(word)-2))+word[-1])\n",
    "        else:\n",
    "            shuffled_statement.append(word)\n",
    "    return \" \".join(shuffled_statement)\n",
    "statement=\"I couldn't believe that I could actually understand what I was reading : the phenomenal power of the human mind .\"\n",
    "print(statement)\n",
    "shuffled_statement=shuffle_statement(statement)\n",
    "print(shuffled_statement)"
   ]
  }
 ],
 "metadata": {
  "kernelspec": {
   "display_name": "Python 3",
   "language": "python",
   "name": "python3"
  },
  "language_info": {
   "codemirror_mode": {
    "name": "ipython",
    "version": 3
   },
   "file_extension": ".py",
   "mimetype": "text/x-python",
   "name": "python",
   "nbconvert_exporter": "python",
   "pygments_lexer": "ipython3",
   "version": "3.7.3"
  }
 },
 "nbformat": 4,
 "nbformat_minor": 2
}
