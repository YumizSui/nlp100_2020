{
 "cells": [
  {
   "cell_type": "markdown",
   "metadata": {},
   "source": [
    "言語処理100本ノック\n",
    "\n",
    "https://nlp100.github.io/ja/\n",
    "\n",
    "\n",
    "主に答え合わせ\n",
    "\n",
    "https://qiita.com/segavvy/items/fb50ba8097d59475f760\n",
    "\n",
    "用語集\n",
    "\n",
    "http://www.jaist.ac.jp/project/NLP_Portal/doc/glossary/index.html\n",
    "\n"
   ]
  },
  {
   "cell_type": "code",
   "execution_count": 1,
   "metadata": {},
   "outputs": [],
   "source": [
    "import MeCab"
   ]
  },
  {
   "cell_type": "code",
   "execution_count": 2,
   "metadata": {},
   "outputs": [],
   "source": [
    "import CaboCha"
   ]
  },
  {
   "cell_type": "code",
   "execution_count": 1,
   "metadata": {},
   "outputs": [],
   "source": [
    "import re"
   ]
  },
  {
   "cell_type": "code",
   "execution_count": 2,
   "metadata": {},
   "outputs": [],
   "source": [
    "import pandas as pd"
   ]
  },
  {
   "cell_type": "code",
   "execution_count": 7,
   "metadata": {
    "scrolled": false
   },
   "outputs": [
    {
     "name": "stdout",
     "output_type": "stream",
     "text": [
      "x: -8.155, score: 103.115\n"
     ]
    },
    {
     "name": "stderr",
     "output_type": "stream",
     "text": [
      "[I 2020-08-24 18:24:31,868] Trial 0 finished with value: 103.11515368542082 and parameters: {'x': -8.154563195205435}. Best is trial 0 with value: 103.11515368542082.\n"
     ]
    },
    {
     "name": "stdout",
     "output_type": "stream",
     "text": [
      "x: -8.762, score: 115.827\n"
     ]
    },
    {
     "name": "stderr",
     "output_type": "stream",
     "text": [
      "[I 2020-08-24 18:24:31,873] Trial 1 finished with value: 115.82722733722416 and parameters: {'x': -8.762305855959687}. Best is trial 0 with value: 103.11515368542082.\n"
     ]
    }
   ],
   "source": [
    "def objective(trial):\n",
    "    x = trial.suggest_uniform('x', -10, 10)\n",
    "    score = (x - 2) ** 2\n",
    "    print('x: %1.3f, score: %1.3f' % (x, score))\n",
    "    return score\n",
    "\n",
    "study = optuna.create_study()\n",
    "study.optimize(objective, n_trials=2)"
   ]
  },
  {
   "cell_type": "code",
   "execution_count": 38,
   "metadata": {},
   "outputs": [],
   "source": [
    "newsdf=pd.read_csv(\"src/newsCorpora.csv\",header=None,sep=\"\\t\", names=['ID', 'TITLE', 'URL', 'PUBLISHER', 'CATEGORY', 'STORY', 'HOSTNAME', 'TIMESTAMP'])\n",
    "newsdf=newsdf[newsdf.PUBLISHER.isin([\"Reuters\",\"Huffington Post\",\"Businessweek\",\"Contactmusic.com\",\"Daily Mail\"])][[\"CATEGORY\",\"TITLE\"]]\n",
    "train,test=train_test_split(newsdf,test_size=0.2,stratify=newsdf.CATEGORY)\n",
    "valid,test=train_test_split(test,test_size=0.5,stratify=test.CATEGORY)\n",
    "train.to_csv('src/train.txt', index=False, sep=\"\\t\",header=None)\n",
    "valid.to_csv('src/valid.txt', index=False, sep=\"\\t\",header=None)\n",
    "test.to_csv('src/test.txt', index=False, sep=\"\\t\",header=None)"
   ]
  },
  {
   "cell_type": "code",
   "execution_count": 368,
   "metadata": {},
   "outputs": [],
   "source": [
    "train_feature=pd.read_csv(\"src/train.feature.txt\",sep=\"\\t\")\n",
    "valid_feature=pd.read_csv(\"src/valid.feature.txt\",sep=\"\\t\")\n",
    "test_feature=pd.read_csv(\"src/test.feature.txt\",sep=\"\\t\")"
   ]
  },
  {
   "cell_type": "code",
   "execution_count": 5,
   "metadata": {},
   "outputs": [],
   "source": [
    "import optuna"
   ]
  }
 ],
 "metadata": {
  "kernelspec": {
   "display_name": "Python 3",
   "language": "python",
   "name": "python3"
  },
  "language_info": {
   "codemirror_mode": {
    "name": "ipython",
    "version": 3
   },
   "file_extension": ".py",
   "mimetype": "text/x-python",
   "name": "python",
   "nbconvert_exporter": "python",
   "pygments_lexer": "ipython3",
   "version": "3.8.3"
  }
 },
 "nbformat": 4,
 "nbformat_minor": 2
}
