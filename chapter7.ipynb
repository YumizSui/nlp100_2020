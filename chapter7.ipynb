{
 "cells": [
  {
   "cell_type": "code",
   "execution_count": 1,
   "metadata": {},
   "outputs": [],
   "source": [
    "import word2vec\n",
    "from gensim.models import KeyedVectors"
   ]
  },
  {
   "cell_type": "markdown",
   "metadata": {},
   "source": [
    "### 60"
   ]
  },
  {
   "cell_type": "code",
   "execution_count": 2,
   "metadata": {},
   "outputs": [],
   "source": [
    "model = KeyedVectors.load_word2vec_format(\"src/GoogleNews-vectors-negative300.bin.gz\", binary=True)"
   ]
  },
  {
   "cell_type": "code",
   "execution_count": 3,
   "metadata": {
    "scrolled": true
   },
   "outputs": [
    {
     "data": {
      "text/plain": [
       "array([-3.61328125e-02, -4.83398438e-02,  2.35351562e-01,  1.74804688e-01,\n",
       "       -1.46484375e-01, -7.42187500e-02, -1.01562500e-01, -7.71484375e-02,\n",
       "        1.09375000e-01, -5.71289062e-02, -1.48437500e-01, -6.00585938e-02,\n",
       "        1.74804688e-01, -7.71484375e-02,  2.58789062e-02, -7.66601562e-02,\n",
       "       -3.80859375e-02,  1.35742188e-01,  3.75976562e-02, -4.19921875e-02,\n",
       "       -3.56445312e-02,  5.34667969e-02,  3.68118286e-04, -1.66992188e-01,\n",
       "       -1.17187500e-01,  1.41601562e-01, -1.69921875e-01, -6.49414062e-02,\n",
       "       -1.66992188e-01,  1.00585938e-01,  1.15722656e-01, -2.18750000e-01,\n",
       "       -9.86328125e-02, -2.56347656e-02,  1.23046875e-01, -3.54003906e-02,\n",
       "       -1.58203125e-01, -1.60156250e-01,  2.94189453e-02,  8.15429688e-02,\n",
       "        6.88476562e-02,  1.87500000e-01,  6.49414062e-02,  1.15234375e-01,\n",
       "       -2.27050781e-02,  3.32031250e-01, -3.27148438e-02,  1.77734375e-01,\n",
       "       -2.08007812e-01,  4.54101562e-02, -1.23901367e-02,  1.19628906e-01,\n",
       "        7.44628906e-03, -9.03320312e-03,  1.14257812e-01,  1.69921875e-01,\n",
       "       -2.38281250e-01, -2.79541016e-02, -1.21093750e-01,  2.47802734e-02,\n",
       "        7.71484375e-02, -2.81982422e-02, -4.71191406e-02,  1.78222656e-02,\n",
       "       -1.23046875e-01, -5.32226562e-02,  2.68554688e-02, -3.11279297e-02,\n",
       "       -5.59082031e-02, -5.00488281e-02, -3.73535156e-02,  1.25976562e-01,\n",
       "        5.61523438e-02,  1.51367188e-01,  4.29687500e-02, -2.08007812e-01,\n",
       "       -4.78515625e-02,  2.78320312e-02,  1.81640625e-01,  2.20703125e-01,\n",
       "       -3.61328125e-02, -8.39843750e-02, -3.69548798e-05, -9.52148438e-02,\n",
       "       -1.25000000e-01, -1.95312500e-01, -1.50390625e-01, -4.15039062e-02,\n",
       "        1.31835938e-01,  1.17675781e-01,  1.91650391e-02,  5.51757812e-02,\n",
       "       -9.42382812e-02, -1.08886719e-01,  7.32421875e-02, -1.15234375e-01,\n",
       "        8.93554688e-02, -1.40625000e-01,  1.45507812e-01,  4.49218750e-02,\n",
       "       -1.10473633e-02, -1.62353516e-02,  4.05883789e-03,  3.75976562e-02,\n",
       "       -6.98242188e-02, -5.46875000e-02,  2.17285156e-02, -9.47265625e-02,\n",
       "        4.24804688e-02,  1.81884766e-02, -1.73339844e-02,  4.63867188e-02,\n",
       "       -1.42578125e-01,  1.99218750e-01,  1.10839844e-01,  2.58789062e-02,\n",
       "       -7.08007812e-02, -5.54199219e-02,  3.45703125e-01,  1.61132812e-01,\n",
       "       -2.44140625e-01, -2.59765625e-01, -9.71679688e-02,  8.00781250e-02,\n",
       "       -8.78906250e-02, -7.22656250e-02,  1.42578125e-01, -8.54492188e-02,\n",
       "       -3.18359375e-01,  8.30078125e-02,  6.34765625e-02,  1.64062500e-01,\n",
       "       -1.92382812e-01, -1.17675781e-01, -5.41992188e-02, -1.56250000e-01,\n",
       "       -1.21582031e-01, -4.95605469e-02,  1.20117188e-01, -3.83300781e-02,\n",
       "        5.51757812e-02, -8.97216797e-03,  4.32128906e-02,  6.93359375e-02,\n",
       "        8.93554688e-02,  2.53906250e-01,  1.65039062e-01,  1.64062500e-01,\n",
       "       -1.41601562e-01,  4.58984375e-02,  1.97265625e-01, -8.98437500e-02,\n",
       "        3.90625000e-02, -1.51367188e-01, -8.60595703e-03, -1.17675781e-01,\n",
       "       -1.97265625e-01, -1.12792969e-01,  1.29882812e-01,  1.96289062e-01,\n",
       "        1.56402588e-03,  3.93066406e-02,  2.17773438e-01, -1.43554688e-01,\n",
       "        6.03027344e-02, -1.35742188e-01,  1.16210938e-01, -1.59912109e-02,\n",
       "        2.79296875e-01,  1.46484375e-01, -1.19628906e-01,  1.76757812e-01,\n",
       "        1.28906250e-01, -1.49414062e-01,  6.93359375e-02, -1.72851562e-01,\n",
       "        9.22851562e-02,  1.33056641e-02, -2.00195312e-01, -9.76562500e-02,\n",
       "       -1.65039062e-01, -2.46093750e-01, -2.35595703e-02, -2.11914062e-01,\n",
       "        1.84570312e-01, -1.85546875e-02,  2.16796875e-01,  5.05371094e-02,\n",
       "        2.02636719e-02,  4.25781250e-01,  1.28906250e-01, -2.77099609e-02,\n",
       "        1.29882812e-01, -1.15722656e-01, -2.05078125e-02,  1.49414062e-01,\n",
       "        7.81250000e-03, -2.05078125e-01, -8.05664062e-02, -2.67578125e-01,\n",
       "       -2.29492188e-02, -8.20312500e-02,  8.64257812e-02,  7.61718750e-02,\n",
       "       -3.66210938e-02,  5.22460938e-02, -1.22070312e-01, -1.44042969e-02,\n",
       "       -2.69531250e-01,  8.44726562e-02, -2.52685547e-02, -2.96630859e-02,\n",
       "       -1.68945312e-01,  1.93359375e-01, -1.08398438e-01,  1.94091797e-02,\n",
       "       -1.80664062e-01,  1.93359375e-01, -7.08007812e-02,  5.85937500e-02,\n",
       "       -1.01562500e-01, -1.31835938e-01,  7.51953125e-02, -7.66601562e-02,\n",
       "        3.37219238e-03, -8.59375000e-02,  1.25000000e-01,  2.92968750e-02,\n",
       "        1.70898438e-01, -9.37500000e-02, -1.09375000e-01, -2.50244141e-02,\n",
       "        2.11914062e-01, -4.44335938e-02,  6.12792969e-02,  2.62451172e-02,\n",
       "       -1.77734375e-01,  1.23046875e-01, -7.42187500e-02, -1.67968750e-01,\n",
       "       -1.08886719e-01, -9.04083252e-04, -7.37304688e-02,  5.49316406e-02,\n",
       "        6.03027344e-02,  8.39843750e-02,  9.17968750e-02, -1.32812500e-01,\n",
       "        1.22070312e-01, -8.78906250e-03,  1.19140625e-01, -1.94335938e-01,\n",
       "       -6.64062500e-02, -2.07031250e-01,  7.37304688e-02,  8.93554688e-02,\n",
       "        1.81884766e-02, -1.20605469e-01, -2.61230469e-02,  2.67333984e-02,\n",
       "        7.76367188e-02, -8.30078125e-02,  6.78710938e-02, -3.54003906e-02,\n",
       "        3.10546875e-01, -2.42919922e-02, -1.41601562e-01, -2.08007812e-01,\n",
       "       -4.57763672e-03, -6.54296875e-02, -4.95605469e-02,  2.22656250e-01,\n",
       "        1.53320312e-01, -1.38671875e-01, -5.24902344e-02,  4.24804688e-02,\n",
       "       -2.38281250e-01,  1.56250000e-01,  5.83648682e-04, -1.20605469e-01,\n",
       "       -9.22851562e-02, -4.44335938e-02,  3.61328125e-02, -1.86767578e-02,\n",
       "       -8.25195312e-02, -8.25195312e-02, -4.05273438e-02,  1.19018555e-02,\n",
       "        1.69921875e-01, -2.80761719e-02,  3.03649902e-03,  9.32617188e-02,\n",
       "       -8.49609375e-02,  1.57470703e-02,  7.03125000e-02,  1.62353516e-02,\n",
       "       -2.27050781e-02,  3.51562500e-02,  2.47070312e-01, -2.67333984e-02],\n",
       "      dtype=float32)"
      ]
     },
     "execution_count": 3,
     "metadata": {},
     "output_type": "execute_result"
    }
   ],
   "source": [
    "model[\"United_States\"]"
   ]
  },
  {
   "cell_type": "markdown",
   "metadata": {},
   "source": [
    "### 61"
   ]
  },
  {
   "cell_type": "code",
   "execution_count": 4,
   "metadata": {},
   "outputs": [],
   "source": [
    "import numpy as np"
   ]
  },
  {
   "cell_type": "code",
   "execution_count": 31,
   "metadata": {
    "scrolled": true
   },
   "outputs": [
    {
     "data": {
      "text/plain": [
       "0.73107743"
      ]
     },
     "execution_count": 31,
     "metadata": {},
     "output_type": "execute_result"
    }
   ],
   "source": [
    "model.similarity(\"United_States\",\"U.S.\")"
   ]
  },
  {
   "cell_type": "code",
   "execution_count": 11,
   "metadata": {},
   "outputs": [],
   "source": [
    "def cossim(x,y):\n",
    "    return np.dot(x,y)/np.linalg.norm(x)/np.linalg.norm(y)"
   ]
  },
  {
   "cell_type": "code",
   "execution_count": 12,
   "metadata": {},
   "outputs": [
    {
     "data": {
      "text/plain": [
       "0.73107743"
      ]
     },
     "execution_count": 12,
     "metadata": {},
     "output_type": "execute_result"
    }
   ],
   "source": [
    "cossim(model[\"United_States\"],model[\"U.S.\"])"
   ]
  },
  {
   "cell_type": "code",
   "execution_count": 37,
   "metadata": {
    "scrolled": true
   },
   "outputs": [
    {
     "data": {
      "text/plain": [
       "0.65109575"
      ]
     },
     "execution_count": 37,
     "metadata": {},
     "output_type": "execute_result"
    }
   ],
   "source": [
    "cossim(model[\"king\"],model[\"queen\"])"
   ]
  },
  {
   "cell_type": "code",
   "execution_count": 36,
   "metadata": {},
   "outputs": [
    {
     "data": {
      "text/plain": [
       "0.7300517"
      ]
     },
     "execution_count": 36,
     "metadata": {},
     "output_type": "execute_result"
    }
   ],
   "source": [
    "cossim(model[\"king\"]-model[\"man\"]+model[\"woman\"],model[\"queen\"])"
   ]
  },
  {
   "cell_type": "markdown",
   "metadata": {},
   "source": [
    "### 62"
   ]
  },
  {
   "cell_type": "code",
   "execution_count": 39,
   "metadata": {},
   "outputs": [
    {
     "data": {
      "text/plain": [
       "[('Unites_States', 0.7877248525619507),\n",
       " ('Untied_States', 0.7541370391845703),\n",
       " ('United_Sates', 0.74007248878479),\n",
       " ('U.S.', 0.7310774326324463),\n",
       " ('theUnited_States', 0.6404393911361694),\n",
       " ('America', 0.6178410053253174),\n",
       " ('UnitedStates', 0.6167312264442444),\n",
       " ('Europe', 0.6132988929748535),\n",
       " ('countries', 0.6044804453849792),\n",
       " ('Canada', 0.6019070148468018)]"
      ]
     },
     "execution_count": 39,
     "metadata": {},
     "output_type": "execute_result"
    }
   ],
   "source": [
    "model.most_similar(positive=[\"United_States\"],topn=10)"
   ]
  },
  {
   "cell_type": "markdown",
   "metadata": {},
   "source": [
    "### 63"
   ]
  },
  {
   "cell_type": "code",
   "execution_count": 53,
   "metadata": {},
   "outputs": [
    {
     "data": {
      "text/plain": [
       "[('Greece', 0.6898480653762817),\n",
       " ('Aristeidis_Grigoriadis', 0.5606849193572998),\n",
       " ('Ioannis_Drymonakos', 0.555290937423706),\n",
       " ('Greeks', 0.5450686812400818),\n",
       " ('Ioannis_Christou', 0.5400862693786621),\n",
       " ('Hrysopiyi_Devetzi', 0.5248445272445679),\n",
       " ('Heraklio', 0.5207759141921997),\n",
       " ('Athens_Greece', 0.516880989074707),\n",
       " ('Lithuania', 0.5166865587234497),\n",
       " ('Iraklion', 0.5146791338920593)]"
      ]
     },
     "execution_count": 53,
     "metadata": {},
     "output_type": "execute_result"
    }
   ],
   "source": []
  },
  {
   "cell_type": "code",
   "execution_count": 56,
   "metadata": {},
   "outputs": [
    {
     "data": {
      "text/plain": [
       "[('queen', 0.7118192911148071),\n",
       " ('monarch', 0.6189674139022827),\n",
       " ('princess', 0.5902431607246399),\n",
       " ('crown_prince', 0.5499460697174072),\n",
       " ('prince', 0.5377321243286133),\n",
       " ('kings', 0.5236844420433044),\n",
       " ('Queen_Consort', 0.5235945582389832),\n",
       " ('queens', 0.5181134343147278),\n",
       " ('sultan', 0.5098593235015869),\n",
       " ('monarchy', 0.5087411999702454)]"
      ]
     },
     "execution_count": 56,
     "metadata": {},
     "output_type": "execute_result"
    }
   ],
   "source": [
    "model.most_similar(positive=[\"king\", \"woman\"],negative=[\"man\"],topn=10)"
   ]
  },
  {
   "cell_type": "markdown",
   "metadata": {},
   "source": [
    "### 64"
   ]
  },
  {
   "cell_type": "code",
   "execution_count": 57,
   "metadata": {},
   "outputs": [],
   "source": [
    "import pandas as pd"
   ]
  },
  {
   "cell_type": "code",
   "execution_count": 69,
   "metadata": {},
   "outputs": [],
   "source": [
    "with open(\"src/questions-words.txt\") as f:\n",
    "    questions=[]\n",
    "    for line in f:\n",
    "        if line[0]==\":\":\n",
    "            continue\n",
    "        else:\n",
    "            questions.append(line.replace(\"\\n\",\"\").split(sep=\" \"))"
   ]
  },
  {
   "cell_type": "code",
   "execution_count": 74,
   "metadata": {},
   "outputs": [
    {
     "name": "stdout",
     "output_type": "stream",
     "text": [
      "Athens Greece Baghdad Iraq \t:\t [('Iraqi', 0.6351871490478516)]\n",
      "Athens Greece Bangkok Thailand \t:\t [('Thailand', 0.7137669324874878)]\n",
      "Athens Greece Beijing China \t:\t [('China', 0.7235777974128723)]\n",
      "Athens Greece Berlin Germany \t:\t [('Germany', 0.6734622716903687)]\n",
      "Athens Greece Bern Switzerland \t:\t [('Switzerland', 0.4919748306274414)]\n",
      "Athens Greece Cairo Egypt \t:\t [('Egypt', 0.7527809739112854)]\n",
      "Athens Greece Canberra Australia \t:\t [('Australia', 0.583732545375824)]\n",
      "Athens Greece Hanoi Vietnam \t:\t [('Viet_Nam', 0.6276341676712036)]\n",
      "Athens Greece Havana Cuba \t:\t [('Cuba', 0.6460991501808167)]\n",
      "Athens Greece Helsinki Finland \t:\t [('Finland', 0.6899983286857605)]\n",
      "Athens Greece Islamabad Pakistan \t:\t [('Pakistan', 0.7233326435089111)]\n",
      "Athens Greece Kabul Afghanistan \t:\t [('Afghan', 0.6160915493965149)]\n",
      "Athens Greece London England \t:\t [('Britain', 0.5646188259124756)]\n",
      "Athens Greece Madrid Spain \t:\t [('Spain', 0.703661322593689)]\n",
      "Athens Greece Moscow Russia \t:\t [('Russia', 0.7382972240447998)]\n",
      "Athens Greece Oslo Norway \t:\t [('Norway', 0.6470743417739868)]\n",
      "Athens Greece Ottawa Canada \t:\t [('Canada', 0.5912168622016907)]\n",
      "Athens Greece Paris France \t:\t [('France', 0.6724624037742615)]\n",
      "Athens Greece Rome Italy \t:\t [('Italy', 0.682619035243988)]\n",
      "Athens Greece Stockholm Sweden \t:\t [('Sweden', 0.675724446773529)]\n",
      "Athens Greece Tehran Iran \t:\t [('Iran', 0.7671369314193726)]\n",
      "Athens Greece Tokyo Japan \t:\t [('Japan', 0.7256094217300415)]\n",
      "Baghdad Iraq Bangkok Thailand \t:\t [('Thailand', 0.6745355129241943)]\n",
      "Baghdad Iraq Beijing China \t:\t [('China', 0.6915649175643921)]\n",
      "Baghdad Iraq Berlin Germany \t:\t [('Germany', 0.6057408452033997)]\n",
      "Baghdad Iraq Bern Switzerland \t:\t [('coach_Bobby_Curlings', 0.4347156882286072)]\n",
      "Baghdad Iraq Cairo Egypt \t:\t [('Egypt', 0.6848487854003906)]\n",
      "Baghdad Iraq Canberra Australia \t:\t [('Mr_Rudd', 0.6186108589172363)]\n",
      "Baghdad Iraq Hanoi Vietnam \t:\t [('Vietnam', 0.7493551969528198)]\n",
      "Baghdad Iraq Havana Cuba \t:\t [('Cuba', 0.713325560092926)]\n",
      "Baghdad Iraq Helsinki Finland \t:\t [('Finland', 0.5972561240196228)]\n",
      "Baghdad Iraq Islamabad Pakistan \t:\t [('Pakistan', 0.7466936707496643)]\n",
      "Baghdad Iraq Kabul Afghanistan \t:\t [('Afghanistan', 0.8359359502792358)]\n",
      "Baghdad Iraq London England \t:\t [('Britain', 0.5853632688522339)]\n",
      "Baghdad Iraq Madrid Spain \t:\t [('Spain', 0.6144676804542542)]\n",
      "Baghdad Iraq Moscow Russia \t:\t [('Russia', 0.7236210703849792)]\n",
      "Baghdad Iraq Oslo Norway \t:\t [('Norway', 0.5987579822540283)]\n",
      "Baghdad Iraq Ottawa Canada \t:\t [('Prime_Minister_Jean_Chrétien', 0.5704855918884277)]\n",
      "Baghdad Iraq Paris France \t:\t [('France', 0.6203721165657043)]\n",
      "Baghdad Iraq Rome Italy \t:\t [('Italy', 0.5362657904624939)]\n",
      "Baghdad Iraq Stockholm Sweden \t:\t [('Sweden', 0.5907803773880005)]\n",
      "Baghdad Iraq Tehran Iran \t:\t [('Iran', 0.811498761177063)]\n",
      "Baghdad Iraq Tokyo Japan \t:\t [('Japan', 0.7056295871734619)]\n",
      "Baghdad Iraq Athens Greece \t:\t [('Greece', 0.5793530344963074)]\n",
      "Bangkok Thailand Beijing China \t:\t [('China', 0.8263983726501465)]\n",
      "Bangkok Thailand Berlin Germany \t:\t [('Germany', 0.729519784450531)]\n",
      "Bangkok Thailand Bern Switzerland \t:\t [('Switzerland', 0.5047770142555237)]\n",
      "Bangkok Thailand Cairo Egypt \t:\t [('Egypt', 0.8118714094161987)]\n",
      "Bangkok Thailand Canberra Australia \t:\t [('Australia', 0.7154911756515503)]\n",
      "Bangkok Thailand Hanoi Vietnam \t:\t [('Viet_Nam', 0.7700591087341309)]\n",
      "Bangkok Thailand Havana Cuba \t:\t [('Cuba', 0.8007405996322632)]\n",
      "Bangkok Thailand Helsinki Finland \t:\t [('Finland', 0.7515273094177246)]\n",
      "Bangkok Thailand Islamabad Pakistan \t:\t [('Pakistan', 0.797675371170044)]\n",
      "Bangkok Thailand Kabul Afghanistan \t:\t [('Afghanistan', 0.6666889786720276)]\n",
      "Bangkok Thailand London England \t:\t [('Britain', 0.6576253175735474)]\n",
      "Bangkok Thailand Madrid Spain \t:\t [('Spain', 0.765529990196228)]\n",
      "Bangkok Thailand Moscow Russia \t:\t [('Russia', 0.8613656759262085)]\n",
      "Bangkok Thailand Oslo Norway \t:\t [('Norway', 0.7142738103866577)]\n",
      "Bangkok Thailand Ottawa Canada \t:\t [('Canada', 0.6684818267822266)]\n",
      "Bangkok Thailand Paris France \t:\t [('France', 0.7388159036636353)]\n",
      "Bangkok Thailand Rome Italy \t:\t [('Italy', 0.6863130331039429)]\n",
      "Bangkok Thailand Stockholm Sweden \t:\t [('Sweden', 0.7587180137634277)]\n",
      "Bangkok Thailand Tehran Iran \t:\t [('Iran', 0.8363437652587891)]\n",
      "Bangkok Thailand Tokyo Japan \t:\t [('Japan', 0.8282636404037476)]\n",
      "Bangkok Thailand Athens Greece \t:\t [('Greece', 0.6765021681785583)]\n",
      "Bangkok Thailand Baghdad Iraq \t:\t [('Iraqi', 0.6885136365890503)]\n",
      "Beijing China Berlin Germany \t:\t [('Germany', 0.7232257723808289)]\n",
      "Beijing China Bern Switzerland \t:\t [('Bern_NC', 0.4655816853046417)]\n",
      "Beijing China Cairo Egypt \t:\t [('Egypt', 0.7653076648712158)]\n",
      "Beijing China Canberra Australia \t:\t [('Australia', 0.7234394550323486)]\n",
      "Beijing China Hanoi Vietnam \t:\t [('Viet_Nam', 0.7793146371841431)]\n",
      "Beijing China Havana Cuba \t:\t [('Cuba', 0.7189657092094421)]\n",
      "Beijing China Helsinki Finland \t:\t [('Finland', 0.7141393423080444)]\n",
      "Beijing China Islamabad Pakistan \t:\t [('Pakistan', 0.8062406778335571)]\n",
      "Beijing China Kabul Afghanistan \t:\t [('Afghan', 0.6770888566970825)]\n",
      "Beijing China London England \t:\t [('UK', 0.6304795742034912)]\n",
      "Beijing China Madrid Spain \t:\t [('Spain', 0.7320305109024048)]\n",
      "Beijing China Moscow Russia \t:\t [('Russia', 0.8579801321029663)]\n",
      "Beijing China Oslo Norway \t:\t [('Norway', 0.6628976464271545)]\n",
      "Beijing China Ottawa Canada \t:\t [('Canada', 0.6537172794342041)]\n",
      "Beijing China Paris France \t:\t [('France', 0.7109121084213257)]\n",
      "Beijing China Rome Italy \t:\t [('Italy', 0.6637486219406128)]\n",
      "Beijing China Stockholm Sweden \t:\t [('Sweden', 0.7026647329330444)]\n",
      "Beijing China Tehran Iran \t:\t [('Iran', 0.8262746334075928)]\n",
      "Beijing China Tokyo Japan \t:\t [('Japan', 0.8236701488494873)]\n",
      "Beijing China Athens Greece \t:\t [('Greece', 0.6515148282051086)]\n",
      "Beijing China Baghdad Iraq \t:\t [('Mosul', 0.7041885852813721)]\n",
      "Beijing China Bangkok Thailand \t:\t [('Thailand', 0.8047244548797607)]\n",
      "Berlin Germany Bern Switzerland \t:\t [('Switzerland', 0.6095317602157593)]\n",
      "Berlin Germany Cairo Egypt \t:\t [('Egypt', 0.6912307143211365)]\n",
      "Berlin Germany Canberra Australia \t:\t [('Australia', 0.7485095262527466)]\n",
      "Berlin Germany Hanoi Vietnam \t:\t [('Viet_Nam', 0.6875089406967163)]\n",
      "Berlin Germany Havana Cuba \t:\t [('Cuba', 0.6961179971694946)]\n",
      "Berlin Germany Helsinki Finland \t:\t [('Finland', 0.7654494047164917)]\n",
      "Berlin Germany Islamabad Pakistan \t:\t [('Pakistan', 0.7597626447677612)]\n",
      "Berlin Germany Kabul Afghanistan \t:\t [('Afghan', 0.6450541019439697)]\n",
      "Berlin Germany London England \t:\t [('UK', 0.6597434878349304)]\n",
      "Berlin Germany Madrid Spain \t:\t [('Spain', 0.7768210172653198)]\n",
      "Berlin Germany Moscow Russia \t:\t [('Russia', 0.810738205909729)]\n",
      "Berlin Germany Oslo Norway \t:\t [('Norway', 0.7291736602783203)]\n",
      "Berlin Germany Ottawa Canada \t:\t [('Canada', 0.6773227453231812)]\n",
      "Berlin Germany Paris France \t:\t [('France', 0.7884093523025513)]\n",
      "Berlin Germany Rome Italy \t:\t [('Italy', 0.7509608268737793)]\n",
      "Berlin Germany Stockholm Sweden \t:\t [('Sweden', 0.8022658824920654)]\n",
      "Berlin Germany Tehran Iran \t:\t [('Iran', 0.7747756838798523)]\n",
      "Berlin Germany Tokyo Japan \t:\t [('Japan', 0.7969788312911987)]\n",
      "Berlin Germany Athens Greece \t:\t [('Greece', 0.6390471458435059)]\n",
      "Berlin Germany Baghdad Iraq \t:\t [('Mosul', 0.686406135559082)]\n",
      "Berlin Germany Bangkok Thailand \t:\t [('Thailand', 0.7680834531784058)]\n",
      "Berlin Germany Beijing China \t:\t [('China', 0.775585412979126)]\n",
      "Bern Switzerland Cairo Egypt \t:\t [('Egypt', 0.5989274382591248)]\n",
      "Bern Switzerland Canberra Australia \t:\t [('Australia', 0.6860506534576416)]\n",
      "Bern Switzerland Hanoi Vietnam \t:\t [('Viet_Nam', 0.5609370470046997)]\n",
      "Bern Switzerland Havana Cuba \t:\t [('Cuba', 0.6295959949493408)]\n",
      "Bern Switzerland Helsinki Finland \t:\t [('Finland', 0.6637659072875977)]\n",
      "Bern Switzerland Islamabad Pakistan \t:\t [('Pakistan', 0.6708023548126221)]\n",
      "Bern Switzerland Kabul Afghanistan \t:\t [('Afghanistan', 0.5338184237480164)]\n",
      "Bern Switzerland London England \t:\t [('EURASIAN_NATURAL_RESOURCES_CORP.', 0.5463826656341553)]\n",
      "Bern Switzerland Madrid Spain \t:\t [('Spain', 0.6423717737197876)]\n",
      "Bern Switzerland Moscow Russia \t:\t [('Russia', 0.6487588882446289)]\n",
      "Bern Switzerland Oslo Norway \t:\t [('Norway', 0.6448378562927246)]\n",
      "Bern Switzerland Ottawa Canada \t:\t [('Canada', 0.6468112468719482)]\n",
      "Bern Switzerland Paris France \t:\t [('France', 0.6129553318023682)]\n",
      "Bern Switzerland Rome Italy \t:\t [('Italy', 0.6486326456069946)]\n"
     ]
    },
    {
     "name": "stdout",
     "output_type": "stream",
     "text": [
      "Bern Switzerland Stockholm Sweden \t:\t [('Sweden', 0.684966504573822)]\n",
      "Bern Switzerland Tehran Iran \t:\t [('Iran', 0.6813835501670837)]\n",
      "Bern Switzerland Tokyo Japan \t:\t [('Japan', 0.6434275507926941)]\n",
      "Bern Switzerland Athens Greece \t:\t [('Greece', 0.5800099968910217)]\n",
      "Bern Switzerland Baghdad Iraq \t:\t [('Iraqi', 0.5730241537094116)]\n",
      "Bern Switzerland Bangkok Thailand \t:\t [('Thailand', 0.6617313623428345)]\n",
      "Bern Switzerland Beijing China \t:\t [('China', 0.6225298047065735)]\n",
      "Bern Switzerland Berlin Germany \t:\t [('Germany', 0.7138351798057556)]\n",
      "Cairo Egypt Canberra Australia \t:\t [('Australia', 0.6811555027961731)]\n",
      "Cairo Egypt Hanoi Vietnam \t:\t [('Viet_Nam', 0.7589391469955444)]\n",
      "Cairo Egypt Havana Cuba \t:\t [('Cuba', 0.7639015913009644)]\n",
      "Cairo Egypt Helsinki Finland \t:\t [('Finland', 0.7256742715835571)]\n",
      "Cairo Egypt Islamabad Pakistan \t:\t [('Pakistan', 0.8155920505523682)]\n",
      "Cairo Egypt Kabul Afghanistan \t:\t [('Afghan', 0.6829640865325928)]\n",
      "Cairo Egypt London England \t:\t [('Britain', 0.6454266905784607)]\n",
      "Cairo Egypt Madrid Spain \t:\t [('Spain', 0.7469133138656616)]\n",
      "Cairo Egypt Moscow Russia \t:\t [('Russia', 0.842657208442688)]\n",
      "Cairo Egypt Oslo Norway \t:\t [('Norway', 0.6975642442703247)]\n",
      "Cairo Egypt Ottawa Canada \t:\t [('Canada', 0.6659149527549744)]\n",
      "Cairo Egypt Paris France \t:\t [('France', 0.7114197611808777)]\n",
      "Cairo Egypt Rome Italy \t:\t [('Italy', 0.6812829375267029)]\n",
      "Cairo Egypt Stockholm Sweden \t:\t [('Sweden', 0.7365162372589111)]\n",
      "Cairo Egypt Tehran Iran \t:\t [('Iran', 0.8531845808029175)]\n",
      "Cairo Egypt Tokyo Japan \t:\t [('Japan', 0.7753520011901855)]\n",
      "Cairo Egypt Athens Greece \t:\t [('Greece', 0.7355355024337769)]\n",
      "Cairo Egypt Baghdad Iraq \t:\t [('Iraqi', 0.7208045721054077)]\n",
      "Cairo Egypt Bangkok Thailand \t:\t [('Thailand', 0.8275743722915649)]\n",
      "Cairo Egypt Beijing China \t:\t [('China', 0.8066043257713318)]\n",
      "Cairo Egypt Berlin Germany \t:\t [('Germany', 0.7016904950141907)]\n",
      "Cairo Egypt Bern Switzerland \t:\t [('Switzerland', 0.4930408000946045)]\n",
      "Canberra Australia Hanoi Vietnam \t:\t [('Viet_Nam', 0.6714490652084351)]\n",
      "Canberra Australia Havana Cuba \t:\t [('Cuba', 0.6964417695999146)]\n",
      "Canberra Australia Helsinki Finland \t:\t [('Finland', 0.690654993057251)]\n",
      "Canberra Australia Islamabad Pakistan \t:\t [('Pakistan', 0.7743955254554749)]\n",
      "Canberra Australia Kabul Afghanistan \t:\t [('Afghans', 0.585472047328949)]\n",
      "Canberra Australia London England \t:\t [('UK', 0.6224532127380371)]\n",
      "Canberra Australia Madrid Spain \t:\t [('Spain', 0.7410275936126709)]\n",
      "Canberra Australia Moscow Russia \t:\t [('Russia', 0.7891086339950562)]\n",
      "Canberra Australia Oslo Norway \t:\t [('Norway', 0.670374870300293)]\n",
      "Canberra Australia Ottawa Canada \t:\t [('Canada', 0.7492120265960693)]\n",
      "Canberra Australia Paris France \t:\t [('France', 0.7159996628761292)]\n",
      "Canberra Australia Rome Italy \t:\t [('Italy', 0.663947343826294)]\n",
      "Canberra Australia Stockholm Sweden \t:\t [('Sweden', 0.7069720029830933)]\n",
      "Canberra Australia Tehran Iran \t:\t [('Iran', 0.7551095485687256)]\n",
      "Canberra Australia Tokyo Japan \t:\t [('Japan', 0.7584798336029053)]\n",
      "Canberra Australia Athens Greece \t:\t [('Greece', 0.5700702667236328)]\n",
      "Canberra Australia Baghdad Iraq \t:\t [('Mosul', 0.6397027969360352)]\n",
      "Canberra Australia Bangkok Thailand \t:\t [('Thailand', 0.7358657121658325)]\n",
      "Canberra Australia Beijing China \t:\t [('China', 0.7823367714881897)]\n",
      "Canberra Australia Berlin Germany \t:\t [('Germany', 0.7441056966781616)]\n",
      "Canberra Australia Bern Switzerland \t:\t [('Switzerland', 0.5360245704650879)]\n",
      "Canberra Australia Cairo Egypt \t:\t [('Egypt', 0.6859404444694519)]\n",
      "Hanoi Vietnam Havana Cuba \t:\t [('Cuba', 0.6831810474395752)]\n",
      "Hanoi Vietnam Helsinki Finland \t:\t [('Finland', 0.5732653141021729)]\n",
      "Hanoi Vietnam Islamabad Pakistan \t:\t [('Pakistan', 0.7073385119438171)]\n",
      "Hanoi Vietnam Kabul Afghanistan \t:\t [('Afghanistan', 0.7566174268722534)]\n",
      "Hanoi Vietnam London England \t:\t [('Britain', 0.5320745706558228)]\n",
      "Hanoi Vietnam Madrid Spain \t:\t [('Spain', 0.6318690776824951)]\n",
      "Hanoi Vietnam Moscow Russia \t:\t [('Russia', 0.6925882697105408)]\n",
      "Hanoi Vietnam Oslo Norway \t:\t [('Norway', 0.5300315618515015)]\n",
      "Hanoi Vietnam Ottawa Canada \t:\t [('Canada', 0.5802633762359619)]\n",
      "Hanoi Vietnam Paris France \t:\t [('France', 0.5821923613548279)]\n",
      "Hanoi Vietnam Rome Italy \t:\t [('Italy', 0.5208398699760437)]\n",
      "Hanoi Vietnam Stockholm Sweden \t:\t [('Sweden', 0.5909290313720703)]\n",
      "Hanoi Vietnam Tehran Iran \t:\t [('Iran', 0.7381366491317749)]\n",
      "Hanoi Vietnam Tokyo Japan \t:\t [('Japan', 0.6836792826652527)]\n",
      "Hanoi Vietnam Athens Greece \t:\t [('Greece', 0.5295498967170715)]\n",
      "Hanoi Vietnam Baghdad Iraq \t:\t [('Iraq', 0.7784610390663147)]\n",
      "Hanoi Vietnam Bangkok Thailand \t:\t [('Thailand', 0.694861888885498)]\n",
      "Hanoi Vietnam Beijing China \t:\t [('China', 0.7234392762184143)]\n",
      "Hanoi Vietnam Berlin Germany \t:\t [('Germany', 0.5970561504364014)]\n",
      "Hanoi Vietnam Bern Switzerland \t:\t [('Bern_NC', 0.4975765347480774)]\n",
      "Hanoi Vietnam Cairo Egypt \t:\t [('Egypt', 0.70243239402771)]\n",
      "Hanoi Vietnam Canberra Australia \t:\t [('Australia', 0.6169843673706055)]\n",
      "Havana Cuba Helsinki Finland \t:\t [('Finland', 0.6971813440322876)]\n",
      "Havana Cuba Islamabad Pakistan \t:\t [('Pakistan', 0.8123714923858643)]\n",
      "Havana Cuba Kabul Afghanistan \t:\t [('Afghanistan', 0.709291934967041)]\n",
      "Havana Cuba London England \t:\t [('Britain', 0.6217108368873596)]\n",
      "Havana Cuba Madrid Spain \t:\t [('Spain', 0.6929836869239807)]\n",
      "Havana Cuba Moscow Russia \t:\t [('Russia', 0.8237830400466919)]\n",
      "Havana Cuba Oslo Norway \t:\t [('Norway', 0.7030717134475708)]\n",
      "Havana Cuba Ottawa Canada \t:\t [('Canada', 0.6562577486038208)]\n",
      "Havana Cuba Paris France \t:\t [('France', 0.6843083500862122)]\n",
      "Havana Cuba Rome Italy \t:\t [('Italy', 0.6025851964950562)]\n",
      "Havana Cuba Stockholm Sweden \t:\t [('Sweden', 0.7303111553192139)]\n",
      "Havana Cuba Tehran Iran \t:\t [('Iran', 0.8635510206222534)]\n",
      "Havana Cuba Tokyo Japan \t:\t [('Japan', 0.7725998759269714)]\n",
      "Havana Cuba Athens Greece \t:\t [('Greece', 0.632399320602417)]\n",
      "Havana Cuba Baghdad Iraq \t:\t [('Iraq', 0.7371042966842651)]\n",
      "Havana Cuba Bangkok Thailand \t:\t [('Thailand', 0.7950247526168823)]\n",
      "Havana Cuba Beijing China \t:\t [('China', 0.7704689502716064)]\n",
      "Havana Cuba Berlin Germany \t:\t [('Germany', 0.6952270865440369)]\n",
      "Havana Cuba Bern Switzerland \t:\t [('Switzerland', 0.5027072429656982)]\n",
      "Havana Cuba Cairo Egypt \t:\t [('Egypt', 0.7647275924682617)]\n",
      "Havana Cuba Canberra Australia \t:\t [('Australia', 0.6877731084823608)]\n",
      "Havana Cuba Hanoi Vietnam \t:\t [('Viet_Nam', 0.710931658744812)]\n",
      "Helsinki Finland Islamabad Pakistan \t:\t [('Pakistan', 0.7291182279586792)]\n",
      "Helsinki Finland Kabul Afghanistan \t:\t [('Afghan', 0.6359643936157227)]\n",
      "Helsinki Finland London England \t:\t [('Britain', 0.6623521447181702)]\n",
      "Helsinki Finland Madrid Spain \t:\t [('Spain', 0.7539469003677368)]\n",
      "Helsinki Finland Moscow Russia \t:\t [('Russia', 0.7918933033943176)]\n",
      "Helsinki Finland Oslo Norway \t:\t [('Norway', 0.7523170709609985)]\n",
      "Helsinki Finland Ottawa Canada \t:\t [('Canada', 0.669693112373352)]\n",
      "Helsinki Finland Paris France \t:\t [('France', 0.7549224495887756)]\n",
      "Helsinki Finland Rome Italy \t:\t [('Italy', 0.6867628693580627)]\n",
      "Helsinki Finland Stockholm Sweden \t:\t [('Sweden', 0.8256371021270752)]\n",
      "Helsinki Finland Tehran Iran \t:\t [('Iran', 0.7732709646224976)]\n",
      "Helsinki Finland Tokyo Japan \t:\t [('Japan', 0.8030250072479248)]\n",
      "Helsinki Finland Athens Greece \t:\t [('Greece', 0.6566227078437805)]\n",
      "Helsinki Finland Baghdad Iraq \t:\t [('Mosul', 0.6506971120834351)]\n",
      "Helsinki Finland Bangkok Thailand \t:\t [('Thailand', 0.752036452293396)]\n",
      "Helsinki Finland Beijing China \t:\t [('China', 0.7568843960762024)]\n",
      "Helsinki Finland Berlin Germany \t:\t [('Germany', 0.7419473528862)]\n",
      "Helsinki Finland Bern Switzerland \t:\t [('Switzerland', 0.5047451257705688)]\n",
      "Helsinki Finland Cairo Egypt \t:\t [('Egypt', 0.7302724123001099)]\n",
      "Helsinki Finland Canberra Australia \t:\t [('Australia', 0.6987782716751099)]\n",
      "Helsinki Finland Hanoi Vietnam \t:\t [('Viet_Nam', 0.6931595802307129)]\n",
      "Helsinki Finland Havana Cuba \t:\t [('Cuba', 0.6899741291999817)]\n",
      "Islamabad Pakistan Kabul Afghanistan \t:\t [('Afghan', 0.733290433883667)]\n",
      "Islamabad Pakistan London England \t:\t [('Britain', 0.6056548357009888)]\n",
      "Islamabad Pakistan Madrid Spain \t:\t [('Spain', 0.6914529204368591)]\n",
      "Islamabad Pakistan Moscow Russia \t:\t [('Russia', 0.831927478313446)]\n",
      "Islamabad Pakistan Oslo Norway \t:\t [('Norway', 0.6795673370361328)]\n"
     ]
    },
    {
     "name": "stdout",
     "output_type": "stream",
     "text": [
      "Islamabad Pakistan Ottawa Canada \t:\t [('Canada', 0.6421677470207214)]\n",
      "Islamabad Pakistan Paris France \t:\t [('France', 0.6944429874420166)]\n",
      "Islamabad Pakistan Rome Italy \t:\t [('Italy', 0.6518086194992065)]\n",
      "Islamabad Pakistan Stockholm Sweden \t:\t [('Sweden', 0.7098785042762756)]\n",
      "Islamabad Pakistan Tehran Iran \t:\t [('Iran', 0.8605973124504089)]\n",
      "Islamabad Pakistan Tokyo Japan \t:\t [('Japan', 0.774760365486145)]\n",
      "Islamabad Pakistan Athens Greece \t:\t [('Greece', 0.6418431997299194)]\n",
      "Islamabad Pakistan Baghdad Iraq \t:\t [('Iraqi', 0.7481119632720947)]\n",
      "Islamabad Pakistan Bangkok Thailand \t:\t [('Thailand', 0.7783142328262329)]\n",
      "Islamabad Pakistan Beijing China \t:\t [('China', 0.8079829216003418)]\n",
      "Islamabad Pakistan Berlin Germany \t:\t [('Germany', 0.7216540575027466)]\n",
      "Islamabad Pakistan Bern Switzerland \t:\t [('Switzerland', 0.4968326687812805)]\n",
      "Islamabad Pakistan Cairo Egypt \t:\t [('Egypt', 0.7879177331924438)]\n",
      "Islamabad Pakistan Canberra Australia \t:\t [('Australia', 0.7616326808929443)]\n",
      "Islamabad Pakistan Hanoi Vietnam \t:\t [('Viet_Nam', 0.7534359693527222)]\n",
      "Islamabad Pakistan Havana Cuba \t:\t [('Cuba', 0.7958502769470215)]\n",
      "Islamabad Pakistan Helsinki Finland \t:\t [('Finland', 0.6935101747512817)]\n",
      "Kabul Afghanistan London England \t:\t [('EURASIAN_NATURAL_RESOURCES_CORP.', 0.5547584891319275)]\n",
      "Kabul Afghanistan Madrid Spain \t:\t [('Spain', 0.6156004667282104)]\n",
      "Kabul Afghanistan Moscow Russia \t:\t [('Russia', 0.7199913263320923)]\n",
      "Kabul Afghanistan Oslo Norway \t:\t [('Norway', 0.5757439136505127)]\n",
      "Kabul Afghanistan Ottawa Canada \t:\t [('Ontario', 0.551449179649353)]\n",
      "Kabul Afghanistan Paris France \t:\t [('France', 0.6088168621063232)]\n",
      "Kabul Afghanistan Rome Italy \t:\t [('Italy', 0.537543773651123)]\n",
      "Kabul Afghanistan Stockholm Sweden \t:\t [('Sweden', 0.5849065780639648)]\n",
      "Kabul Afghanistan Tehran Iran \t:\t [('Iran', 0.7807148098945618)]\n",
      "Kabul Afghanistan Tokyo Japan \t:\t [('Japan', 0.6695031523704529)]\n",
      "Kabul Afghanistan Athens Greece \t:\t [('Greece', 0.5494598746299744)]\n",
      "Kabul Afghanistan Baghdad Iraq \t:\t [('Iraq', 0.8607981204986572)]\n",
      "Kabul Afghanistan Bangkok Thailand \t:\t [('Thailand', 0.6891651749610901)]\n",
      "Kabul Afghanistan Beijing China \t:\t [('China', 0.6837893128395081)]\n",
      "Kabul Afghanistan Berlin Germany \t:\t [('Germany', 0.6105467081069946)]\n",
      "Kabul Afghanistan Bern Switzerland \t:\t [('Bern_NC', 0.4233846962451935)]\n",
      "Kabul Afghanistan Cairo Egypt \t:\t [('Egypt', 0.6705426573753357)]\n",
      "Kabul Afghanistan Canberra Australia \t:\t [('Mr_Rudd', 0.6034547090530396)]\n",
      "Kabul Afghanistan Hanoi Vietnam \t:\t [('Vietnam', 0.7514270544052124)]\n",
      "Kabul Afghanistan Havana Cuba \t:\t [('Cuba', 0.7205934524536133)]\n",
      "Kabul Afghanistan Helsinki Finland \t:\t [('Finland', 0.5768634080886841)]\n",
      "Kabul Afghanistan Islamabad Pakistan \t:\t [('Pakistan', 0.7463313341140747)]\n",
      "London England Madrid Spain \t:\t [('Spain', 0.6087851524353027)]\n",
      "London England Moscow Russia \t:\t [('Russia', 0.6502717733383179)]\n",
      "London England Oslo Norway \t:\t [('Norway', 0.5689429640769958)]\n",
      "London England Ottawa Canada \t:\t [('Canada', 0.5256192088127136)]\n",
      "London England Paris France \t:\t [('France', 0.667637825012207)]\n",
      "London England Rome Italy \t:\t [('Italy', 0.5715967416763306)]\n",
      "London England Stockholm Sweden \t:\t [('Sweden', 0.6610991358757019)]\n",
      "London England Tehran Iran \t:\t [('Iran', 0.6443779468536377)]\n",
      "London England Tokyo Japan \t:\t [('Japan', 0.6889491081237793)]\n",
      "London England Athens Greece \t:\t [('Greece', 0.5293722152709961)]\n",
      "London England Baghdad Iraq \t:\t [('Iraqi', 0.5854012370109558)]\n",
      "London England Bangkok Thailand \t:\t [('Thailand', 0.6264095306396484)]\n",
      "London England Beijing China \t:\t [('China', 0.6181187033653259)]\n",
      "London England Berlin Germany \t:\t [('Germany', 0.5952339172363281)]\n",
      "London England Bern Switzerland \t:\t [('Hanover', 0.45303672552108765)]\n",
      "London England Cairo Egypt \t:\t [('Egypt', 0.5641492605209351)]\n",
      "London England Canberra Australia \t:\t [('Australia', 0.6054890155792236)]\n",
      "London England Hanoi Vietnam \t:\t [('Viet_Nam', 0.5810423493385315)]\n",
      "London England Havana Cuba \t:\t [('Cuba', 0.5627489686012268)]\n",
      "London England Helsinki Finland \t:\t [('Finland', 0.621544599533081)]\n",
      "London England Islamabad Pakistan \t:\t [('Pakistan', 0.6654638051986694)]\n",
      "London England Kabul Afghanistan \t:\t [('Afghan', 0.573311984539032)]\n",
      "Madrid Spain Moscow Russia \t:\t [('Russia', 0.8136780858039856)]\n",
      "Madrid Spain Oslo Norway \t:\t [('Norway', 0.7230186462402344)]\n",
      "Madrid Spain Ottawa Canada \t:\t [('Canada', 0.6814807653427124)]\n",
      "Madrid Spain Paris France \t:\t [('France', 0.7609949111938477)]\n",
      "Madrid Spain Rome Italy \t:\t [('Italy', 0.7004686594009399)]\n",
      "Madrid Spain Stockholm Sweden \t:\t [('Sweden', 0.7822341918945312)]\n",
      "Madrid Spain Tehran Iran \t:\t [('Iran', 0.7588754892349243)]\n",
      "Madrid Spain Tokyo Japan \t:\t [('Japan', 0.8010954856872559)]\n",
      "Madrid Spain Athens Greece \t:\t [('Greece', 0.6898480653762817)]\n",
      "Madrid Spain Baghdad Iraq \t:\t [('Mosul', 0.657950222492218)]\n",
      "Madrid Spain Bangkok Thailand \t:\t [('Thailand', 0.7701380252838135)]\n",
      "Madrid Spain Beijing China \t:\t [('China', 0.7744125127792358)]\n",
      "Madrid Spain Berlin Germany \t:\t [('Germany', 0.7501679062843323)]\n",
      "Madrid Spain Bern Switzerland \t:\t [('Switzerland', 0.4854031801223755)]\n",
      "Madrid Spain Cairo Egypt \t:\t [('Egypt', 0.7326661348342896)]\n",
      "Madrid Spain Canberra Australia \t:\t [('Australia', 0.7068917751312256)]\n",
      "Madrid Spain Hanoi Vietnam \t:\t [('Viet_Nam', 0.7359681725502014)]\n",
      "Madrid Spain Havana Cuba \t:\t [('Cuba', 0.7222689986228943)]\n",
      "Madrid Spain Helsinki Finland \t:\t [('Finland', 0.7638068199157715)]\n",
      "Madrid Spain Islamabad Pakistan \t:\t [('Pakistan', 0.7176593542098999)]\n",
      "Madrid Spain Kabul Afghanistan \t:\t [('Herat', 0.6163390874862671)]\n",
      "Madrid Spain London England \t:\t [('Britain', 0.6784723997116089)]\n",
      "Moscow Russia Oslo Norway \t:\t [('Norway', 0.7606369256973267)]\n",
      "Moscow Russia Ottawa Canada \t:\t [('Canada', 0.7216339111328125)]\n",
      "Moscow Russia Paris France \t:\t [('France', 0.8050408959388733)]\n",
      "Moscow Russia Rome Italy \t:\t [('Italy', 0.7074910998344421)]\n",
      "Moscow Russia Stockholm Sweden \t:\t [('Sweden', 0.8054226636886597)]\n",
      "Moscow Russia Tehran Iran \t:\t [('Iran', 0.8776857852935791)]\n",
      "Moscow Russia Tokyo Japan \t:\t [('Japan', 0.8773881196975708)]\n",
      "Moscow Russia Athens Greece \t:\t [('Greece', 0.6744523048400879)]\n",
      "Moscow Russia Baghdad Iraq \t:\t [('Mosul', 0.715551495552063)]\n",
      "Moscow Russia Bangkok Thailand \t:\t [('Thailand', 0.8425170183181763)]\n",
      "Moscow Russia Beijing China \t:\t [('China', 0.8687477111816406)]\n",
      "Moscow Russia Berlin Germany \t:\t [('Germany', 0.7774251699447632)]\n",
      "Moscow Russia Bern Switzerland \t:\t [('Switzerland', 0.48516911268234253)]\n",
      "Moscow Russia Cairo Egypt \t:\t [('Egypt', 0.8018569350242615)]\n",
      "Moscow Russia Canberra Australia \t:\t [('Australia', 0.7593481540679932)]\n",
      "Moscow Russia Hanoi Vietnam \t:\t [('Viet_Nam', 0.7691516876220703)]\n",
      "Moscow Russia Havana Cuba \t:\t [('Cuba', 0.7886744141578674)]\n",
      "Moscow Russia Helsinki Finland \t:\t [('Finland', 0.7779613137245178)]\n",
      "Moscow Russia Islamabad Pakistan \t:\t [('Pakistan', 0.8369842767715454)]\n",
      "Moscow Russia Kabul Afghanistan \t:\t [('Afghan', 0.7208551168441772)]\n",
      "Moscow Russia London England \t:\t [('Britain', 0.7028806209564209)]\n",
      "Moscow Russia Madrid Spain \t:\t [('Spain', 0.7905084490776062)]\n",
      "Oslo Norway Ottawa Canada \t:\t [('Canada', 0.6809221506118774)]\n",
      "Oslo Norway Paris France \t:\t [('France', 0.731560468673706)]\n",
      "Oslo Norway Rome Italy \t:\t [('Italy', 0.6817960143089294)]\n",
      "Oslo Norway Stockholm Sweden \t:\t [('Sweden', 0.8222190141677856)]\n",
      "Oslo Norway Tehran Iran \t:\t [('Iran', 0.7522602677345276)]\n",
      "Oslo Norway Tokyo Japan \t:\t [('Japan', 0.7785906195640564)]\n",
      "Oslo Norway Athens Greece \t:\t [('Greece', 0.631377100944519)]\n",
      "Oslo Norway Baghdad Iraq \t:\t [('Mosul', 0.6509431600570679)]\n",
      "Oslo Norway Bangkok Thailand \t:\t [('Thailand', 0.7387949228286743)]\n",
      "Oslo Norway Beijing China \t:\t [('China', 0.7163817882537842)]\n",
      "Oslo Norway Berlin Germany \t:\t [('Germany', 0.7219190001487732)]\n",
      "Oslo Norway Bern Switzerland \t:\t [('Switzerland', 0.5127913355827332)]\n",
      "Oslo Norway Cairo Egypt \t:\t [('Egypt', 0.6662338376045227)]\n",
      "Oslo Norway Canberra Australia \t:\t [('Australia', 0.6750895977020264)]\n",
      "Oslo Norway Hanoi Vietnam \t:\t [('Viet_Nam', 0.6644774675369263)]\n",
      "Oslo Norway Havana Cuba \t:\t [('Cuba', 0.6874872446060181)]\n",
      "Oslo Norway Helsinki Finland \t:\t [('Finland', 0.7806001305580139)]\n",
      "Oslo Norway Islamabad Pakistan \t:\t [('Pakistan', 0.7272923588752747)]\n",
      "Oslo Norway Kabul Afghanistan \t:\t [('Afghan', 0.6326095461845398)]\n"
     ]
    },
    {
     "name": "stdout",
     "output_type": "stream",
     "text": [
      "Oslo Norway London England \t:\t [('Britain', 0.6456331610679626)]\n",
      "Oslo Norway Madrid Spain \t:\t [('Spain', 0.7302021980285645)]\n",
      "Oslo Norway Moscow Russia \t:\t [('Russia', 0.7961565256118774)]\n",
      "Ottawa Canada Paris France \t:\t [('France', 0.693991482257843)]\n",
      "Ottawa Canada Rome Italy \t:\t [('Italy', 0.6293004155158997)]\n",
      "Ottawa Canada Stockholm Sweden \t:\t [('Sweden', 0.676618218421936)]\n",
      "Ottawa Canada Tehran Iran \t:\t [('Iran', 0.7350882291793823)]\n",
      "Ottawa Canada Tokyo Japan \t:\t [('Japan', 0.7678513526916504)]\n",
      "Ottawa Canada Athens Greece \t:\t [('Greece', 0.6065006256103516)]\n",
      "Ottawa Canada Baghdad Iraq \t:\t [('Mosul', 0.6319441795349121)]\n",
      "Ottawa Canada Bangkok Thailand \t:\t [('Thailand', 0.7114494442939758)]\n",
      "Ottawa Canada Beijing China \t:\t [('China', 0.7349015474319458)]\n",
      "Ottawa Canada Berlin Germany \t:\t [('Germany', 0.7051476240158081)]\n",
      "Ottawa Canada Bern Switzerland \t:\t [('Switzerland', 0.5049156546592712)]\n",
      "Ottawa Canada Cairo Egypt \t:\t [('Egypt', 0.6439141035079956)]\n",
      "Ottawa Canada Canberra Australia \t:\t [('Australia', 0.7822461128234863)]\n",
      "Ottawa Canada Hanoi Vietnam \t:\t [('Viet_Nam', 0.6644909381866455)]\n",
      "Ottawa Canada Havana Cuba \t:\t [('Cuba', 0.6701313257217407)]\n",
      "Ottawa Canada Helsinki Finland \t:\t [('Finland', 0.6524146795272827)]\n",
      "Ottawa Canada Islamabad Pakistan \t:\t [('Pakistan', 0.689796507358551)]\n",
      "Ottawa Canada Kabul Afghanistan \t:\t [('Afghan', 0.5671025514602661)]\n",
      "Ottawa Canada London England \t:\t [('UK', 0.636229395866394)]\n",
      "Ottawa Canada Madrid Spain \t:\t [('Spain', 0.7073505520820618)]\n",
      "Ottawa Canada Moscow Russia \t:\t [('Russia', 0.7822917699813843)]\n",
      "Ottawa Canada Oslo Norway \t:\t [('Norway', 0.6731112003326416)]\n",
      "Paris France Rome Italy \t:\t [('Italy', 0.7143559455871582)]\n",
      "Paris France Stockholm Sweden \t:\t [('Sweden', 0.7924454212188721)]\n",
      "Paris France Tehran Iran \t:\t [('Iran', 0.7771148085594177)]\n",
      "Paris France Tokyo Japan \t:\t [('Japan', 0.8167771100997925)]\n",
      "Paris France Athens Greece \t:\t [('Greece', 0.637862503528595)]\n",
      "Paris France Baghdad Iraq \t:\t [('Mosul', 0.6609417200088501)]\n",
      "Paris France Bangkok Thailand \t:\t [('Thailand', 0.7508309483528137)]\n",
      "Paris France Beijing China \t:\t [('China', 0.7644793391227722)]\n",
      "Paris France Berlin Germany \t:\t [('Germany', 0.7901254892349243)]\n",
      "Paris France Bern Switzerland \t:\t [('Switzerland', 0.48789721727371216)]\n",
      "Paris France Cairo Egypt \t:\t [('Egypt', 0.706210732460022)]\n",
      "Paris France Canberra Australia \t:\t [('Australia', 0.7059869766235352)]\n",
      "Paris France Hanoi Vietnam \t:\t [('Viet_Nam', 0.7121439576148987)]\n",
      "Paris France Havana Cuba \t:\t [('Cuba', 0.7165151834487915)]\n",
      "Paris France Helsinki Finland \t:\t [('Finland', 0.7654452323913574)]\n",
      "Paris France Islamabad Pakistan \t:\t [('Pakistan', 0.7565770745277405)]\n",
      "Paris France Kabul Afghanistan \t:\t [('Afghan', 0.6692334413528442)]\n",
      "Paris France London England \t:\t [('Britain', 0.7368935346603394)]\n",
      "Paris France Madrid Spain \t:\t [('Spain', 0.7776164412498474)]\n",
      "Paris France Moscow Russia \t:\t [('Russia', 0.8341556787490845)]\n",
      "Paris France Oslo Norway \t:\t [('Norway', 0.7406579852104187)]\n",
      "Paris France Ottawa Canada \t:\t [('Canada', 0.6765265464782715)]\n",
      "Rome Italy Stockholm Sweden \t:\t [('Sweden', 0.7650184631347656)]\n",
      "Rome Italy Tehran Iran \t:\t [('Iran', 0.7223957777023315)]\n",
      "Rome Italy Tokyo Japan \t:\t [('Japan', 0.7659536600112915)]\n",
      "Rome Italy Athens Greece \t:\t [('Greece', 0.6582207679748535)]\n",
      "Rome Italy Baghdad Iraq \t:\t [('Iraqi', 0.6279986500740051)]\n",
      "Rome Italy Bangkok Thailand \t:\t [('Thailand', 0.7367712259292603)]\n",
      "Rome Italy Beijing China \t:\t [('China', 0.7384491562843323)]\n",
      "Rome Italy Berlin Germany \t:\t [('Germany', 0.7924449443817139)]\n",
      "Rome Italy Bern Switzerland \t:\t [('Switzerland', 0.5860611200332642)]\n",
      "Rome Italy Cairo Egypt \t:\t [('Egypt', 0.6917356848716736)]\n",
      "Rome Italy Canberra Australia \t:\t [('Australia', 0.7035335302352905)]\n",
      "Rome Italy Hanoi Vietnam \t:\t [('Viet_Nam', 0.6718668937683105)]\n",
      "Rome Italy Havana Cuba \t:\t [('Cuba', 0.6652557849884033)]\n",
      "Rome Italy Helsinki Finland \t:\t [('Finland', 0.7448440790176392)]\n",
      "Rome Italy Islamabad Pakistan \t:\t [('Pakistan', 0.7375874519348145)]\n",
      "Rome Italy Kabul Afghanistan \t:\t [('Afghan', 0.6492578983306885)]\n",
      "Rome Italy London England \t:\t [('UK', 0.6230568885803223)]\n",
      "Rome Italy Madrid Spain \t:\t [('Spain', 0.7485760450363159)]\n",
      "Rome Italy Moscow Russia \t:\t [('Russia', 0.7561044692993164)]\n",
      "Rome Italy Oslo Norway \t:\t [('Norway', 0.7140566110610962)]\n",
      "Rome Italy Ottawa Canada \t:\t [('Canada', 0.6508230566978455)]\n",
      "Rome Italy Paris France \t:\t [('France', 0.7486128211021423)]\n",
      "Stockholm Sweden Tehran Iran \t:\t [('Iran', 0.7674084901809692)]\n",
      "Stockholm Sweden Tokyo Japan \t:\t [('Japan', 0.8198506236076355)]\n",
      "Stockholm Sweden Athens Greece \t:\t [('Greece', 0.6445162296295166)]\n",
      "Stockholm Sweden Baghdad Iraq \t:\t [('Mosul', 0.674405574798584)]\n",
      "Stockholm Sweden Bangkok Thailand \t:\t [('Thailand', 0.7606315612792969)]\n",
      "Stockholm Sweden Beijing China \t:\t [('China', 0.7469373941421509)]\n",
      "Stockholm Sweden Berlin Germany \t:\t [('Germany', 0.7917513251304626)]\n",
      "Stockholm Sweden Bern Switzerland \t:\t [('Switzerland', 0.5347194075584412)]\n",
      "Stockholm Sweden Cairo Egypt \t:\t [('Egypt', 0.7208700180053711)]\n",
      "Stockholm Sweden Canberra Australia \t:\t [('Australia', 0.6957679986953735)]\n",
      "Stockholm Sweden Hanoi Vietnam \t:\t [('Viet_Nam', 0.6892715692520142)]\n",
      "Stockholm Sweden Havana Cuba \t:\t [('Cuba', 0.730288028717041)]\n",
      "Stockholm Sweden Helsinki Finland \t:\t [('Finland', 0.8304910659790039)]\n",
      "Stockholm Sweden Islamabad Pakistan \t:\t [('Pakistan', 0.7434419393539429)]\n",
      "Stockholm Sweden Kabul Afghanistan \t:\t [('Afghan', 0.6353626251220703)]\n",
      "Stockholm Sweden London England \t:\t [('Britain', 0.6828157901763916)]\n",
      "Stockholm Sweden Madrid Spain \t:\t [('Spain', 0.7796703577041626)]\n",
      "Stockholm Sweden Moscow Russia \t:\t [('Russia', 0.8211641311645508)]\n",
      "Stockholm Sweden Oslo Norway \t:\t [('Norway', 0.794228196144104)]\n",
      "Stockholm Sweden Ottawa Canada \t:\t [('Canada', 0.678627610206604)]\n",
      "Stockholm Sweden Paris France \t:\t [('France', 0.7826051712036133)]\n",
      "Stockholm Sweden Rome Italy \t:\t [('Italy', 0.7247942686080933)]\n",
      "Tehran Iran Tokyo Japan \t:\t [('Japan', 0.7860098481178284)]\n",
      "Tehran Iran Athens Greece \t:\t [('Greece', 0.6574969291687012)]\n",
      "Tehran Iran Baghdad Iraq \t:\t [('Iraq', 0.775810718536377)]\n",
      "Tehran Iran Bangkok Thailand \t:\t [('Thailand', 0.8036007881164551)]\n",
      "Tehran Iran Beijing China \t:\t [('China', 0.8198246359825134)]\n",
      "Tehran Iran Berlin Germany \t:\t [('Germany', 0.6948081254959106)]\n",
      "Tehran Iran Bern Switzerland \t:\t [('coach_Bobby_Curlings', 0.5130249857902527)]\n",
      "Tehran Iran Cairo Egypt \t:\t [('Egypt', 0.8029148578643799)]\n",
      "Tehran Iran Canberra Australia \t:\t [('Australia', 0.7018479108810425)]\n",
      "Tehran Iran Hanoi Vietnam \t:\t [('Viet_Nam', 0.7534171342849731)]\n",
      "Tehran Iran Havana Cuba \t:\t [('Cuba', 0.8335038423538208)]\n",
      "Tehran Iran Helsinki Finland \t:\t [('Finland', 0.695157527923584)]\n",
      "Tehran Iran Islamabad Pakistan \t:\t [('Pakistan', 0.8478930592536926)]\n",
      "Tehran Iran Kabul Afghanistan \t:\t [('Afghan', 0.7277183532714844)]\n",
      "Tehran Iran London England \t:\t [('Britain', 0.6258982419967651)]\n",
      "Tehran Iran Madrid Spain \t:\t [('Spain', 0.7075908184051514)]\n",
      "Tehran Iran Moscow Russia \t:\t [('Russia', 0.862642765045166)]\n",
      "Tehran Iran Oslo Norway \t:\t [('Norway', 0.7017198801040649)]\n",
      "Tehran Iran Ottawa Canada \t:\t [('Canada', 0.6508046984672546)]\n",
      "Tehran Iran Paris France \t:\t [('France', 0.680817186832428)]\n",
      "Tehran Iran Rome Italy \t:\t [('Italy', 0.6060930490493774)]\n",
      "Tehran Iran Stockholm Sweden \t:\t [('Sweden', 0.7119143009185791)]\n",
      "Tokyo Japan Athens Greece \t:\t [('Greece', 0.6701824069023132)]\n",
      "Tokyo Japan Baghdad Iraq \t:\t [('Iraq', 0.700536847114563)]\n",
      "Tokyo Japan Bangkok Thailand \t:\t [('Thailand', 0.8329713940620422)]\n",
      "Tokyo Japan Beijing China \t:\t [('China', 0.842780590057373)]\n",
      "Tokyo Japan Berlin Germany \t:\t [('Germany', 0.7607141137123108)]\n",
      "Tokyo Japan Bern Switzerland \t:\t [('Switzerland', 0.4834965765476227)]\n",
      "Tokyo Japan Cairo Egypt \t:\t [('Egypt', 0.7604711055755615)]\n",
      "Tokyo Japan Canberra Australia \t:\t [('Australia', 0.7408983707427979)]\n",
      "Tokyo Japan Hanoi Vietnam \t:\t [('Viet_Nam', 0.7667807340621948)]\n",
      "Tokyo Japan Havana Cuba \t:\t [('Cuba', 0.7668194770812988)]\n",
      "Tokyo Japan Helsinki Finland \t:\t [('Finland', 0.7938803434371948)]\n",
      "Tokyo Japan Islamabad Pakistan \t:\t [('Pakistan', 0.7943655848503113)]\n",
      "Tokyo Japan Kabul Afghanistan \t:\t [('Afghanistan', 0.6684215664863586)]\n",
      "Tokyo Japan London England \t:\t [('Britain', 0.7236440181732178)]\n"
     ]
    },
    {
     "name": "stdout",
     "output_type": "stream",
     "text": [
      "Tokyo Japan Madrid Spain \t:\t [('Spain', 0.7904621362686157)]\n",
      "Tokyo Japan Moscow Russia \t:\t [('Russia', 0.8863135576248169)]\n",
      "Tokyo Japan Oslo Norway \t:\t [('Norway', 0.7558910846710205)]\n",
      "Tokyo Japan Ottawa Canada \t:\t [('Canada', 0.7142959833145142)]\n",
      "Tokyo Japan Paris France \t:\t [('France', 0.7889978885650635)]\n",
      "Tokyo Japan Rome Italy \t:\t [('Italy', 0.6944942474365234)]\n",
      "Tokyo Japan Stockholm Sweden \t:\t [('Sweden', 0.8109342455863953)]\n",
      "Tokyo Japan Tehran Iran \t:\t [('Iran', 0.8259532451629639)]\n",
      "Abuja Nigeria Accra Ghana \t:\t [('Ghana', 0.820812463760376)]\n",
      "Abuja Nigeria Algiers Algeria \t:\t [('Algeria', 0.6122236251831055)]\n",
      "Abuja Nigeria Amman Jordan \t:\t [('Saudi_Arabia', 0.5893203616142273)]\n",
      "Abuja Nigeria Ankara Turkey \t:\t [('Turkey', 0.7983395457267761)]\n",
      "Abuja Nigeria Antananarivo Madagascar \t:\t [('Ivory_Coast', 0.5869836807250977)]\n",
      "Abuja Nigeria Apia Samoa \t:\t [('Samoa', 0.6354681253433228)]\n",
      "Abuja Nigeria Ashgabat Turkmenistan \t:\t [('Turkmenistan', 0.7997884750366211)]\n",
      "Abuja Nigeria Asmara Eritrea \t:\t [('Eritrea', 0.760607123374939)]\n",
      "Abuja Nigeria Astana Kazakhstan \t:\t [('Kazakhstan', 0.6058267951011658)]\n",
      "Abuja Nigeria Athens Greece \t:\t [('Greece', 0.648247480392456)]\n",
      "Abuja Nigeria Baghdad Iraq \t:\t [('Mosul', 0.6939796209335327)]\n",
      "Abuja Nigeria Baku Azerbaijan \t:\t [('Azerbaijan', 0.8295513391494751)]\n",
      "Abuja Nigeria Bamako Mali \t:\t [('Burkina_Faso', 0.6571597456932068)]\n",
      "Abuja Nigeria Bangkok Thailand \t:\t [('Thailand', 0.8079865574836731)]\n",
      "Abuja Nigeria Banjul Gambia \t:\t [('Gambia', 0.7420986890792847)]\n",
      "Abuja Nigeria Beijing China \t:\t [('China', 0.7927124500274658)]\n",
      "Abuja Nigeria Beirut Lebanon \t:\t [('Lebanon', 0.6549971103668213)]\n",
      "Abuja Nigeria Belgrade Serbia \t:\t [('Serbia', 0.7721771001815796)]\n",
      "Abuja Nigeria Belmopan Belize \t:\t [('Belize', 0.6794909238815308)]\n",
      "Abuja Nigeria Berlin Germany \t:\t [('Germany', 0.7027307748794556)]\n",
      "Abuja Nigeria Bern Switzerland \t:\t [('Switzerland', 0.46382495760917664)]\n",
      "Abuja Nigeria Bishkek Kyrgyzstan \t:\t [('Kyrgyzstan', 0.7757459282875061)]\n",
      "Abuja Nigeria Bratislava Slovakia \t:\t [('Slovakia', 0.6935334801673889)]\n",
      "Abuja Nigeria Brussels Belgium \t:\t [('EU', 0.6521424651145935)]\n",
      "Abuja Nigeria Bucharest Romania \t:\t [('Romania', 0.8092629313468933)]\n",
      "Abuja Nigeria Budapest Hungary \t:\t [('Hungary', 0.7768872976303101)]\n",
      "Abuja Nigeria Bujumbura Burundi \t:\t [('Burundi', 0.6933528780937195)]\n",
      "Abuja Nigeria Cairo Egypt \t:\t [('Egypt', 0.7655671238899231)]\n",
      "Abuja Nigeria Canberra Australia \t:\t [('Australia', 0.7502360343933105)]\n",
      "Abuja Nigeria Caracas Venezuela \t:\t [('Venezuela', 0.7877016067504883)]\n",
      "Abuja Nigeria Chisinau Moldova \t:\t [('Moldova', 0.7271924018859863)]\n",
      "Abuja Nigeria Conakry Guinea \t:\t [('Ivory_Coast', 0.6276217699050903)]\n",
      "Abuja Nigeria Copenhagen Denmark \t:\t [('Denmark', 0.6048517227172852)]\n",
      "Abuja Nigeria Dakar Senegal \t:\t [('Dakar_Rally', 0.629217803478241)]\n",
      "Abuja Nigeria Damascus Syria \t:\t [('Syria', 0.7737542390823364)]\n",
      "Abuja Nigeria Dhaka Bangladesh \t:\t [('Bangladesh', 0.8018217086791992)]\n",
      "Abuja Nigeria Doha Qatar \t:\t [('Qatar', 0.5833138227462769)]\n",
      "Abuja Nigeria Dublin Ireland \t:\t [('Ireland', 0.7485344409942627)]\n",
      "Abuja Nigeria Dushanbe Tajikistan \t:\t [('Tajikistan', 0.7747641801834106)]\n",
      "Accra Ghana Algiers Algeria \t:\t [('Algeria', 0.6677457094192505)]\n",
      "Accra Ghana Amman Jordan \t:\t [('Egypt', 0.5868483781814575)]\n",
      "Accra Ghana Ankara Turkey \t:\t [('Turkey', 0.7672044038772583)]\n",
      "Accra Ghana Antananarivo Madagascar \t:\t [('Ivory_Coast', 0.6179831624031067)]\n",
      "Accra Ghana Apia Samoa \t:\t [('Samoa', 0.6637452244758606)]\n",
      "Accra Ghana Ashgabat Turkmenistan \t:\t [('Turkmenistan', 0.7615431547164917)]\n",
      "Accra Ghana Asmara Eritrea \t:\t [('Eritrea', 0.7354824542999268)]\n",
      "Accra Ghana Astana Kazakhstan \t:\t [('Kazakhstan', 0.5791313052177429)]\n",
      "Accra Ghana Athens Greece \t:\t [('Greece', 0.6338661909103394)]\n",
      "Accra Ghana Baghdad Iraq \t:\t [('Iraqi', 0.7050576210021973)]\n",
      "Accra Ghana Baku Azerbaijan \t:\t [('Azerbaijan', 0.8192062973976135)]\n",
      "Accra Ghana Bamako Mali \t:\t [('Burkina_Faso', 0.6912593841552734)]\n",
      "Accra Ghana Bangkok Thailand \t:\t [('Thailand', 0.7693947553634644)]\n",
      "Accra Ghana Banjul Gambia \t:\t [('Gambia', 0.7658399343490601)]\n",
      "Accra Ghana Beijing China \t:\t [('China', 0.7694888710975647)]\n",
      "Accra Ghana Beirut Lebanon \t:\t [('Lebanon', 0.662429690361023)]\n",
      "Accra Ghana Belgrade Serbia \t:\t [('Serbia', 0.8001102209091187)]\n",
      "Accra Ghana Belmopan Belize \t:\t [('Belize', 0.6377900838851929)]\n",
      "Accra Ghana Berlin Germany \t:\t [('Germany', 0.729083776473999)]\n",
      "Accra Ghana Bern Switzerland \t:\t [('Switzerland', 0.5117603540420532)]\n",
      "Accra Ghana Bishkek Kyrgyzstan \t:\t [('Kyrgyzstan', 0.7502553462982178)]\n",
      "Accra Ghana Bratislava Slovakia \t:\t [('Slovakia', 0.761765718460083)]\n",
      "Accra Ghana Brussels Belgium \t:\t [('EU', 0.6836615204811096)]\n",
      "Accra Ghana Bucharest Romania \t:\t [('Romania', 0.8058755397796631)]\n",
      "Accra Ghana Budapest Hungary \t:\t [('Hungary', 0.7831284999847412)]\n",
      "Accra Ghana Bujumbura Burundi \t:\t [('Burundi', 0.695062518119812)]\n",
      "Accra Ghana Cairo Egypt \t:\t [('Egypt', 0.7587610483169556)]\n",
      "Accra Ghana Canberra Australia \t:\t [('Australia', 0.758938193321228)]\n",
      "Accra Ghana Caracas Venezuela \t:\t [('Venezuela', 0.7592135071754456)]\n",
      "Accra Ghana Chisinau Moldova \t:\t [('Moldova', 0.7435550689697266)]\n",
      "Accra Ghana Conakry Guinea \t:\t [('Ivory_Coast', 0.6675678491592407)]\n",
      "Accra Ghana Copenhagen Denmark \t:\t [('Denmark', 0.6183563470840454)]\n",
      "Accra Ghana Dakar Senegal \t:\t [('Senegal', 0.6074642539024353)]\n",
      "Accra Ghana Damascus Syria \t:\t [('Syria', 0.7595655918121338)]\n",
      "Accra Ghana Dhaka Bangladesh \t:\t [('Bangladesh', 0.8022955656051636)]\n",
      "Accra Ghana Doha Qatar \t:\t [('Qatar', 0.5841162204742432)]\n",
      "Accra Ghana Dublin Ireland \t:\t [('Ireland', 0.7805662155151367)]\n",
      "Accra Ghana Dushanbe Tajikistan \t:\t [('Tajikistan', 0.7409684658050537)]\n",
      "Accra Ghana Funafuti Tuvalu \t:\t [('Kiribati', 0.5314962863922119)]\n",
      "Algiers Algeria Amman Jordan \t:\t [('Saudi_Arabia', 0.6074050664901733)]\n",
      "Algiers Algeria Ankara Turkey \t:\t [('Turkey', 0.687263548374176)]\n",
      "Algiers Algeria Antananarivo Madagascar \t:\t [('Ivory_Coast', 0.5394630432128906)]\n",
      "Algiers Algeria Apia Samoa \t:\t [('Samoa', 0.5615840554237366)]\n",
      "Algiers Algeria Ashgabat Turkmenistan \t:\t [('Turkmenistan', 0.7168734073638916)]\n",
      "Algiers Algeria Asmara Eritrea \t:\t [('Eritrea', 0.7000830173492432)]\n",
      "Algiers Algeria Astana Kazakhstan \t:\t [('Kazakhstan', 0.5795488357543945)]\n",
      "Algiers Algeria Athens Greece \t:\t [('Greece', 0.6186132431030273)]\n",
      "Algiers Algeria Baghdad Iraq \t:\t [('Iraqi', 0.621858537197113)]\n",
      "Algiers Algeria Baku Azerbaijan \t:\t [('Azerbaijan', 0.7708343863487244)]\n",
      "Algiers Algeria Bamako Mali \t:\t [('Burkina_Faso', 0.6014889478683472)]\n",
      "Algiers Algeria Bangkok Thailand \t:\t [('Thailand', 0.7170093655586243)]\n",
      "Algiers Algeria Banjul Gambia \t:\t [('Gambia', 0.6739144325256348)]\n",
      "Algiers Algeria Beijing China \t:\t [('China', 0.7329220175743103)]\n",
      "Algiers Algeria Beirut Lebanon \t:\t [('Syria', 0.6176486015319824)]\n",
      "Algiers Algeria Belgrade Serbia \t:\t [('Serbia', 0.7389131784439087)]\n",
      "Algiers Algeria Belmopan Belize \t:\t [('Belize', 0.5170232057571411)]\n",
      "Algiers Algeria Berlin Germany \t:\t [('Germany', 0.6803668737411499)]\n",
      "Algiers Algeria Bern Switzerland \t:\t [('Switzerland', 0.5264310836791992)]\n",
      "Algiers Algeria Bishkek Kyrgyzstan \t:\t [('Kyrgyzstan', 0.7209534049034119)]\n",
      "Algiers Algeria Bratislava Slovakia \t:\t [('Slovakia', 0.7155420780181885)]\n",
      "Algiers Algeria Brussels Belgium \t:\t [('EU', 0.6380389928817749)]\n",
      "Algiers Algeria Bucharest Romania \t:\t [('Romania', 0.7332546710968018)]\n",
      "Algiers Algeria Budapest Hungary \t:\t [('Hungary', 0.7044358253479004)]\n",
      "Algiers Algeria Bujumbura Burundi \t:\t [('Burundi', 0.613896369934082)]\n",
      "Algiers Algeria Cairo Egypt \t:\t [('Egypt', 0.7336875200271606)]\n",
      "Algiers Algeria Canberra Australia \t:\t [('Australia', 0.667649507522583)]\n",
      "Algiers Algeria Caracas Venezuela \t:\t [('Venezuela', 0.7136573791503906)]\n",
      "Algiers Algeria Chisinau Moldova \t:\t [('Moldova', 0.6954629421234131)]\n",
      "Algiers Algeria Conakry Guinea \t:\t [('Ivory_Coast', 0.5831710696220398)]\n",
      "Algiers Algeria Copenhagen Denmark \t:\t [('Denmark', 0.6171181797981262)]\n",
      "Algiers Algeria Dakar Senegal \t:\t [('Dakar_Rally', 0.5877426862716675)]\n",
      "Algiers Algeria Damascus Syria \t:\t [('Syria', 0.7268879413604736)]\n",
      "Algiers Algeria Dhaka Bangladesh \t:\t [('Bangladesh', 0.7315231561660767)]\n",
      "Algiers Algeria Doha Qatar \t:\t [('Qatar', 0.5988196134567261)]\n",
      "Algiers Algeria Dublin Ireland \t:\t [('Ireland', 0.69598388671875)]\n"
     ]
    },
    {
     "name": "stdout",
     "output_type": "stream",
     "text": [
      "Algiers Algeria Dushanbe Tajikistan \t:\t [('Tajikistan', 0.723807692527771)]\n",
      "Algiers Algeria Funafuti Tuvalu \t:\t [('Kiribati', 0.47552603483200073)]\n",
      "Algiers Algeria Gaborone Botswana \t:\t [('Botswana', 0.6826014518737793)]\n",
      "Amman Jordan Ankara Turkey \t:\t [('Turkey', 0.5992019176483154)]\n",
      "Amman Jordan Antananarivo Madagascar \t:\t [('Mohamed_Berte', 0.4133456349372864)]\n",
      "Amman Jordan Apia Samoa \t:\t [('Siua', 0.4806203842163086)]\n",
      "Amman Jordan Ashgabat Turkmenistan \t:\t [('Turkmenistan', 0.536689043045044)]\n",
      "Amman Jordan Asmara Eritrea \t:\t [('Eritrea', 0.527511715888977)]\n",
      "Amman Jordan Astana Kazakhstan \t:\t [('Garmin_Cervélo', 0.5214586853981018)]\n",
      "Amman Jordan Athens Greece \t:\t [('Jarred_Gambrell', 0.5088173151016235)]\n",
      "Amman Jordan Baghdad Iraq \t:\t [('Iraqi', 0.5126104354858398)]\n",
      "Amman Jordan Baku Azerbaijan \t:\t [('Azerbaijan', 0.5811299681663513)]\n",
      "Amman Jordan Bamako Mali \t:\t [('Senegal', 0.48714134097099304)]\n",
      "Amman Jordan Bangkok Thailand \t:\t [('Thailand', 0.5061362385749817)]\n",
      "Amman Jordan Banjul Gambia \t:\t [('Gambia', 0.4656473696231842)]\n",
      "Amman Jordan Beijing China \t:\t [('China', 0.5920189619064331)]\n",
      "Amman Jordan Beirut Lebanon \t:\t [('Lebanon', 0.5926629304885864)]\n",
      "Amman Jordan Belgrade Serbia \t:\t [('Serbia', 0.517594039440155)]\n",
      "Amman Jordan Belmopan Belize \t:\t [('Belize', 0.4830123484134674)]\n",
      "Amman Jordan Berlin Germany \t:\t [('Riley_Tutas', 0.4790624976158142)]\n"
     ]
    },
    {
     "ename": "KeyboardInterrupt",
     "evalue": "",
     "output_type": "error",
     "traceback": [
      "\u001b[0;31m---------------------------------------------------------------------------\u001b[0m",
      "\u001b[0;31mKeyboardInterrupt\u001b[0m                         Traceback (most recent call last)",
      "\u001b[0;32m<ipython-input-74-b93b666a5f3f>\u001b[0m in \u001b[0;36m<module>\u001b[0;34m\u001b[0m\n\u001b[1;32m      1\u001b[0m \u001b[0;32mfor\u001b[0m \u001b[0mquestion\u001b[0m \u001b[0;32min\u001b[0m \u001b[0mquestions\u001b[0m\u001b[0;34m:\u001b[0m\u001b[0;34m\u001b[0m\u001b[0;34m\u001b[0m\u001b[0m\n\u001b[0;32m----> 2\u001b[0;31m     \u001b[0mres\u001b[0m\u001b[0;34m=\u001b[0m\u001b[0mmodel\u001b[0m\u001b[0;34m.\u001b[0m\u001b[0mmost_similar\u001b[0m\u001b[0;34m(\u001b[0m\u001b[0mpositive\u001b[0m\u001b[0;34m=\u001b[0m\u001b[0;34m[\u001b[0m\u001b[0mquestion\u001b[0m\u001b[0;34m[\u001b[0m\u001b[0;36m1\u001b[0m\u001b[0;34m]\u001b[0m\u001b[0;34m,\u001b[0m \u001b[0mquestion\u001b[0m\u001b[0;34m[\u001b[0m\u001b[0;36m2\u001b[0m\u001b[0;34m]\u001b[0m\u001b[0;34m]\u001b[0m\u001b[0;34m,\u001b[0m\u001b[0mnegative\u001b[0m\u001b[0;34m=\u001b[0m\u001b[0;34m[\u001b[0m\u001b[0mquestion\u001b[0m\u001b[0;34m[\u001b[0m\u001b[0;36m0\u001b[0m\u001b[0;34m]\u001b[0m\u001b[0;34m]\u001b[0m\u001b[0;34m,\u001b[0m\u001b[0mtopn\u001b[0m\u001b[0;34m=\u001b[0m\u001b[0;36m1\u001b[0m\u001b[0;34m)\u001b[0m\u001b[0;34m\u001b[0m\u001b[0;34m\u001b[0m\u001b[0m\n\u001b[0m\u001b[1;32m      3\u001b[0m     \u001b[0mprint\u001b[0m\u001b[0;34m(\u001b[0m\u001b[0;34m\" \"\u001b[0m\u001b[0;34m.\u001b[0m\u001b[0mjoin\u001b[0m\u001b[0;34m(\u001b[0m\u001b[0mquestion\u001b[0m\u001b[0;34m)\u001b[0m\u001b[0;34m,\u001b[0m\u001b[0;34m\"\\t:\\t\"\u001b[0m\u001b[0;34m,\u001b[0m\u001b[0mres\u001b[0m\u001b[0;34m)\u001b[0m\u001b[0;34m\u001b[0m\u001b[0;34m\u001b[0m\u001b[0m\n",
      "\u001b[0;32m~/anaconda3/lib/python3.8/site-packages/gensim/models/keyedvectors.py\u001b[0m in \u001b[0;36mmost_similar\u001b[0;34m(self, positive, negative, topn, restrict_vocab, indexer)\u001b[0m\n\u001b[1;32m    562\u001b[0m \u001b[0;34m\u001b[0m\u001b[0m\n\u001b[1;32m    563\u001b[0m         \u001b[0mlimited\u001b[0m \u001b[0;34m=\u001b[0m \u001b[0mself\u001b[0m\u001b[0;34m.\u001b[0m\u001b[0mvectors_norm\u001b[0m \u001b[0;32mif\u001b[0m \u001b[0mrestrict_vocab\u001b[0m \u001b[0;32mis\u001b[0m \u001b[0;32mNone\u001b[0m \u001b[0;32melse\u001b[0m \u001b[0mself\u001b[0m\u001b[0;34m.\u001b[0m\u001b[0mvectors_norm\u001b[0m\u001b[0;34m[\u001b[0m\u001b[0;34m:\u001b[0m\u001b[0mrestrict_vocab\u001b[0m\u001b[0;34m]\u001b[0m\u001b[0;34m\u001b[0m\u001b[0;34m\u001b[0m\u001b[0m\n\u001b[0;32m--> 564\u001b[0;31m         \u001b[0mdists\u001b[0m \u001b[0;34m=\u001b[0m \u001b[0mdot\u001b[0m\u001b[0;34m(\u001b[0m\u001b[0mlimited\u001b[0m\u001b[0;34m,\u001b[0m \u001b[0mmean\u001b[0m\u001b[0;34m)\u001b[0m\u001b[0;34m\u001b[0m\u001b[0;34m\u001b[0m\u001b[0m\n\u001b[0m\u001b[1;32m    565\u001b[0m         \u001b[0;32mif\u001b[0m \u001b[0;32mnot\u001b[0m \u001b[0mtopn\u001b[0m\u001b[0;34m:\u001b[0m\u001b[0;34m\u001b[0m\u001b[0;34m\u001b[0m\u001b[0m\n\u001b[1;32m    566\u001b[0m             \u001b[0;32mreturn\u001b[0m \u001b[0mdists\u001b[0m\u001b[0;34m\u001b[0m\u001b[0;34m\u001b[0m\u001b[0m\n",
      "\u001b[0;32m<__array_function__ internals>\u001b[0m in \u001b[0;36mdot\u001b[0;34m(*args, **kwargs)\u001b[0m\n",
      "\u001b[0;31mKeyboardInterrupt\u001b[0m: "
     ]
    }
   ],
   "source": [
    "for question in questions:\n",
    "    res=model.most_similar(positive=[question[1], question[2]],negative=[question[0]],topn=1)\n",
    "    print(\" \".join(question),\"\\t:\\t\",res)"
   ]
  },
  {
   "cell_type": "markdown",
   "metadata": {},
   "source": [
    "### 65"
   ]
  },
  {
   "cell_type": "code",
   "execution_count": 75,
   "metadata": {},
   "outputs": [],
   "source": [
    "from sklearn.metrics import accuracy_score"
   ]
  },
  {
   "cell_type": "code",
   "execution_count": 80,
   "metadata": {},
   "outputs": [
    {
     "data": {
      "text/plain": [
       "'Ontario'"
      ]
     },
     "execution_count": 80,
     "metadata": {},
     "output_type": "execute_result"
    }
   ],
   "source": [
    "model.most_similar(positive=[question[1], question[2]],negative=[question[0]],topn=1)"
   ]
  },
  {
   "cell_type": "code",
   "execution_count": 81,
   "metadata": {},
   "outputs": [
    {
     "ename": "KeyboardInterrupt",
     "evalue": "",
     "output_type": "error",
     "traceback": [
      "\u001b[0;31m---------------------------------------------------------------------------\u001b[0m",
      "\u001b[0;31mKeyboardInterrupt\u001b[0m                         Traceback (most recent call last)",
      "\u001b[0;32m<ipython-input-81-d338beee6af5>\u001b[0m in \u001b[0;36m<module>\u001b[0;34m\u001b[0m\n\u001b[1;32m      1\u001b[0m \u001b[0msemantic\u001b[0m\u001b[0;34m=\u001b[0m\u001b[0;34m[\u001b[0m\u001b[0;34m]\u001b[0m\u001b[0;34m\u001b[0m\u001b[0;34m\u001b[0m\u001b[0m\n\u001b[1;32m      2\u001b[0m \u001b[0;32mfor\u001b[0m \u001b[0mquestion\u001b[0m \u001b[0;32min\u001b[0m \u001b[0mquestions\u001b[0m\u001b[0;34m:\u001b[0m\u001b[0;34m\u001b[0m\u001b[0;34m\u001b[0m\u001b[0m\n\u001b[0;32m----> 3\u001b[0;31m     \u001b[0msemantic\u001b[0m\u001b[0;34m.\u001b[0m\u001b[0mappend\u001b[0m\u001b[0;34m(\u001b[0m\u001b[0mmodel\u001b[0m\u001b[0;34m.\u001b[0m\u001b[0mmost_similar\u001b[0m\u001b[0;34m(\u001b[0m\u001b[0mpositive\u001b[0m\u001b[0;34m=\u001b[0m\u001b[0;34m[\u001b[0m\u001b[0mquestion\u001b[0m\u001b[0;34m[\u001b[0m\u001b[0;36m1\u001b[0m\u001b[0;34m]\u001b[0m\u001b[0;34m,\u001b[0m \u001b[0mquestion\u001b[0m\u001b[0;34m[\u001b[0m\u001b[0;36m2\u001b[0m\u001b[0;34m]\u001b[0m\u001b[0;34m]\u001b[0m\u001b[0;34m,\u001b[0m\u001b[0mnegative\u001b[0m\u001b[0;34m=\u001b[0m\u001b[0;34m[\u001b[0m\u001b[0mquestion\u001b[0m\u001b[0;34m[\u001b[0m\u001b[0;36m0\u001b[0m\u001b[0;34m]\u001b[0m\u001b[0;34m]\u001b[0m\u001b[0;34m,\u001b[0m\u001b[0mtopn\u001b[0m\u001b[0;34m=\u001b[0m\u001b[0;36m1\u001b[0m\u001b[0;34m)\u001b[0m\u001b[0;34m[\u001b[0m\u001b[0;36m0\u001b[0m\u001b[0;34m]\u001b[0m\u001b[0;34m[\u001b[0m\u001b[0;36m0\u001b[0m\u001b[0;34m]\u001b[0m\u001b[0;34m)\u001b[0m\u001b[0;34m\u001b[0m\u001b[0;34m\u001b[0m\u001b[0m\n\u001b[0m",
      "\u001b[0;32m~/anaconda3/lib/python3.8/site-packages/gensim/models/keyedvectors.py\u001b[0m in \u001b[0;36mmost_similar\u001b[0;34m(self, positive, negative, topn, restrict_vocab, indexer)\u001b[0m\n\u001b[1;32m    565\u001b[0m         \u001b[0;32mif\u001b[0m \u001b[0;32mnot\u001b[0m \u001b[0mtopn\u001b[0m\u001b[0;34m:\u001b[0m\u001b[0;34m\u001b[0m\u001b[0;34m\u001b[0m\u001b[0m\n\u001b[1;32m    566\u001b[0m             \u001b[0;32mreturn\u001b[0m \u001b[0mdists\u001b[0m\u001b[0;34m\u001b[0m\u001b[0;34m\u001b[0m\u001b[0m\n\u001b[0;32m--> 567\u001b[0;31m         \u001b[0mbest\u001b[0m \u001b[0;34m=\u001b[0m \u001b[0mmatutils\u001b[0m\u001b[0;34m.\u001b[0m\u001b[0margsort\u001b[0m\u001b[0;34m(\u001b[0m\u001b[0mdists\u001b[0m\u001b[0;34m,\u001b[0m \u001b[0mtopn\u001b[0m\u001b[0;34m=\u001b[0m\u001b[0mtopn\u001b[0m \u001b[0;34m+\u001b[0m \u001b[0mlen\u001b[0m\u001b[0;34m(\u001b[0m\u001b[0mall_words\u001b[0m\u001b[0;34m)\u001b[0m\u001b[0;34m,\u001b[0m \u001b[0mreverse\u001b[0m\u001b[0;34m=\u001b[0m\u001b[0;32mTrue\u001b[0m\u001b[0;34m)\u001b[0m\u001b[0;34m\u001b[0m\u001b[0;34m\u001b[0m\u001b[0m\n\u001b[0m\u001b[1;32m    568\u001b[0m         \u001b[0;31m# ignore (don't return) words from the input\u001b[0m\u001b[0;34m\u001b[0m\u001b[0;34m\u001b[0m\u001b[0;34m\u001b[0m\u001b[0m\n\u001b[1;32m    569\u001b[0m         \u001b[0mresult\u001b[0m \u001b[0;34m=\u001b[0m \u001b[0;34m[\u001b[0m\u001b[0;34m(\u001b[0m\u001b[0mself\u001b[0m\u001b[0;34m.\u001b[0m\u001b[0mindex2word\u001b[0m\u001b[0;34m[\u001b[0m\u001b[0msim\u001b[0m\u001b[0;34m]\u001b[0m\u001b[0;34m,\u001b[0m \u001b[0mfloat\u001b[0m\u001b[0;34m(\u001b[0m\u001b[0mdists\u001b[0m\u001b[0;34m[\u001b[0m\u001b[0msim\u001b[0m\u001b[0;34m]\u001b[0m\u001b[0;34m)\u001b[0m\u001b[0;34m)\u001b[0m \u001b[0;32mfor\u001b[0m \u001b[0msim\u001b[0m \u001b[0;32min\u001b[0m \u001b[0mbest\u001b[0m \u001b[0;32mif\u001b[0m \u001b[0msim\u001b[0m \u001b[0;32mnot\u001b[0m \u001b[0;32min\u001b[0m \u001b[0mall_words\u001b[0m\u001b[0;34m]\u001b[0m\u001b[0;34m\u001b[0m\u001b[0;34m\u001b[0m\u001b[0m\n",
      "\u001b[0;32m~/anaconda3/lib/python3.8/site-packages/gensim/matutils.py\u001b[0m in \u001b[0;36margsort\u001b[0;34m(x, topn, reverse)\u001b[0m\n\u001b[1;32m     81\u001b[0m         \u001b[0;32mreturn\u001b[0m \u001b[0mnp\u001b[0m\u001b[0;34m.\u001b[0m\u001b[0margsort\u001b[0m\u001b[0;34m(\u001b[0m\u001b[0mx\u001b[0m\u001b[0;34m)\u001b[0m\u001b[0;34m[\u001b[0m\u001b[0;34m:\u001b[0m\u001b[0mtopn\u001b[0m\u001b[0;34m]\u001b[0m\u001b[0;34m\u001b[0m\u001b[0;34m\u001b[0m\u001b[0m\n\u001b[1;32m     82\u001b[0m     \u001b[0;31m# np >= 1.8 has a fast partial argsort, use that!\u001b[0m\u001b[0;34m\u001b[0m\u001b[0;34m\u001b[0m\u001b[0;34m\u001b[0m\u001b[0m\n\u001b[0;32m---> 83\u001b[0;31m     \u001b[0mmost_extreme\u001b[0m \u001b[0;34m=\u001b[0m \u001b[0mnp\u001b[0m\u001b[0;34m.\u001b[0m\u001b[0margpartition\u001b[0m\u001b[0;34m(\u001b[0m\u001b[0mx\u001b[0m\u001b[0;34m,\u001b[0m \u001b[0mtopn\u001b[0m\u001b[0;34m)\u001b[0m\u001b[0;34m[\u001b[0m\u001b[0;34m:\u001b[0m\u001b[0mtopn\u001b[0m\u001b[0;34m]\u001b[0m\u001b[0;34m\u001b[0m\u001b[0;34m\u001b[0m\u001b[0m\n\u001b[0m\u001b[1;32m     84\u001b[0m     \u001b[0;32mreturn\u001b[0m \u001b[0mmost_extreme\u001b[0m\u001b[0;34m.\u001b[0m\u001b[0mtake\u001b[0m\u001b[0;34m(\u001b[0m\u001b[0mnp\u001b[0m\u001b[0;34m.\u001b[0m\u001b[0margsort\u001b[0m\u001b[0;34m(\u001b[0m\u001b[0mx\u001b[0m\u001b[0;34m.\u001b[0m\u001b[0mtake\u001b[0m\u001b[0;34m(\u001b[0m\u001b[0mmost_extreme\u001b[0m\u001b[0;34m)\u001b[0m\u001b[0;34m)\u001b[0m\u001b[0;34m)\u001b[0m  \u001b[0;31m# resort topn into order\u001b[0m\u001b[0;34m\u001b[0m\u001b[0;34m\u001b[0m\u001b[0m\n\u001b[1;32m     85\u001b[0m \u001b[0;34m\u001b[0m\u001b[0m\n",
      "\u001b[0;32m<__array_function__ internals>\u001b[0m in \u001b[0;36margpartition\u001b[0;34m(*args, **kwargs)\u001b[0m\n",
      "\u001b[0;32m~/anaconda3/lib/python3.8/site-packages/numpy/core/fromnumeric.py\u001b[0m in \u001b[0;36margpartition\u001b[0;34m(a, kth, axis, kind, order)\u001b[0m\n\u001b[1;32m    828\u001b[0m \u001b[0;34m\u001b[0m\u001b[0m\n\u001b[1;32m    829\u001b[0m     \"\"\"\n\u001b[0;32m--> 830\u001b[0;31m     \u001b[0;32mreturn\u001b[0m \u001b[0m_wrapfunc\u001b[0m\u001b[0;34m(\u001b[0m\u001b[0ma\u001b[0m\u001b[0;34m,\u001b[0m \u001b[0;34m'argpartition'\u001b[0m\u001b[0;34m,\u001b[0m \u001b[0mkth\u001b[0m\u001b[0;34m,\u001b[0m \u001b[0maxis\u001b[0m\u001b[0;34m=\u001b[0m\u001b[0maxis\u001b[0m\u001b[0;34m,\u001b[0m \u001b[0mkind\u001b[0m\u001b[0;34m=\u001b[0m\u001b[0mkind\u001b[0m\u001b[0;34m,\u001b[0m \u001b[0morder\u001b[0m\u001b[0;34m=\u001b[0m\u001b[0morder\u001b[0m\u001b[0;34m)\u001b[0m\u001b[0;34m\u001b[0m\u001b[0;34m\u001b[0m\u001b[0m\n\u001b[0m\u001b[1;32m    831\u001b[0m \u001b[0;34m\u001b[0m\u001b[0m\n\u001b[1;32m    832\u001b[0m \u001b[0;34m\u001b[0m\u001b[0m\n",
      "\u001b[0;32m~/anaconda3/lib/python3.8/site-packages/numpy/core/fromnumeric.py\u001b[0m in \u001b[0;36m_wrapfunc\u001b[0;34m(obj, method, *args, **kwds)\u001b[0m\n\u001b[1;32m     59\u001b[0m \u001b[0;34m\u001b[0m\u001b[0m\n\u001b[1;32m     60\u001b[0m     \u001b[0;32mtry\u001b[0m\u001b[0;34m:\u001b[0m\u001b[0;34m\u001b[0m\u001b[0;34m\u001b[0m\u001b[0m\n\u001b[0;32m---> 61\u001b[0;31m         \u001b[0;32mreturn\u001b[0m \u001b[0mbound\u001b[0m\u001b[0;34m(\u001b[0m\u001b[0;34m*\u001b[0m\u001b[0margs\u001b[0m\u001b[0;34m,\u001b[0m \u001b[0;34m**\u001b[0m\u001b[0mkwds\u001b[0m\u001b[0;34m)\u001b[0m\u001b[0;34m\u001b[0m\u001b[0;34m\u001b[0m\u001b[0m\n\u001b[0m\u001b[1;32m     62\u001b[0m     \u001b[0;32mexcept\u001b[0m \u001b[0mTypeError\u001b[0m\u001b[0;34m:\u001b[0m\u001b[0;34m\u001b[0m\u001b[0;34m\u001b[0m\u001b[0m\n\u001b[1;32m     63\u001b[0m         \u001b[0;31m# A TypeError occurs if the object does have such a method in its\u001b[0m\u001b[0;34m\u001b[0m\u001b[0;34m\u001b[0m\u001b[0;34m\u001b[0m\u001b[0m\n",
      "\u001b[0;31mKeyboardInterrupt\u001b[0m: "
     ]
    }
   ],
   "source": [
    "semantic=[]\n",
    "for question in questions:\n",
    "    semantic.append(model.most_similar(positive=[question[1], question[2]],negative=[question[0]],topn=1)[0][0])"
   ]
  },
  {
   "cell_type": "markdown",
   "metadata": {},
   "source": [
    "### 66"
   ]
  },
  {
   "cell_type": "code",
   "execution_count": null,
   "metadata": {},
   "outputs": [],
   "source": []
  },
  {
   "cell_type": "markdown",
   "metadata": {},
   "source": [
    "### 67"
   ]
  },
  {
   "cell_type": "code",
   "execution_count": null,
   "metadata": {},
   "outputs": [],
   "source": []
  },
  {
   "cell_type": "markdown",
   "metadata": {},
   "source": [
    "### 68"
   ]
  },
  {
   "cell_type": "code",
   "execution_count": null,
   "metadata": {},
   "outputs": [],
   "source": []
  },
  {
   "cell_type": "markdown",
   "metadata": {},
   "source": [
    "### 69"
   ]
  },
  {
   "cell_type": "code",
   "execution_count": null,
   "metadata": {},
   "outputs": [],
   "source": []
  }
 ],
 "metadata": {
  "kernelspec": {
   "display_name": "Python 3",
   "language": "python",
   "name": "python3"
  },
  "language_info": {
   "codemirror_mode": {
    "name": "ipython",
    "version": 3
   },
   "file_extension": ".py",
   "mimetype": "text/x-python",
   "name": "python",
   "nbconvert_exporter": "python",
   "pygments_lexer": "ipython3",
   "version": "3.8.3"
  }
 },
 "nbformat": 4,
 "nbformat_minor": 4
}
