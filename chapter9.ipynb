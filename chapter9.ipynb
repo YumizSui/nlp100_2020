{
 "cells": [
  {
   "cell_type": "markdown",
   "metadata": {},
   "source": [
    "### 80"
   ]
  },
  {
   "cell_type": "code",
   "execution_count": 159,
   "metadata": {},
   "outputs": [],
   "source": [
    "import pandas as pd\n",
    "from sklearn.model_selection import train_test_split"
   ]
  },
  {
   "cell_type": "code",
   "execution_count": 184,
   "metadata": {},
   "outputs": [],
   "source": [
    "newsdf=pd.read_csv(\"src/newcorpora/newsCorpora.csv\",header=None,sep=\"\\t\", names=['ID', 'TITLE', 'URL', 'PUBLISHER', 'CATEGORY', 'STORY', 'HOSTNAME', 'TIMESTAMP'],quoting=3)\n",
    "newsdf=newsdf[newsdf.PUBLISHER.isin([\"Reuters\",\"Huffington Post\",\"Businessweek\",\"Contactmusic.com\",\"Daily Mail\"])][[\"CATEGORY\",\"TITLE\"]]\n",
    "train,test=train_test_split(newsdf,test_size=0.2,stratify=newsdf.CATEGORY)\n",
    "valid,test=train_test_split(test,test_size=0.5,stratify=test.CATEGORY)\n",
    "train.to_csv('src/newcorpora/train.txt', index=False, sep=\"\\t\",header=None)\n",
    "valid.to_csv('src/newcorpora/valid.txt', index=False, sep=\"\\t\",header=None)\n",
    "test.to_csv('src/newcorpora/test.txt', index=False, sep=\"\\t\",header=None)"
   ]
  },
  {
   "cell_type": "code",
   "execution_count": 1,
   "metadata": {},
   "outputs": [],
   "source": [
    "from sklearn.feature_extraction.text import CountVectorizer\n",
    "import pandas as pd\n",
    "import string\n",
    "import re\n",
    "import numpy as np"
   ]
  },
  {
   "cell_type": "code",
   "execution_count": 2,
   "metadata": {},
   "outputs": [],
   "source": [
    "def normalizeText(text):\n",
    "    text = text.lower()  # 小文字化\n",
    "    table = str.maketrans(string.punctuation, ' '*len(string.punctuation))\n",
    "#     text = re.sub('[0-9|,|.]+', '0', text)\n",
    "    text = text.translate(table)\n",
    "    text = re.sub(r\"\\s+\", \" \", text)\n",
    "    text = re.sub(r\"^ | $\", \"\", text)\n",
    "    return text"
   ]
  },
  {
   "cell_type": "code",
   "execution_count": 3,
   "metadata": {},
   "outputs": [],
   "source": [
    "train=pd.read_csv('src/newcorpora/train.txt', sep=\"\\t\",header=None,names=[\"CATEGORY\", \"TITLE\"])\n",
    "valid=pd.read_csv('src/newcorpora/valid.txt', sep=\"\\t\",header=None,names=[\"CATEGORY\", \"TITLE\"])\n",
    "test=pd.read_csv('src/newcorpora/test.txt', sep=\"\\t\",header=None,names=[\"CATEGORY\", \"TITLE\"])"
   ]
  },
  {
   "cell_type": "code",
   "execution_count": 4,
   "metadata": {},
   "outputs": [],
   "source": [
    "Cntvec = CountVectorizer(min_df=2)\n",
    "\n",
    "train_vec=Cntvec.fit_transform(train.TITLE.map(lambda x: normalizeText(x))).toarray()\n",
    "valid_vec=Cntvec.transform(valid.TITLE.map(lambda x: normalizeText(x))).toarray()\n",
    "test_vec=Cntvec.transform(test.TITLE.map(lambda x: normalizeText(x))).toarray()"
   ]
  },
  {
   "cell_type": "code",
   "execution_count": 5,
   "metadata": {},
   "outputs": [],
   "source": [
    "word_sum=train_vec.sum(axis=0)\n",
    "idx=word_sum.argsort()[::-1]\n",
    "word_list=np.array(Cntvec.get_feature_names())[idx]\n",
    "word_id_dict=dict(zip(word_list,range(1,len(word_list)+1)))\n",
    "# word_cnt_dict=dict(zip(word_list, word_sum))"
   ]
  },
  {
   "cell_type": "code",
   "execution_count": 6,
   "metadata": {},
   "outputs": [],
   "source": [
    "def gen_ID_List(sentence):\n",
    "    l=[]\n",
    "    for word in sentence.split():\n",
    "        wdID=word_id_dict.get(word,0)\n",
    "        l.append(wdID)\n",
    "    return l"
   ]
  },
  {
   "cell_type": "markdown",
   "metadata": {},
   "source": [
    "### 81"
   ]
  },
  {
   "cell_type": "markdown",
   "metadata": {},
   "source": [
    "## モデル作成"
   ]
  },
  {
   "cell_type": "markdown",
   "metadata": {},
   "source": [
    "rnn の活性化はデフォルトでtanh  \n",
    "中間層は大きめに設定して正則化をするのが良いらしい？(普通のNN)"
   ]
  },
  {
   "cell_type": "code",
   "execution_count": 2,
   "metadata": {},
   "outputs": [],
   "source": [
    "import torch\n",
    "import torch.nn  as nn"
   ]
  },
  {
   "cell_type": "code",
   "execution_count": 226,
   "metadata": {},
   "outputs": [],
   "source": [
    "INPUT_SIZE=300 # d_w\n",
    "HIDDEN_SIZE=50 # d_h\n",
    "PADDING_IDX = len(word_list)\n",
    "VOCAB_SIZE=len(word_list)+1\n",
    "L=4\n",
    "class RNN(nn.Module):\n",
    "    def __init__(self):\n",
    "        super().__init__()\n",
    "        self.emb=nn.Embedding(VOCAB_SIZE, INPUT_SIZE) # onehotに変換して単語ベクトルに変換する関数\n",
    "        \n",
    "        self.hidden_size = HIDDEN_SIZE\n",
    "        #input tensor :(batch, seq_len, input_size)\n",
    "        self.rnn = nn.RNN(INPUT_SIZE, HIDDEN_SIZE,batch_first=True)\n",
    "        \n",
    "        self.fc = nn.Linear(HIDDEN_SIZE,L)\n",
    "    def forward(self,x):\n",
    "        self.batch_size = x.size()[0]\n",
    "        hidden = self.init_hidden()\n",
    "        \n",
    "        x=self.emb(x)\n",
    "        y, hidden = self.rnn(x,hidden)\n",
    "        y = self.fc(y[:,-1,:]) # 出力の最後だけを結果として渡す\n",
    "        return y\n",
    "    #RNNのデフォルトの層は1\n",
    "    def init_hidden(self):\n",
    "        hidden = torch.zeros(1,self.batch_size, self.hidden_size)\n",
    "        return hidden"
   ]
  },
  {
   "cell_type": "code",
   "execution_count": 9,
   "metadata": {},
   "outputs": [],
   "source": [
    "emb=nn.Embedding(VOCAB_SIZE, INPUT_SIZE)"
   ]
  },
  {
   "cell_type": "code",
   "execution_count": 10,
   "metadata": {},
   "outputs": [],
   "source": [
    "text=normalizeText(valid.TITLE[10])\n",
    "x=torch.tensor(gen_ID_List(text))"
   ]
  },
  {
   "cell_type": "code",
   "execution_count": 11,
   "metadata": {},
   "outputs": [
    {
     "data": {
      "text/plain": [
       "tensor([[-0.1102,  0.7828, -0.3399,  ...,  1.6307, -0.2476,  1.5979],\n",
       "        [ 0.2167, -0.5309,  0.1570,  ..., -0.4870, -0.0092,  0.1849],\n",
       "        [-0.1388, -0.8580, -0.9727,  ..., -0.3298, -1.1719, -0.4177],\n",
       "        ...,\n",
       "        [ 0.0703, -1.5975, -0.2642,  ..., -0.5586,  0.1703,  1.2075],\n",
       "        [-0.9074, -0.6535,  1.3424,  ..., -0.8454, -1.0196,  0.1668],\n",
       "        [ 1.9585, -0.8960, -0.3635,  ..., -0.0266, -0.7370,  0.9205]],\n",
       "       grad_fn=<EmbeddingBackward>)"
      ]
     },
     "execution_count": 11,
     "metadata": {},
     "output_type": "execute_result"
    }
   ],
   "source": [
    "emb(x)"
   ]
  },
  {
   "cell_type": "markdown",
   "metadata": {},
   "source": [
    "## データセット作成"
   ]
  },
  {
   "cell_type": "code",
   "execution_count": 3,
   "metadata": {},
   "outputs": [],
   "source": [
    "from torch.utils.data import Dataset\n",
    "\n",
    "# https://qiita.com/yamaru/items/c5f87d55d00066f8ad7cより\n",
    "\n",
    "class CreateDataset(Dataset):\n",
    "    def __init__(self, X, y, tokenizer):\n",
    "        self.X = X\n",
    "        self.y = y\n",
    "        self.tokenizer = tokenizer\n",
    "\n",
    "    def __len__(self):\n",
    "        return len(self.y)\n",
    "\n",
    "    def __getitem__(self, index):\n",
    "        text = self.X[index]\n",
    "        inputs = self.tokenizer(text)\n",
    "\n",
    "        return {\n",
    "          'inputs': torch.tensor(inputs, dtype=torch.int64),\n",
    "          'labels': torch.tensor(self.y[index], dtype=torch.int64)\n",
    "        }"
   ]
  },
  {
   "cell_type": "code",
   "execution_count": 13,
   "metadata": {},
   "outputs": [],
   "source": [
    "X_train=np.array(list(map(gen_ID_List, train.TITLE.map(lambda x: normalizeText(x)))))\n",
    "X_valid=np.array(list(map(gen_ID_List, valid.TITLE.map(lambda x: normalizeText(x)))))\n",
    "X_test=np.array(list(map(gen_ID_List, test.TITLE.map(lambda x: normalizeText(x)))))\n",
    "\n",
    "y_train=train[\"CATEGORY\"].map({'b':0,'e':1,'t':2,'m':3})\n",
    "y_valid=valid[\"CATEGORY\"].map({'b':0,'e':1,'t':2,'m':3})\n",
    "y_test=test[\"CATEGORY\"].map({'b':0,'e':1,'t':2,'m':3})"
   ]
  },
  {
   "cell_type": "code",
   "execution_count": 14,
   "metadata": {},
   "outputs": [],
   "source": [
    "def tokenizer(text, word_id_dict=word_id_dict):\n",
    "    text = normalizeText(text)\n",
    "    return [word_id_dict.get(word, 0) for word in text.split()]"
   ]
  },
  {
   "cell_type": "code",
   "execution_count": 15,
   "metadata": {},
   "outputs": [],
   "source": [
    "y_train=train[\"CATEGORY\"].map({'b':0,'e':1,'t':2,'m':3}).values\n",
    "y_valid=valid[\"CATEGORY\"].map({'b':0,'e':1,'t':2,'m':3}).values\n",
    "y_test=test[\"CATEGORY\"].map({'b':0,'e':1,'t':2,'m':3}).values"
   ]
  },
  {
   "cell_type": "code",
   "execution_count": 16,
   "metadata": {},
   "outputs": [],
   "source": [
    "dataset_train=CreateDataset(train.TITLE, y_train, tokenizer)\n",
    "dataset_valid=CreateDataset(valid.TITLE, y_valid, tokenizer)\n",
    "dataset_test=CreateDataset(test.TITLE, y_test, tokenizer)"
   ]
  },
  {
   "cell_type": "markdown",
   "metadata": {},
   "source": [
    "## 動かす"
   ]
  },
  {
   "cell_type": "code",
   "execution_count": 17,
   "metadata": {},
   "outputs": [],
   "source": [
    "Softmax = nn.Softmax(dim=-1)"
   ]
  },
  {
   "cell_type": "code",
   "execution_count": 18,
   "metadata": {},
   "outputs": [],
   "source": [
    "rnnModel=RNN()"
   ]
  },
  {
   "cell_type": "code",
   "execution_count": 19,
   "metadata": {},
   "outputs": [],
   "source": [
    "X = dataset_train[0]['inputs']"
   ]
  },
  {
   "cell_type": "code",
   "execution_count": 20,
   "metadata": {},
   "outputs": [
    {
     "data": {
      "text/plain": [
       "tensor([[0.2616, 0.1651, 0.3549, 0.2185]], grad_fn=<SoftmaxBackward>)"
      ]
     },
     "execution_count": 20,
     "metadata": {},
     "output_type": "execute_result"
    }
   ],
   "source": [
    "Softmax(rnnModel(X.unsqueeze(0))) # unsqueeze:次元増やしておく"
   ]
  },
  {
   "cell_type": "code",
   "execution_count": 21,
   "metadata": {},
   "outputs": [
    {
     "name": "stdout",
     "output_type": "stream",
     "text": [
      "tensor([[0.2616, 0.1651, 0.3549, 0.2185]], grad_fn=<SoftmaxBackward>)\n",
      "tensor([[0.1228, 0.2992, 0.2415, 0.3365]], grad_fn=<SoftmaxBackward>)\n",
      "tensor([[0.1253, 0.2896, 0.2519, 0.3332]], grad_fn=<SoftmaxBackward>)\n",
      "tensor([[0.3708, 0.1570, 0.2776, 0.1946]], grad_fn=<SoftmaxBackward>)\n",
      "tensor([[0.1139, 0.2865, 0.2337, 0.3660]], grad_fn=<SoftmaxBackward>)\n",
      "tensor([[0.1150, 0.5302, 0.1641, 0.1907]], grad_fn=<SoftmaxBackward>)\n",
      "tensor([[0.3503, 0.2588, 0.1834, 0.2075]], grad_fn=<SoftmaxBackward>)\n",
      "tensor([[0.2573, 0.2992, 0.2568, 0.1867]], grad_fn=<SoftmaxBackward>)\n",
      "tensor([[0.2176, 0.2752, 0.1635, 0.3437]], grad_fn=<SoftmaxBackward>)\n",
      "tensor([[0.1213, 0.1933, 0.3956, 0.2898]], grad_fn=<SoftmaxBackward>)\n"
     ]
    }
   ],
   "source": [
    "for i in range(10):\n",
    "    X = dataset_train[i]['inputs']\n",
    "    print(Softmax(rnnModel(X.unsqueeze(0))))"
   ]
  },
  {
   "cell_type": "markdown",
   "metadata": {},
   "source": [
    "### 82"
   ]
  },
  {
   "cell_type": "code",
   "execution_count": 22,
   "metadata": {},
   "outputs": [],
   "source": [
    "from tqdm import tqdm"
   ]
  },
  {
   "cell_type": "code",
   "execution_count": 21,
   "metadata": {},
   "outputs": [],
   "source": [
    "from torch.utils.tensorboard import SummaryWriter"
   ]
  },
  {
   "cell_type": "code",
   "execution_count": 24,
   "metadata": {},
   "outputs": [],
   "source": [
    "from torch.utils.data import TensorDataset, DataLoader\n",
    "import torch.optim as optim"
   ]
  },
  {
   "cell_type": "code",
   "execution_count": 25,
   "metadata": {},
   "outputs": [],
   "source": [
    "device = torch.device('cpu')"
   ]
  },
  {
   "cell_type": "code",
   "execution_count": 25,
   "metadata": {},
   "outputs": [],
   "source": [
    "def is_equal_pred(pred_y,true_y):\n",
    "    return Softmax(pred_y).argmax(axis=1) == true_y\n",
    "\n",
    "def train_step(train_X, train_y):\n",
    "    rnnModel.train()\n",
    "    pred_y = rnnModel(train_X)\n",
    "    \n",
    "    optimizer.zero_grad()\n",
    "    loss = criterion(pred_y, train_y)\n",
    "    loss.backward()\n",
    "    optimizer.step()\n",
    "    \n",
    "    with torch.no_grad():\n",
    "        n=len(train_y)\n",
    "        acc = is_equal_pred(pred_y,train_y).sum()\n",
    "    \n",
    "    return (loss.item(), acc.item()/n)\n",
    "\n",
    "def valid_step(valid_X, valid_y):\n",
    "    rnnModel.eval()\n",
    "    pred_y = rnnModel(valid_X)\n",
    "    \n",
    "    loss = criterion(pred_y, valid_y)\n",
    "    \n",
    "    with torch.no_grad():\n",
    "        n=len(valid_y)\n",
    "        acc = is_equal_pred(pred_y,valid_y).sum()\n",
    "\n",
    "    return (loss.item(), acc.item()/n)"
   ]
  },
  {
   "cell_type": "code",
   "execution_count": 49,
   "metadata": {},
   "outputs": [],
   "source": [
    "!rm -rf ./logs\n",
    "\n",
    "rnnModel=RNN()\n",
    "\n",
    "rnnModel = rnnModel.to(device)\n",
    "\n",
    "Softmax = nn.Softmax(dim=1)\n",
    "\n",
    "optimizer = optim.SGD(\n",
    "    rnnModel.parameters(),\n",
    "    lr=0.001)\n",
    "\n",
    "criterion = nn.CrossEntropyLoss()\n",
    "\n",
    "BATCHSIZE=1 # 固定長じゃないとBATCHは動かない\n",
    "\n",
    "ds_train = DataLoader(dataset_train, batch_size=BATCHSIZE, shuffle=True)\n",
    "ds_valid = DataLoader(dataset_valid, batch_size=BATCHSIZE, shuffle=True)"
   ]
  },
  {
   "cell_type": "code",
   "execution_count": 19,
   "metadata": {},
   "outputs": [],
   "source": [
    "%load_ext tensorboard"
   ]
  },
  {
   "cell_type": "code",
   "execution_count": 437,
   "metadata": {
    "scrolled": false
   },
   "outputs": [
    {
     "data": {
      "text/html": [
       "\n",
       "      <iframe id=\"tensorboard-frame-a4ce074bc9daf3fa\" width=\"100%\" height=\"800\" frameborder=\"0\">\n",
       "      </iframe>\n",
       "      <script>\n",
       "        (function() {\n",
       "          const frame = document.getElementById(\"tensorboard-frame-a4ce074bc9daf3fa\");\n",
       "          const url = new URL(\"/\", window.location);\n",
       "          const port = 6006;\n",
       "          if (port) {\n",
       "            url.port = port;\n",
       "          }\n",
       "          frame.src = url;\n",
       "        })();\n",
       "      </script>\n",
       "    "
      ],
      "text/plain": [
       "<IPython.core.display.HTML object>"
      ]
     },
     "metadata": {},
     "output_type": "display_data"
    },
    {
     "name": "stderr",
     "output_type": "stream",
     "text": [
      "100%|██████████| 10/10 [11:16<00:00, 67.62s/it]\n"
     ]
    }
   ],
   "source": [
    "%tensorboard --logdir ./logs\n",
    "\n",
    "EPOCHS = 10\n",
    "\n",
    "writer = SummaryWriter(log_dir=\"./logs\")\n",
    "\n",
    "for epoch in tqdm(range(EPOCHS)):\n",
    "    train_loss_mean=[]\n",
    "    train_acc_mean=[]\n",
    "    for data in ds_train:\n",
    "        train_loss, train_acc = train_step(data[\"inputs\"].to(device),data[\"labels\"].to(device))\n",
    "        train_loss_mean.append(train_loss)\n",
    "        train_acc_mean.append(train_acc)\n",
    "    \n",
    "    valid_loss_mean=[]\n",
    "    valid_acc_mean=[]\n",
    "    for data in ds_valid:\n",
    "        valid_loss, valid_acc=valid_step(data[\"inputs\"].to(device),data[\"labels\"].to(device))\n",
    "        valid_loss_mean.append(valid_loss)\n",
    "        valid_acc_mean.append(valid_acc)\n",
    "    \n",
    "    train_loss_mean=np.mean(train_loss_mean)\n",
    "    train_acc_mean=np.mean(train_acc_mean)\n",
    "    valid_loss_mean=np.mean(valid_loss_mean)\n",
    "    valid_acc_mean=np.mean(valid_acc_mean)\n",
    "    \n",
    "    with torch.no_grad():\n",
    "        writer.add_scalar(\"Loss/train\", train_loss_mean, epoch)\n",
    "        writer.add_scalar(\"Acc/train\", train_acc_mean, epoch)\n",
    "        writer.add_scalar(\"Loss/valid\", valid_loss_mean, epoch)\n",
    "        writer.add_scalar(\"Acc/valid\", valid_acc_mean, epoch)\n",
    "\n",
    "writer.close()"
   ]
  },
  {
   "cell_type": "markdown",
   "metadata": {},
   "source": [
    "### 83"
   ]
  },
  {
   "cell_type": "markdown",
   "metadata": {},
   "source": [
    "## ボツ案：collate_fnで最大系列長に合わせてパディングする"
   ]
  },
  {
   "cell_type": "code",
   "execution_count": 51,
   "metadata": {},
   "outputs": [],
   "source": [
    "### https://qiita.com/yamaru/items/c5f87d55d00066f8ad7c\n",
    "class Padsequence():\n",
    "    def __init__(self, padding_idx):\n",
    "        self.padding_idx = padding_idx\n",
    "\n",
    "    def __call__(self, batch):\n",
    "        sorted_batch = sorted(batch, key=lambda x: x['inputs'].shape[0], reverse=True)\n",
    "        sequences = [x['inputs'] for x in sorted_batch]\n",
    "        sequences_padded = torch.nn.utils.rnn.pad_sequence(sequences, batch_first=True, padding_value=self.padding_idx)\n",
    "        labels = torch.LongTensor([x['labels'] for x in sorted_batch])\n",
    "\n",
    "        return {'inputs': sequences_padded, 'labels': labels}"
   ]
  },
  {
   "cell_type": "code",
   "execution_count": 61,
   "metadata": {},
   "outputs": [],
   "source": [
    "!rm -rf ./logs\n",
    "\n",
    "rnnModel=RNN()\n",
    "\n",
    "rnnModel = rnnModel.to(device)\n",
    "\n",
    "Softmax = nn.Softmax(dim=1)\n",
    "\n",
    "optimizer = optim.SGD(\n",
    "    rnnModel.parameters(),\n",
    "    lr=0.001)\n",
    "\n",
    "criterion = nn.CrossEntropyLoss()\n",
    "\n",
    "BATCHSIZE=1\n",
    "\n",
    "ds_train = DataLoader(dataset_train, batch_size=BATCHSIZE, shuffle=True, collate_fn=Padsequence(PADDING_IDX))\n",
    "ds_valid = DataLoader(dataset_valid, batch_size=BATCHSIZE, shuffle=True, collate_fn=Padsequence(PADDING_IDX))"
   ]
  },
  {
   "cell_type": "code",
   "execution_count": 537,
   "metadata": {
    "collapsed": true
   },
   "outputs": [
    {
     "data": {
      "text/plain": [
       "Reusing TensorBoard on port 6006 (pid 28836), started 0:03:07 ago. (Use '!kill 28836' to kill it.)"
      ]
     },
     "metadata": {},
     "output_type": "display_data"
    },
    {
     "data": {
      "text/html": [
       "\n",
       "      <iframe id=\"tensorboard-frame-530dfdadd85ff63f\" width=\"100%\" height=\"800\" frameborder=\"0\">\n",
       "      </iframe>\n",
       "      <script>\n",
       "        (function() {\n",
       "          const frame = document.getElementById(\"tensorboard-frame-530dfdadd85ff63f\");\n",
       "          const url = new URL(\"/\", window.location);\n",
       "          const port = 6006;\n",
       "          if (port) {\n",
       "            url.port = port;\n",
       "          }\n",
       "          frame.src = url;\n",
       "        })();\n",
       "      </script>\n",
       "    "
      ],
      "text/plain": [
       "<IPython.core.display.HTML object>"
      ]
     },
     "metadata": {},
     "output_type": "display_data"
    },
    {
     "name": "stderr",
     "output_type": "stream",
     "text": [
      " 86%|████████▌ | 86/100 [06:22<01:02,  4.45s/it]\n"
     ]
    },
    {
     "ename": "KeyboardInterrupt",
     "evalue": "",
     "output_type": "error",
     "traceback": [
      "\u001b[0;31m---------------------------------------------------------------------------\u001b[0m",
      "\u001b[0;31mKeyboardInterrupt\u001b[0m                         Traceback (most recent call last)",
      "\u001b[0;32m<ipython-input-537-819f0b7ee9f1>\u001b[0m in \u001b[0;36m<module>\u001b[0;34m\u001b[0m\n\u001b[1;32m      9\u001b[0m     \u001b[0mtrain_acc_mean\u001b[0m\u001b[0;34m=\u001b[0m\u001b[0;34m[\u001b[0m\u001b[0;34m]\u001b[0m\u001b[0;34m\u001b[0m\u001b[0;34m\u001b[0m\u001b[0m\n\u001b[1;32m     10\u001b[0m     \u001b[0;32mfor\u001b[0m \u001b[0mdata\u001b[0m \u001b[0;32min\u001b[0m \u001b[0mds_train\u001b[0m\u001b[0;34m:\u001b[0m\u001b[0;34m\u001b[0m\u001b[0;34m\u001b[0m\u001b[0m\n\u001b[0;32m---> 11\u001b[0;31m         \u001b[0mtrain_loss\u001b[0m\u001b[0;34m,\u001b[0m \u001b[0mtrain_acc\u001b[0m \u001b[0;34m=\u001b[0m \u001b[0mtrain_step\u001b[0m\u001b[0;34m(\u001b[0m\u001b[0mdata\u001b[0m\u001b[0;34m[\u001b[0m\u001b[0;34m\"inputs\"\u001b[0m\u001b[0;34m]\u001b[0m\u001b[0;34m.\u001b[0m\u001b[0mto\u001b[0m\u001b[0;34m(\u001b[0m\u001b[0mdevice\u001b[0m\u001b[0;34m)\u001b[0m\u001b[0;34m,\u001b[0m\u001b[0mdata\u001b[0m\u001b[0;34m[\u001b[0m\u001b[0;34m\"labels\"\u001b[0m\u001b[0;34m]\u001b[0m\u001b[0;34m.\u001b[0m\u001b[0mto\u001b[0m\u001b[0;34m(\u001b[0m\u001b[0mdevice\u001b[0m\u001b[0;34m)\u001b[0m\u001b[0;34m)\u001b[0m\u001b[0;34m\u001b[0m\u001b[0;34m\u001b[0m\u001b[0m\n\u001b[0m\u001b[1;32m     12\u001b[0m         \u001b[0mtrain_loss_mean\u001b[0m\u001b[0;34m.\u001b[0m\u001b[0mappend\u001b[0m\u001b[0;34m(\u001b[0m\u001b[0mtrain_loss\u001b[0m\u001b[0;34m)\u001b[0m\u001b[0;34m\u001b[0m\u001b[0;34m\u001b[0m\u001b[0m\n\u001b[1;32m     13\u001b[0m         \u001b[0mtrain_acc_mean\u001b[0m\u001b[0;34m.\u001b[0m\u001b[0mappend\u001b[0m\u001b[0;34m(\u001b[0m\u001b[0mtrain_acc\u001b[0m\u001b[0;34m)\u001b[0m\u001b[0;34m\u001b[0m\u001b[0;34m\u001b[0m\u001b[0m\n",
      "\u001b[0;32m<ipython-input-434-ad7011bc81a6>\u001b[0m in \u001b[0;36mtrain_step\u001b[0;34m(train_X, train_y)\u001b[0m\n\u001b[1;32m      8\u001b[0m     \u001b[0moptimizer\u001b[0m\u001b[0;34m.\u001b[0m\u001b[0mzero_grad\u001b[0m\u001b[0;34m(\u001b[0m\u001b[0;34m)\u001b[0m\u001b[0;34m\u001b[0m\u001b[0;34m\u001b[0m\u001b[0m\n\u001b[1;32m      9\u001b[0m     \u001b[0mloss\u001b[0m \u001b[0;34m=\u001b[0m \u001b[0mcriterion\u001b[0m\u001b[0;34m(\u001b[0m\u001b[0mpred_y\u001b[0m\u001b[0;34m,\u001b[0m \u001b[0mtrain_y\u001b[0m\u001b[0;34m)\u001b[0m\u001b[0;34m\u001b[0m\u001b[0;34m\u001b[0m\u001b[0m\n\u001b[0;32m---> 10\u001b[0;31m     \u001b[0mloss\u001b[0m\u001b[0;34m.\u001b[0m\u001b[0mbackward\u001b[0m\u001b[0;34m(\u001b[0m\u001b[0;34m)\u001b[0m\u001b[0;34m\u001b[0m\u001b[0;34m\u001b[0m\u001b[0m\n\u001b[0m\u001b[1;32m     11\u001b[0m     \u001b[0moptimizer\u001b[0m\u001b[0;34m.\u001b[0m\u001b[0mstep\u001b[0m\u001b[0;34m(\u001b[0m\u001b[0;34m)\u001b[0m\u001b[0;34m\u001b[0m\u001b[0;34m\u001b[0m\u001b[0m\n\u001b[1;32m     12\u001b[0m \u001b[0;34m\u001b[0m\u001b[0m\n",
      "\u001b[0;32m~/anaconda3/lib/python3.8/site-packages/torch/tensor.py\u001b[0m in \u001b[0;36mbackward\u001b[0;34m(self, gradient, retain_graph, create_graph)\u001b[0m\n\u001b[1;32m    183\u001b[0m                 \u001b[0mproducts\u001b[0m\u001b[0;34m.\u001b[0m \u001b[0mDefaults\u001b[0m \u001b[0mto\u001b[0m\u001b[0;31m \u001b[0m\u001b[0;31m`\u001b[0m\u001b[0;31m`\u001b[0m\u001b[0;32mFalse\u001b[0m\u001b[0;31m`\u001b[0m\u001b[0;31m`\u001b[0m\u001b[0;34m.\u001b[0m\u001b[0;34m\u001b[0m\u001b[0;34m\u001b[0m\u001b[0m\n\u001b[1;32m    184\u001b[0m         \"\"\"\n\u001b[0;32m--> 185\u001b[0;31m         \u001b[0mtorch\u001b[0m\u001b[0;34m.\u001b[0m\u001b[0mautograd\u001b[0m\u001b[0;34m.\u001b[0m\u001b[0mbackward\u001b[0m\u001b[0;34m(\u001b[0m\u001b[0mself\u001b[0m\u001b[0;34m,\u001b[0m \u001b[0mgradient\u001b[0m\u001b[0;34m,\u001b[0m \u001b[0mretain_graph\u001b[0m\u001b[0;34m,\u001b[0m \u001b[0mcreate_graph\u001b[0m\u001b[0;34m)\u001b[0m\u001b[0;34m\u001b[0m\u001b[0;34m\u001b[0m\u001b[0m\n\u001b[0m\u001b[1;32m    186\u001b[0m \u001b[0;34m\u001b[0m\u001b[0m\n\u001b[1;32m    187\u001b[0m     \u001b[0;32mdef\u001b[0m \u001b[0mregister_hook\u001b[0m\u001b[0;34m(\u001b[0m\u001b[0mself\u001b[0m\u001b[0;34m,\u001b[0m \u001b[0mhook\u001b[0m\u001b[0;34m)\u001b[0m\u001b[0;34m:\u001b[0m\u001b[0;34m\u001b[0m\u001b[0;34m\u001b[0m\u001b[0m\n",
      "\u001b[0;32m~/anaconda3/lib/python3.8/site-packages/torch/autograd/__init__.py\u001b[0m in \u001b[0;36mbackward\u001b[0;34m(tensors, grad_tensors, retain_graph, create_graph, grad_variables)\u001b[0m\n\u001b[1;32m    123\u001b[0m         \u001b[0mretain_graph\u001b[0m \u001b[0;34m=\u001b[0m \u001b[0mcreate_graph\u001b[0m\u001b[0;34m\u001b[0m\u001b[0;34m\u001b[0m\u001b[0m\n\u001b[1;32m    124\u001b[0m \u001b[0;34m\u001b[0m\u001b[0m\n\u001b[0;32m--> 125\u001b[0;31m     Variable._execution_engine.run_backward(\n\u001b[0m\u001b[1;32m    126\u001b[0m         \u001b[0mtensors\u001b[0m\u001b[0;34m,\u001b[0m \u001b[0mgrad_tensors\u001b[0m\u001b[0;34m,\u001b[0m \u001b[0mretain_graph\u001b[0m\u001b[0;34m,\u001b[0m \u001b[0mcreate_graph\u001b[0m\u001b[0;34m,\u001b[0m\u001b[0;34m\u001b[0m\u001b[0;34m\u001b[0m\u001b[0m\n\u001b[1;32m    127\u001b[0m         allow_unreachable=True)  # allow_unreachable flag\n",
      "\u001b[0;31mKeyboardInterrupt\u001b[0m: "
     ]
    }
   ],
   "source": [
    "%tensorboard --logdir ./logs\n",
    "\n",
    "EPOCHS = 100\n",
    "\n",
    "writer = SummaryWriter(log_dir=\"./logs\")\n",
    "\n",
    "for epoch in tqdm(range(EPOCHS)):\n",
    "    train_loss_mean=[]\n",
    "    train_acc_mean=[]\n",
    "    for data in ds_train:\n",
    "        train_loss, train_acc = train_step(data[\"inputs\"].to(device),data[\"labels\"].to(device))\n",
    "        train_loss_mean.append(train_loss)\n",
    "        train_acc_mean.append(train_acc)\n",
    "    \n",
    "    valid_loss_mean=[]\n",
    "    valid_acc_mean=[]\n",
    "    for data in ds_valid:\n",
    "        valid_loss, valid_acc=valid_step(data[\"inputs\"].to(device),data[\"labels\"].to(device))\n",
    "        valid_loss_mean.append(valid_loss)\n",
    "        valid_acc_mean.append(valid_acc)\n",
    "    \n",
    "    train_loss_mean=np.mean(train_loss_mean)\n",
    "    train_acc_mean=np.mean(train_acc_mean)\n",
    "    valid_loss_mean=np.mean(valid_loss_mean)\n",
    "    valid_acc_mean=np.mean(valid_acc_mean)\n",
    "    \n",
    "    with torch.no_grad():\n",
    "        writer.add_scalar(\"Loss/train\", train_loss_mean, epoch)\n",
    "        writer.add_scalar(\"Acc/train\", train_acc_mean, epoch)\n",
    "        writer.add_scalar(\"Loss/valid\", valid_loss_mean, epoch)\n",
    "        writer.add_scalar(\"Acc/valid\", valid_acc_mean, epoch)\n",
    "\n",
    "writer.close()"
   ]
  },
  {
   "cell_type": "markdown",
   "metadata": {},
   "source": [
    "## torchtext"
   ]
  },
  {
   "cell_type": "code",
   "execution_count": 4,
   "metadata": {},
   "outputs": [],
   "source": [
    "import spacy\n",
    "spacy_en = spacy.load('en')\n",
    "def tokenizer(text):\n",
    "    text = re.sub(r\" +\", r\" \", text).strip()\n",
    "#     return [tok.text for tok in spacy_en.tokenizer(text) if tok.text not in string.punctuation]\n",
    "    return [tok.lemma_ for tok in spacy_en.tokenizer(text) if tok.text not in string.punctuation]"
   ]
  },
  {
   "cell_type": "code",
   "execution_count": 5,
   "metadata": {},
   "outputs": [],
   "source": [
    "from torchtext import data\n",
    "from torchtext import datasets"
   ]
  },
  {
   "cell_type": "code",
   "execution_count": 7,
   "metadata": {},
   "outputs": [],
   "source": [
    "device=torch.device(\"cpu\")"
   ]
  },
  {
   "cell_type": "code",
   "execution_count": 8,
   "metadata": {},
   "outputs": [
    {
     "name": "stderr",
     "output_type": "stream",
     "text": [
      "/home/yumizsui/anaconda3/lib/python3.8/site-packages/torchtext/data/field.py:150: UserWarning: Field class will be retired in the 0.8.0 release and moved to torchtext.legacy. Please see 0.7.0 release notes for further information.\n",
      "  warnings.warn('{} class will be retired in the 0.8.0 release and moved to torchtext.legacy. Please see 0.7.0 release notes for further information.'.format(self.__class__.__name__), UserWarning)\n",
      "/home/yumizsui/anaconda3/lib/python3.8/site-packages/torchtext/data/example.py:68: UserWarning: Example class will be retired in the 0.8.0 release and moved to torchtext.legacy. Please see 0.7.0 release notes for further information.\n",
      "  warnings.warn('Example class will be retired in the 0.8.0 release and moved to torchtext.legacy. Please see 0.7.0 release notes for further information.', UserWarning)\n",
      "/home/yumizsui/anaconda3/lib/python3.8/site-packages/torchtext/data/example.py:78: UserWarning: Example class will be retired in the 0.8.0 release and moved to torchtext.legacy. Please see 0.7.0 release notes for further information.\n",
      "  warnings.warn('Example class will be retired in the 0.8.0 release and moved to torchtext.legacy. Please see 0.7.0 release notes for further information.', UserWarning)\n",
      "/home/yumizsui/anaconda3/lib/python3.8/site-packages/torchtext/data/iterator.py:48: UserWarning: Iterator class will be retired in the 0.8.0 release and moved to torchtext.legacy. Please see 0.7.0 release notes for further information.\n",
      "  warnings.warn('{} class will be retired in the 0.8.0 release and moved to torchtext.legacy. Please see 0.7.0 release notes for further information.'.format(self.__class__.__name__), UserWarning)\n"
     ]
    }
   ],
   "source": [
    "batch_size=32\n",
    "\n",
    "LABEL = data.Field(sequential=False, batch_first=True, use_vocab=False)\n",
    "TEXT = data.Field(sequential=True, tokenize=tokenizer, lower=True, batch_first=True)\n",
    "#sequential: 可変長か\n",
    "# futurewaningとかいっぱい出るけど無視\n",
    "train, val, test = data.TabularDataset.splits(\n",
    "        path='src/newcorpora/', train='train2.txt',\n",
    "        validation='valid2.txt', test='test2.txt', format='tsv',\n",
    "        fields=[('Label', LABEL),('Text', TEXT)])\n",
    "\n",
    "TEXT.build_vocab(train, min_freq=2)\n",
    "LABEL.build_vocab(train)\n",
    "\n",
    "train_iter, val_iter, test_iter = data.Iterator.splits(\n",
    "    (train, val, test), batch_sizes=(batch_size, batch_size, batch_size), device=device, repeat=False, sort=False,shuffle=True)"
   ]
  },
  {
   "cell_type": "code",
   "execution_count": 10,
   "metadata": {},
   "outputs": [],
   "source": [
    "!rm -rf ./logs\n",
    "\n",
    "device=torch.device('cpu')\n",
    "\n",
    "rnnModel=RNN()\n",
    "\n",
    "rnnModel = rnnModel.to(device)\n",
    "\n",
    "Softmax = nn.Softmax(dim=-1)\n",
    "\n",
    "optimizer = optim.SGD(\n",
    "    rnnModel.parameters(),\n",
    "    lr=0.01)\n",
    "\n",
    "criterion = nn.CrossEntropyLoss()"
   ]
  },
  {
   "cell_type": "code",
   "execution_count": 257,
   "metadata": {
    "scrolled": false
   },
   "outputs": [
    {
     "data": {
      "text/plain": [
       "Reusing TensorBoard on port 6006 (pid 49172), started 0:03:45 ago. (Use '!kill 49172' to kill it.)"
      ]
     },
     "metadata": {},
     "output_type": "display_data"
    },
    {
     "data": {
      "text/html": [
       "\n",
       "      <iframe id=\"tensorboard-frame-fe81e447dff3d0bd\" width=\"100%\" height=\"800\" frameborder=\"0\">\n",
       "      </iframe>\n",
       "      <script>\n",
       "        (function() {\n",
       "          const frame = document.getElementById(\"tensorboard-frame-fe81e447dff3d0bd\");\n",
       "          const url = new URL(\"/\", window.location);\n",
       "          const port = 6006;\n",
       "          if (port) {\n",
       "            url.port = port;\n",
       "          }\n",
       "          frame.src = url;\n",
       "        })();\n",
       "      </script>\n",
       "    "
      ],
      "text/plain": [
       "<IPython.core.display.HTML object>"
      ]
     },
     "metadata": {},
     "output_type": "display_data"
    },
    {
     "name": "stderr",
     "output_type": "stream",
     "text": [
      "100%|██████████| 100/100 [06:58<00:00,  4.18s/it]\n"
     ]
    }
   ],
   "source": [
    "%tensorboard --logdir ./logs\n",
    "\n",
    "EPOCHS = 100\n",
    "\n",
    "writer = SummaryWriter(log_dir=\"./logs\")\n",
    "\n",
    "for epoch in tqdm(range(EPOCHS)):\n",
    "    train_loss_mean=[]\n",
    "    train_acc_mean=[]\n",
    "    for d in train_iter:\n",
    "        train_loss, train_acc = train_step(d.Text, d.Label)\n",
    "        train_loss_mean.append(train_loss)\n",
    "        train_acc_mean.append(train_acc)\n",
    "    \n",
    "    valid_loss_mean=[]\n",
    "    valid_acc_mean=[]\n",
    "    for d in train_iter:\n",
    "        valid_loss, valid_acc=valid_step(d.Text, d.Label)\n",
    "        valid_loss_mean.append(valid_loss)\n",
    "        valid_acc_mean.append(valid_acc)\n",
    "    \n",
    "    train_loss_mean=np.mean(train_loss_mean)\n",
    "    train_acc_mean=np.mean(train_acc_mean)\n",
    "    valid_loss_mean=np.mean(valid_loss_mean)\n",
    "    valid_acc_mean=np.mean(valid_acc_mean)\n",
    "    \n",
    "    with torch.no_grad():\n",
    "        writer.add_scalar(\"Loss/train\", train_loss_mean, epoch)\n",
    "        writer.add_scalar(\"Acc/train\", train_acc_mean, epoch)\n",
    "        writer.add_scalar(\"Loss/valid\", valid_loss_mean, epoch)\n",
    "        writer.add_scalar(\"Acc/valid\", valid_acc_mean, epoch)\n",
    "\n",
    "writer.close()"
   ]
  },
  {
   "attachments": {
    "image.png": {
     "image/png": "[encoded data removed]"
    }
   },
   "cell_type": "markdown",
   "metadata": {},
   "source": [
    "![image.png](attachment:image.png)"
   ]
  },
  {
   "cell_type": "markdown",
   "metadata": {},
   "source": [
    "### 84"
   ]
  },
  {
   "cell_type": "code",
   "execution_count": 7,
   "metadata": {},
   "outputs": [],
   "source": [
    "import torch\n",
    "import torch.nn as nn"
   ]
  },
  {
   "cell_type": "code",
   "execution_count": 6,
   "metadata": {},
   "outputs": [],
   "source": [
    "from gensim.models import KeyedVectors\n",
    "w2vModel = KeyedVectors.load_word2vec_format('src/GoogleNews-vectors-negative300.bin.gz', binary=True)"
   ]
  },
  {
   "cell_type": "code",
   "execution_count": 8,
   "metadata": {},
   "outputs": [],
   "source": [
    "VOCAB_SIZE=len(TEXT.vocab.itos)\n",
    "EMB_SIZE=300\n",
    "weights = np.zeros((VOCAB_SIZE, EMB_SIZE))\n",
    "for word in TEXT.vocab.itos:\n",
    "    idx = TEXT.vocab.stoi[word]\n",
    "    if word in w2vModel.vocab:\n",
    "        weights[idx] = w2vModel[word]\n",
    "weights=torch.FloatTensor(weights)"
   ]
  },
  {
   "cell_type": "code",
   "execution_count": 11,
   "metadata": {},
   "outputs": [],
   "source": [
    "def is_equal_pred(pred_y,true_y):\n",
    "    return Softmax(pred_y).argmax(axis=1) == true_y\n",
    "\n",
    "def train_step(train_X, train_y,model):\n",
    "    model.train()\n",
    "    pred_y = model(train_X)\n",
    "    \n",
    "    optimizer.zero_grad()\n",
    "    loss = criterion(pred_y, train_y)\n",
    "    loss.backward()\n",
    "    optimizer.step()\n",
    "    \n",
    "    with torch.no_grad():\n",
    "        n=len(train_y)\n",
    "        acc = is_equal_pred(pred_y,train_y).sum()\n",
    "    \n",
    "    return (loss.item(), acc.item()/n)\n",
    "\n",
    "def valid_step(valid_X, valid_y,model):\n",
    "    model.eval()\n",
    "    pred_y = model(valid_X)\n",
    "    \n",
    "    loss = criterion(pred_y, valid_y)\n",
    "    \n",
    "    with torch.no_grad():\n",
    "        n=len(valid_y)\n",
    "        acc = is_equal_pred(pred_y,valid_y).sum()\n",
    "\n",
    "    return (loss.item(), acc.item()/n)"
   ]
  },
  {
   "cell_type": "code",
   "execution_count": 42,
   "metadata": {},
   "outputs": [],
   "source": [
    "INPUT_SIZE=300 # d_w\n",
    "HIDDEN_SIZE=50 # d_h\n",
    "L=4\n",
    "class RNN(nn.Module):\n",
    "    def __init__(self):\n",
    "        super().__init__()\n",
    "        \n",
    "        self.emb = nn.Embedding.from_pretrained(weights,padding_idx=1)\n",
    "#         self.emb=nn.Embedding(VOCAB_SIZE, INPUT_SIZE,padding_idx=1) \n",
    "        self.hidden_size = HIDDEN_SIZE\n",
    "        #input tensor :(batch, seq_len, input_size)\n",
    "        self.rnn = nn.RNN(INPUT_SIZE, HIDDEN_SIZE,batch_first=True)\n",
    "        \n",
    "        self.fc = nn.Linear(HIDDEN_SIZE,L)\n",
    "    def forward(self,x):\n",
    "        self.batch_size = x.size()[0]\n",
    "        hidden = self.init_hidden()\n",
    "        \n",
    "        x=self.emb(x)\n",
    "        y, hidden = self.rnn(x,hidden)\n",
    "        y = self.fc(y[:,-1,:]) # 出力の最後だけを結果として渡す\n",
    "        return y\n",
    "    #RNNのデフォルトの層は1\n",
    "    def init_hidden(self):\n",
    "        hidden = torch.zeros(1,self.batch_size, self.hidden_size)\n",
    "        return hidden"
   ]
  },
  {
   "cell_type": "code",
   "execution_count": 13,
   "metadata": {},
   "outputs": [],
   "source": [
    "import torch.optim as optim"
   ]
  },
  {
   "cell_type": "code",
   "execution_count": 44,
   "metadata": {
    "scrolled": false
   },
   "outputs": [
    {
     "name": "stderr",
     "output_type": "stream",
     "text": [
      "/home/yumizsui/anaconda3/lib/python3.8/site-packages/torchtext/data/field.py:150: UserWarning: Field class will be retired in the 0.8.0 release and moved to torchtext.legacy. Please see 0.7.0 release notes for further information.\n",
      "  warnings.warn('{} class will be retired in the 0.8.0 release and moved to torchtext.legacy. Please see 0.7.0 release notes for further information.'.format(self.__class__.__name__), UserWarning)\n",
      "/home/yumizsui/anaconda3/lib/python3.8/site-packages/torchtext/data/example.py:68: UserWarning: Example class will be retired in the 0.8.0 release and moved to torchtext.legacy. Please see 0.7.0 release notes for further information.\n",
      "  warnings.warn('Example class will be retired in the 0.8.0 release and moved to torchtext.legacy. Please see 0.7.0 release notes for further information.', UserWarning)\n",
      "/home/yumizsui/anaconda3/lib/python3.8/site-packages/torchtext/data/example.py:78: UserWarning: Example class will be retired in the 0.8.0 release and moved to torchtext.legacy. Please see 0.7.0 release notes for further information.\n",
      "  warnings.warn('Example class will be retired in the 0.8.0 release and moved to torchtext.legacy. Please see 0.7.0 release notes for further information.', UserWarning)\n",
      "/home/yumizsui/anaconda3/lib/python3.8/site-packages/torchtext/data/iterator.py:48: UserWarning: Iterator class will be retired in the 0.8.0 release and moved to torchtext.legacy. Please see 0.7.0 release notes for further information.\n",
      "  warnings.warn('{} class will be retired in the 0.8.0 release and moved to torchtext.legacy. Please see 0.7.0 release notes for further information.'.format(self.__class__.__name__), UserWarning)\n"
     ]
    }
   ],
   "source": [
    "batch_size=32\n",
    "\n",
    "LABEL = data.Field(sequential=False, batch_first=True, use_vocab=False)\n",
    "TEXT = data.Field(sequential=True, tokenize=tokenizer, lower=True, batch_first=True)\n",
    "#sequential: 可変長か\n",
    "# futurewaningとかいっぱい出るけど無視\n",
    "train, val, test = data.TabularDataset.splits(\n",
    "        path='src/newcorpora/', train='train2.txt',\n",
    "        validation='valid2.txt', test='test2.txt', format='tsv',\n",
    "        fields=[('Label', LABEL),('Text', TEXT)])\n",
    "\n",
    "TEXT.build_vocab(train, min_freq=2)\n",
    "LABEL.build_vocab(train)\n",
    "\n",
    "train_iter, val_iter, test_iter = data.Iterator.splits(\n",
    "    (train, val, test), batch_sizes=(batch_size, batch_size, batch_size), device=device, repeat=False, sort=False,shuffle=True)"
   ]
  },
  {
   "cell_type": "code",
   "execution_count": 53,
   "metadata": {},
   "outputs": [],
   "source": [
    "!rm -rf ./logs\n",
    "\n",
    "device=torch.device('cpu')\n",
    "\n",
    "rnnModel=RNN()\n",
    "\n",
    "rnnModel = rnnModel.to(device)\n",
    "\n",
    "Softmax = nn.Softmax(dim=1)\n",
    "\n",
    "optimizer = optim.SGD(\n",
    "    rnnModel.parameters(),\n",
    "    lr=0.001)\n",
    "\n",
    "criterion = nn.CrossEntropyLoss()"
   ]
  },
  {
   "cell_type": "code",
   "execution_count": 22,
   "metadata": {},
   "outputs": [],
   "source": [
    "from torch.utils.tensorboard import SummaryWriter\n",
    "from tqdm import tqdm"
   ]
  },
  {
   "cell_type": "code",
   "execution_count": 17,
   "metadata": {},
   "outputs": [],
   "source": [
    "%load_ext tensorboard"
   ]
  },
  {
   "cell_type": "code",
   "execution_count": 38,
   "metadata": {},
   "outputs": [],
   "source": [
    "writer.close()"
   ]
  },
  {
   "cell_type": "code",
   "execution_count": 54,
   "metadata": {
    "scrolled": false
   },
   "outputs": [
    {
     "data": {
      "text/html": [
       "\n",
       "      <iframe id=\"tensorboard-frame-ed55435f2f806114\" width=\"100%\" height=\"800\" frameborder=\"0\">\n",
       "      </iframe>\n",
       "      <script>\n",
       "        (function() {\n",
       "          const frame = document.getElementById(\"tensorboard-frame-ed55435f2f806114\");\n",
       "          const url = new URL(\"/\", window.location);\n",
       "          const port = 6006;\n",
       "          if (port) {\n",
       "            url.port = port;\n",
       "          }\n",
       "          frame.src = url;\n",
       "        })();\n",
       "      </script>\n",
       "    "
      ],
      "text/plain": [
       "<IPython.core.display.HTML object>"
      ]
     },
     "metadata": {},
     "output_type": "display_data"
    },
    {
     "name": "stderr",
     "output_type": "stream",
     "text": [
      "  0%|          | 0/100 [00:00<?, ?it/s]/home/yumizsui/anaconda3/lib/python3.8/site-packages/torchtext/data/batch.py:23: UserWarning: Batch class will be retired in the 0.8.0 release and moved to torchtext.legacy. Please see 0.7.0 release notes for further information.\n",
      "  warnings.warn('{} class will be retired in the 0.8.0 release and moved to torchtext.legacy. Please see 0.7.0 release notes for further information.'.format(self.__class__.__name__), UserWarning)\n",
      "100%|██████████| 100/100 [02:25<00:00,  1.45s/it]\n"
     ]
    }
   ],
   "source": [
    "%tensorboard --logdir ./logs\n",
    "\n",
    "EPOCHS = 100\n",
    "\n",
    "writer = SummaryWriter(log_dir=\"./logs\")\n",
    "\n",
    "for epoch in tqdm(range(EPOCHS)):\n",
    "    train_loss_mean=[]\n",
    "    train_acc_mean=[]\n",
    "    for d in train_iter:\n",
    "        train_loss, train_acc = train_step(d.Text, d.Label)\n",
    "        train_loss_mean.append(train_loss)\n",
    "        train_acc_mean.append(train_acc)\n",
    "    \n",
    "    valid_loss_mean=[]\n",
    "    valid_acc_mean=[]\n",
    "    for d in train_iter:\n",
    "        valid_loss, valid_acc=valid_step(d.Text, d.Label)\n",
    "        valid_loss_mean.append(valid_loss)\n",
    "        valid_acc_mean.append(valid_acc)\n",
    "    \n",
    "    train_loss_mean=np.mean(train_loss_mean)\n",
    "    train_acc_mean=np.mean(train_acc_mean)\n",
    "    valid_loss_mean=np.mean(valid_loss_mean)\n",
    "    valid_acc_mean=np.mean(valid_acc_mean)\n",
    "    \n",
    "    with torch.no_grad():\n",
    "        writer.add_scalar(\"Loss/train\", train_loss_mean, epoch)\n",
    "        writer.add_scalar(\"Acc/train\", train_acc_mean, epoch)\n",
    "        writer.add_scalar(\"Loss/valid\", valid_loss_mean, epoch)\n",
    "        writer.add_scalar(\"Acc/valid\", valid_acc_mean, epoch)\n",
    "\n",
    "writer.close()"
   ]
  },
  {
   "cell_type": "markdown",
   "metadata": {},
   "source": [
    "### 85"
   ]
  },
  {
   "cell_type": "code",
   "execution_count": 77,
   "metadata": {},
   "outputs": [],
   "source": [
    "INPUT_SIZE=300 # d_w\n",
    "HIDDEN_SIZE=50 # d_h\n",
    "L=4\n",
    "class RNN(nn.Module):\n",
    "    def __init__(self, num_layers=1, bidirectional=False):\n",
    "        super().__init__()\n",
    "        self.num_layers = num_layers\n",
    "        self.num_directions = bidirectional + 1\n",
    "        self.emb = nn.Embedding.from_pretrained(weights,padding_idx=1)\n",
    "#         self.emb=nn.Embedding(VOCAB_SIZE, INPUT_SIZE,padding_idx=1) \n",
    "        self.hidden_size = HIDDEN_SIZE\n",
    "        #input tensor :(batch, seq_len, input_size)\n",
    "        self.rnn = nn.RNN(INPUT_SIZE, HIDDEN_SIZE,num_layers,batch_first=True, bidirectional=bidirectional)\n",
    "        \n",
    "        self.fc = nn.Linear(HIDDEN_SIZE*self.num_directions,L)\n",
    "    def forward(self,x):\n",
    "        self.batch_size = x.size()[0]\n",
    "        hidden = self.init_hidden()\n",
    "        \n",
    "        x=self.emb(x)\n",
    "        y, hidden = self.rnn(x,hidden)\n",
    "        y = self.fc(y[:,-1,:]) # 出力の最後だけを結果として渡す\n",
    "        return y\n",
    "    #RNNのデフォルトの層は1\n",
    "    def init_hidden(self):\n",
    "        hidden = torch.zeros(self.num_layers*self.num_directions,self.batch_size, self.hidden_size)\n",
    "        return hidden\n",
    "    \n",
    "    \n",
    "# self.rnn1 = torch.nn.RNN(INPUT_SIZE,HIDDEN_SIZE,bidirectional=True,batch_first=True)\n",
    "# self.rnn2 = torch.nn.RNN(2*HIDDEN_SIZE,HIDDEN_SIZE,bidirectional=True,batch_first=True)\n",
    "# self.rnn3 = torch.nn.RNN(2*HIDDEN_SIZE,HIDDEN_SIZE,bidirectional=True,batch_first=True)\n",
    "# self.linear = torch.nn.Linear(2*HIDDEN_SIZE,4)\n",
    "\n",
    "# x = self.emb(x)\n",
    "# y, h = self.rnn1(x, h)\n",
    "# y, h = self.rnn2(y, h)\n",
    "# y, h = self.rnn3(y, h)\n",
    "# y = y[:,-1,:] # 最後のステップ\n",
    "# y = self.linear(y)"
   ]
  },
  {
   "cell_type": "code",
   "execution_count": 73,
   "metadata": {},
   "outputs": [
    {
     "data": {
      "text/plain": [
       "torch.Size([2, 32, 50])"
      ]
     },
     "execution_count": 73,
     "metadata": {},
     "output_type": "execute_result"
    }
   ],
   "source": [
    "rnnModel.init_hidden().shape"
   ]
  },
  {
   "cell_type": "code",
   "execution_count": 80,
   "metadata": {
    "scrolled": false
   },
   "outputs": [
    {
     "data": {
      "text/plain": [
       "Reusing TensorBoard on port 6006 (pid 59697), started 1:37:26 ago. (Use '!kill 59697' to kill it.)"
      ]
     },
     "metadata": {},
     "output_type": "display_data"
    },
    {
     "data": {
      "text/html": [
       "\n",
       "      <iframe id=\"tensorboard-frame-f00d5589e84f8e6a\" width=\"100%\" height=\"800\" frameborder=\"0\">\n",
       "      </iframe>\n",
       "      <script>\n",
       "        (function() {\n",
       "          const frame = document.getElementById(\"tensorboard-frame-f00d5589e84f8e6a\");\n",
       "          const url = new URL(\"/\", window.location);\n",
       "          const port = 6006;\n",
       "          if (port) {\n",
       "            url.port = port;\n",
       "          }\n",
       "          frame.src = url;\n",
       "        })();\n",
       "      </script>\n",
       "    "
      ],
      "text/plain": [
       "<IPython.core.display.HTML object>"
      ]
     },
     "metadata": {},
     "output_type": "display_data"
    },
    {
     "name": "stderr",
     "output_type": "stream",
     "text": [
      "100%|██████████| 100/100 [04:52<00:00,  2.92s/it]\n"
     ]
    }
   ],
   "source": [
    "%tensorboard --logdir ./logs\n",
    "\n",
    "rnnModel=RNN(num_layers=1, bidirectional=True)\n",
    "\n",
    "rnnModel = rnnModel.to(device)\n",
    "\n",
    "optimizer = optim.SGD(\n",
    "    rnnModel.parameters(),\n",
    "    lr=0.001)\n",
    "EPOCHS = 100\n",
    "\n",
    "writer = SummaryWriter(log_dir=\"./logs\")\n",
    "\n",
    "for epoch in tqdm(range(EPOCHS)):\n",
    "    train_loss_mean=[]\n",
    "    train_acc_mean=[]\n",
    "    for d in train_iter:\n",
    "        train_loss, train_acc = train_step(d.Text, d.Label)\n",
    "        train_loss_mean.append(train_loss)\n",
    "        train_acc_mean.append(train_acc)\n",
    "    \n",
    "    valid_loss_mean=[]\n",
    "    valid_acc_mean=[]\n",
    "    for d in train_iter:\n",
    "        valid_loss, valid_acc=valid_step(d.Text, d.Label)\n",
    "        valid_loss_mean.append(valid_loss)\n",
    "        valid_acc_mean.append(valid_acc)\n",
    "    \n",
    "    train_loss_mean=np.mean(train_loss_mean)\n",
    "    train_acc_mean=np.mean(train_acc_mean)\n",
    "    valid_loss_mean=np.mean(valid_loss_mean)\n",
    "    valid_acc_mean=np.mean(valid_acc_mean)\n",
    "    \n",
    "    with torch.no_grad():\n",
    "        writer.add_scalar(\"Loss/train\", train_loss_mean, epoch)\n",
    "        writer.add_scalar(\"Acc/train\", train_acc_mean, epoch)\n",
    "        writer.add_scalar(\"Loss/valid\", valid_loss_mean, epoch)\n",
    "        writer.add_scalar(\"Acc/valid\", valid_acc_mean, epoch)\n",
    "\n",
    "writer.close()"
   ]
  },
  {
   "attachments": {
    "image.png": {
     "image/png": "[encoded data removed]"
    }
   },
   "cell_type": "markdown",
   "metadata": {},
   "source": [
    "![image.png](attachment:image.png)"
   ]
  },
  {
   "cell_type": "markdown",
   "metadata": {},
   "source": [
    "### 86"
   ]
  },
  {
   "cell_type": "code",
   "execution_count": null,
   "metadata": {},
   "outputs": [],
   "source": [
    "import torch.nn.functional as F"
   ]
  },
  {
   "cell_type": "code",
   "execution_count": 339,
   "metadata": {},
   "outputs": [],
   "source": [
    "class CNNs(nn.Module):\n",
    "    def __init__(self):\n",
    "        super().__init__()\n",
    "        self.emb = nn.Embedding.from_pretrained(weights,padding_idx=1)\n",
    "        self.conv = nn.Conv1d(EMB_SIZE, HIDDEN_SIZE, 3,stride=1, padding=1)\n",
    "        self.linear = nn.Linear(HIDDEN_SIZE,4)\n",
    "    def forward(self,x):\n",
    "        h=self.emb(x)\n",
    "        h=self.conv(h.transpose(1,2))\n",
    "        h=F.relu(h)\n",
    "        h=F.max_pool1d(h,h.size(2)).squeeze(2)\n",
    "        y=self.linear(h)\n",
    "        return y"
   ]
  },
  {
   "cell_type": "code",
   "execution_count": 326,
   "metadata": {
    "scrolled": true
   },
   "outputs": [
    {
     "name": "stdout",
     "output_type": "stream",
     "text": [
      "torch.Size([32, 14, 300])\n",
      "torch.Size([32, 50, 14])\n",
      "torch.Size([32, 50, 14])\n",
      "torch.Size([32, 50])\n",
      "torch.Size([32, 4])\n"
     ]
    }
   ],
   "source": [
    "#こういう仕組み\n",
    "x=emb(j.Text)\n",
    "print(x.shape)\n",
    "x1=conv(x.transpose(1,2))\n",
    "print(x1.shape)\n",
    "x2=ReLu(x1)\n",
    "print(x2.shape)\n",
    "x3=F.max_pool1d(x2,x2.size(2)).squeeze(2)\n",
    "print(x3.shape)\n",
    "y=linear(x3)\n",
    "print(y.shape)"
   ]
  },
  {
   "cell_type": "code",
   "execution_count": 360,
   "metadata": {},
   "outputs": [
    {
     "name": "stdout",
     "output_type": "stream",
     "text": [
      "tensor([[-0.0513,  0.1421,  0.1135, -0.0101],\n",
      "        [-0.0744,  0.0792,  0.0934, -0.0161],\n",
      "        [-0.0552,  0.1530,  0.1005, -0.0122],\n",
      "        [-0.0904,  0.1469,  0.0744,  0.0059],\n",
      "        [-0.0970,  0.1105,  0.0769, -0.0838],\n",
      "        [-0.0424,  0.1307,  0.0540, -0.0050],\n",
      "        [-0.1097,  0.1150,  0.0825,  0.0230],\n",
      "        [-0.0761,  0.1382,  0.0917, -0.0198],\n",
      "        [-0.0481,  0.1327,  0.0545,  0.0692],\n",
      "        [-0.0675,  0.1794,  0.0592, -0.0251],\n",
      "        [-0.0848,  0.1465,  0.0769,  0.0266],\n",
      "        [-0.0814,  0.1826,  0.0485,  0.0318],\n",
      "        [-0.0813,  0.1467,  0.0883, -0.0141],\n",
      "        [-0.0414,  0.1742,  0.0750, -0.0048],\n",
      "        [-0.1067,  0.1944,  0.0491, -0.0267],\n",
      "        [-0.0846,  0.1205,  0.0933, -0.0312],\n",
      "        [-0.1126,  0.1543,  0.0557, -0.0241],\n",
      "        [-0.0691,  0.1678,  0.1018, -0.0123],\n",
      "        [-0.0338,  0.1534,  0.0498, -0.0119],\n",
      "        [-0.0847,  0.1083,  0.0841, -0.0353],\n",
      "        [-0.0609,  0.1379,  0.0705,  0.0372],\n",
      "        [-0.0600,  0.1687,  0.0469, -0.0342],\n",
      "        [-0.0677,  0.1834,  0.0921,  0.0129],\n",
      "        [-0.0756,  0.1541,  0.0641, -0.0403],\n",
      "        [-0.1029,  0.1241,  0.0850, -0.0104],\n",
      "        [-0.0913,  0.1515,  0.0973,  0.0038],\n",
      "        [-0.0785,  0.1024,  0.1030, -0.0412],\n",
      "        [-0.0937,  0.1509,  0.0769, -0.0088],\n",
      "        [-0.0812,  0.1751,  0.1429, -0.0415],\n",
      "        [-0.1288,  0.1823,  0.0766,  0.0083],\n",
      "        [-0.1021,  0.1571,  0.0774,  0.0142],\n",
      "        [-0.1717,  0.2028,  0.1011, -0.0509]], grad_fn=<AddmmBackward>)\n"
     ]
    }
   ],
   "source": [
    "cnnModel=CNNs()\n",
    "Softmax=nn.Softmax(dim=1)\n",
    "y=cnnModel(x)\n",
    "print(y)"
   ]
  },
  {
   "cell_type": "markdown",
   "metadata": {},
   "source": [
    "### 87"
   ]
  },
  {
   "cell_type": "code",
   "execution_count": 97,
   "metadata": {},
   "outputs": [],
   "source": [
    "def is_equal_pred(pred_y,true_y):\n",
    "    return Softmax(pred_y).argmax(axis=1) == true_y\n",
    "\n",
    "def train_step(train_X, train_y,model):\n",
    "    model.train()\n",
    "    pred_y = model(train_X)\n",
    "    \n",
    "    optimizer.zero_grad()\n",
    "    loss = criterion(pred_y, train_y)\n",
    "    loss.backward()\n",
    "    optimizer.step()\n",
    "    \n",
    "    with torch.no_grad():\n",
    "        n=len(train_y)\n",
    "        acc = is_equal_pred(pred_y,train_y).sum()\n",
    "    \n",
    "    return (loss.item(), acc.item()/n)\n",
    "\n",
    "def valid_step(valid_X, valid_y,model):\n",
    "    model.eval()\n",
    "    pred_y = model(valid_X)\n",
    "    \n",
    "    loss = criterion(pred_y, valid_y)\n",
    "    \n",
    "    with torch.no_grad():\n",
    "        n=len(valid_y)\n",
    "        acc = is_equal_pred(pred_y,valid_y).sum()\n",
    "\n",
    "    return (loss.item(), acc.item()/n)"
   ]
  },
  {
   "cell_type": "code",
   "execution_count": 376,
   "metadata": {},
   "outputs": [],
   "source": [
    "!rm -rf ./logs\n",
    "cnnModel=CNNs()\n",
    "cnnModel=cnnModel.to(device)\n",
    "optimizer = optim.SGD(\n",
    "    cnnModel.parameters(),\n",
    "    lr=0.01)"
   ]
  },
  {
   "cell_type": "code",
   "execution_count": 377,
   "metadata": {},
   "outputs": [
    {
     "data": {
      "text/plain": [
       "Reusing TensorBoard on port 6006 (pid 72717), started 0:04:51 ago. (Use '!kill 72717' to kill it.)"
      ]
     },
     "metadata": {},
     "output_type": "display_data"
    },
    {
     "data": {
      "text/html": [
       "\n",
       "      <iframe id=\"tensorboard-frame-82f51838e759c3f6\" width=\"100%\" height=\"800\" frameborder=\"0\">\n",
       "      </iframe>\n",
       "      <script>\n",
       "        (function() {\n",
       "          const frame = document.getElementById(\"tensorboard-frame-82f51838e759c3f6\");\n",
       "          const url = new URL(\"/\", window.location);\n",
       "          const port = 6006;\n",
       "          if (port) {\n",
       "            url.port = port;\n",
       "          }\n",
       "          frame.src = url;\n",
       "        })();\n",
       "      </script>\n",
       "    "
      ],
      "text/plain": [
       "<IPython.core.display.HTML object>"
      ]
     },
     "metadata": {},
     "output_type": "display_data"
    },
    {
     "name": "stderr",
     "output_type": "stream",
     "text": [
      "  0%|          | 0/100 [00:00<?, ?it/s]/home/yumizsui/anaconda3/lib/python3.8/site-packages/torchtext/data/batch.py:23: UserWarning: Batch class will be retired in the 0.8.0 release and moved to torchtext.legacy. Please see 0.7.0 release notes for further information.\n",
      "  warnings.warn('{} class will be retired in the 0.8.0 release and moved to torchtext.legacy. Please see 0.7.0 release notes for further information.'.format(self.__class__.__name__), UserWarning)\n",
      "100%|██████████| 100/100 [02:31<00:00,  1.52s/it]\n"
     ]
    }
   ],
   "source": [
    "%tensorboard --logdir ./logs\n",
    "\n",
    "EPOCHS = 100\n",
    "\n",
    "writer = SummaryWriter(log_dir=\"./logs\")\n",
    "\n",
    "for epoch in tqdm(range(EPOCHS)):\n",
    "    train_loss_mean=[]\n",
    "    train_acc_mean=[]\n",
    "    for d in train_iter:\n",
    "        train_loss, train_acc = train_step(d.Text, d.Label,cnnModel)\n",
    "        train_loss_mean.append(train_loss)\n",
    "        train_acc_mean.append(train_acc)\n",
    "    \n",
    "    valid_loss_mean=[]\n",
    "    valid_acc_mean=[]\n",
    "    for d in train_iter:\n",
    "        valid_loss, valid_acc=valid_step(d.Text, d.Label,cnnModel)\n",
    "        valid_loss_mean.append(valid_loss)\n",
    "        valid_acc_mean.append(valid_acc)\n",
    "    \n",
    "    train_loss_mean=np.mean(train_loss_mean)\n",
    "    train_acc_mean=np.mean(train_acc_mean)\n",
    "    valid_loss_mean=np.mean(valid_loss_mean)\n",
    "    valid_acc_mean=np.mean(valid_acc_mean)\n",
    "    \n",
    "    with torch.no_grad():\n",
    "        writer.add_scalar(\"Loss/train\", train_loss_mean, epoch)\n",
    "        writer.add_scalar(\"Acc/train\", train_acc_mean, epoch)\n",
    "        writer.add_scalar(\"Loss/valid\", valid_loss_mean, epoch)\n",
    "        writer.add_scalar(\"Acc/valid\", valid_acc_mean, epoch)\n",
    "\n",
    "writer.close()"
   ]
  },
  {
   "attachments": {
    "image.png": {
     "image/png": "[encoded data removed]"
    }
   },
   "cell_type": "markdown",
   "metadata": {},
   "source": [
    "![image.png](attachment:image.png)"
   ]
  },
  {
   "cell_type": "markdown",
   "metadata": {},
   "source": [
    "### 88"
   ]
  },
  {
   "cell_type": "code",
   "execution_count": 444,
   "metadata": {},
   "outputs": [],
   "source": [
    "INPUT_SIZE=300 # d_w\n",
    "HIDDEN_SIZE=50 # d_h\n",
    "L=4\n",
    "drop_rate = 0.3\n",
    "# lstm\n",
    "class LSTM(nn.Module):\n",
    "    def __init__(self, num_layers=1, bidirectional=False):\n",
    "        super().__init__()\n",
    "        self.num_layers = num_layers\n",
    "        self.num_directions = bidirectional + 1\n",
    "        self.emb = nn.Embedding.from_pretrained(weights,padding_idx=1)\n",
    "#         self.emb=nn.Embedding(VOCAB_SIZE, INPUT_SIZE,padding_idx=1) \n",
    "        self.hidden_size = HIDDEN_SIZE\n",
    "        #input tensor :(batch, seq_len, input_size)\n",
    "        self.lstm = nn.LSTM(EMB_SIZE, HIDDEN_SIZE,num_layers,batch_first=True, bidirectional=bidirectional, dropout=drop_rate)\n",
    "        \n",
    "        self.drop=nn.Dropout(drop_rate)\n",
    "        \n",
    "        self.fc = nn.Linear(HIDDEN_SIZE*self.num_directions,L)\n",
    "    def forward(self,x,h=None):\n",
    "        \n",
    "        x=self.emb(x)\n",
    "        y, hidden = self.lstm(x,h)\n",
    "        \n",
    "        y = self.fc(y[:,-1,:]) # 出力の最後だけを結果として渡す\n",
    "        return y"
   ]
  },
  {
   "cell_type": "code",
   "execution_count": 446,
   "metadata": {},
   "outputs": [],
   "source": [
    "!rm -rf ./logs\n",
    "lstmModel=LSTM(num_layers=2,bidirectional=True)\n",
    "lstmModel=lstmModel.to(device)\n",
    "optimizer = optim.Adam(\n",
    "    lstmModel.parameters())"
   ]
  },
  {
   "cell_type": "code",
   "execution_count": 447,
   "metadata": {
    "scrolled": false
   },
   "outputs": [
    {
     "data": {
      "text/html": [
       "\n",
       "      <iframe id=\"tensorboard-frame-d03cec6ce6ec0d36\" width=\"100%\" height=\"800\" frameborder=\"0\">\n",
       "      </iframe>\n",
       "      <script>\n",
       "        (function() {\n",
       "          const frame = document.getElementById(\"tensorboard-frame-d03cec6ce6ec0d36\");\n",
       "          const url = new URL(\"/\", window.location);\n",
       "          const port = 6006;\n",
       "          if (port) {\n",
       "            url.port = port;\n",
       "          }\n",
       "          frame.src = url;\n",
       "        })();\n",
       "      </script>\n",
       "    "
      ],
      "text/plain": [
       "<IPython.core.display.HTML object>"
      ]
     },
     "metadata": {},
     "output_type": "display_data"
    },
    {
     "name": "stderr",
     "output_type": "stream",
     "text": [
      "  0%|          | 0/100 [00:00<?, ?it/s]/home/yumizsui/anaconda3/lib/python3.8/site-packages/torchtext/data/batch.py:23: UserWarning: Batch class will be retired in the 0.8.0 release and moved to torchtext.legacy. Please see 0.7.0 release notes for further information.\n",
      "  warnings.warn('{} class will be retired in the 0.8.0 release and moved to torchtext.legacy. Please see 0.7.0 release notes for further information.'.format(self.__class__.__name__), UserWarning)\n",
      " 49%|████▉     | 49/100 [10:42<11:08, 13.11s/it]\n"
     ]
    },
    {
     "ename": "KeyboardInterrupt",
     "evalue": "",
     "output_type": "error",
     "traceback": [
      "\u001b[0;31m---------------------------------------------------------------------------\u001b[0m",
      "\u001b[0;31mKeyboardInterrupt\u001b[0m                         Traceback (most recent call last)",
      "\u001b[0;32m<ipython-input-447-b7720f6a80a6>\u001b[0m in \u001b[0;36m<module>\u001b[0;34m\u001b[0m\n\u001b[1;32m      8\u001b[0m     \u001b[0mtrain_acc_mean\u001b[0m\u001b[0;34m=\u001b[0m\u001b[0;34m[\u001b[0m\u001b[0;34m]\u001b[0m\u001b[0;34m\u001b[0m\u001b[0;34m\u001b[0m\u001b[0m\n\u001b[1;32m      9\u001b[0m     \u001b[0;32mfor\u001b[0m \u001b[0md\u001b[0m \u001b[0;32min\u001b[0m \u001b[0mtrain_iter\u001b[0m\u001b[0;34m:\u001b[0m\u001b[0;34m\u001b[0m\u001b[0;34m\u001b[0m\u001b[0m\n\u001b[0;32m---> 10\u001b[0;31m         \u001b[0mtrain_loss\u001b[0m\u001b[0;34m,\u001b[0m \u001b[0mtrain_acc\u001b[0m \u001b[0;34m=\u001b[0m \u001b[0mtrain_step\u001b[0m\u001b[0;34m(\u001b[0m\u001b[0md\u001b[0m\u001b[0;34m.\u001b[0m\u001b[0mText\u001b[0m\u001b[0;34m,\u001b[0m \u001b[0md\u001b[0m\u001b[0;34m.\u001b[0m\u001b[0mLabel\u001b[0m\u001b[0;34m,\u001b[0m\u001b[0mlstmModel\u001b[0m\u001b[0;34m)\u001b[0m\u001b[0;34m\u001b[0m\u001b[0;34m\u001b[0m\u001b[0m\n\u001b[0m\u001b[1;32m     11\u001b[0m         \u001b[0mtrain_loss_mean\u001b[0m\u001b[0;34m.\u001b[0m\u001b[0mappend\u001b[0m\u001b[0;34m(\u001b[0m\u001b[0mtrain_loss\u001b[0m\u001b[0;34m)\u001b[0m\u001b[0;34m\u001b[0m\u001b[0;34m\u001b[0m\u001b[0m\n\u001b[1;32m     12\u001b[0m         \u001b[0mtrain_acc_mean\u001b[0m\u001b[0;34m.\u001b[0m\u001b[0mappend\u001b[0m\u001b[0;34m(\u001b[0m\u001b[0mtrain_acc\u001b[0m\u001b[0;34m)\u001b[0m\u001b[0;34m\u001b[0m\u001b[0;34m\u001b[0m\u001b[0m\n",
      "\u001b[0;32m<ipython-input-362-a943f07f5d94>\u001b[0m in \u001b[0;36mtrain_step\u001b[0;34m(train_X, train_y, model)\u001b[0m\n\u001b[1;32m      4\u001b[0m \u001b[0;32mdef\u001b[0m \u001b[0mtrain_step\u001b[0m\u001b[0;34m(\u001b[0m\u001b[0mtrain_X\u001b[0m\u001b[0;34m,\u001b[0m \u001b[0mtrain_y\u001b[0m\u001b[0;34m,\u001b[0m\u001b[0mmodel\u001b[0m\u001b[0;34m)\u001b[0m\u001b[0;34m:\u001b[0m\u001b[0;34m\u001b[0m\u001b[0;34m\u001b[0m\u001b[0m\n\u001b[1;32m      5\u001b[0m     \u001b[0mmodel\u001b[0m\u001b[0;34m.\u001b[0m\u001b[0mtrain\u001b[0m\u001b[0;34m(\u001b[0m\u001b[0;34m)\u001b[0m\u001b[0;34m\u001b[0m\u001b[0;34m\u001b[0m\u001b[0m\n\u001b[0;32m----> 6\u001b[0;31m     \u001b[0mpred_y\u001b[0m \u001b[0;34m=\u001b[0m \u001b[0mmodel\u001b[0m\u001b[0;34m(\u001b[0m\u001b[0mtrain_X\u001b[0m\u001b[0;34m)\u001b[0m\u001b[0;34m\u001b[0m\u001b[0;34m\u001b[0m\u001b[0m\n\u001b[0m\u001b[1;32m      7\u001b[0m \u001b[0;34m\u001b[0m\u001b[0m\n\u001b[1;32m      8\u001b[0m     \u001b[0moptimizer\u001b[0m\u001b[0;34m.\u001b[0m\u001b[0mzero_grad\u001b[0m\u001b[0;34m(\u001b[0m\u001b[0;34m)\u001b[0m\u001b[0;34m\u001b[0m\u001b[0;34m\u001b[0m\u001b[0m\n",
      "\u001b[0;32m~/anaconda3/lib/python3.8/site-packages/torch/nn/modules/module.py\u001b[0m in \u001b[0;36m_call_impl\u001b[0;34m(self, *input, **kwargs)\u001b[0m\n\u001b[1;32m    720\u001b[0m             \u001b[0mresult\u001b[0m \u001b[0;34m=\u001b[0m \u001b[0mself\u001b[0m\u001b[0;34m.\u001b[0m\u001b[0m_slow_forward\u001b[0m\u001b[0;34m(\u001b[0m\u001b[0;34m*\u001b[0m\u001b[0minput\u001b[0m\u001b[0;34m,\u001b[0m \u001b[0;34m**\u001b[0m\u001b[0mkwargs\u001b[0m\u001b[0;34m)\u001b[0m\u001b[0;34m\u001b[0m\u001b[0;34m\u001b[0m\u001b[0m\n\u001b[1;32m    721\u001b[0m         \u001b[0;32melse\u001b[0m\u001b[0;34m:\u001b[0m\u001b[0;34m\u001b[0m\u001b[0;34m\u001b[0m\u001b[0m\n\u001b[0;32m--> 722\u001b[0;31m             \u001b[0mresult\u001b[0m \u001b[0;34m=\u001b[0m \u001b[0mself\u001b[0m\u001b[0;34m.\u001b[0m\u001b[0mforward\u001b[0m\u001b[0;34m(\u001b[0m\u001b[0;34m*\u001b[0m\u001b[0minput\u001b[0m\u001b[0;34m,\u001b[0m \u001b[0;34m**\u001b[0m\u001b[0mkwargs\u001b[0m\u001b[0;34m)\u001b[0m\u001b[0;34m\u001b[0m\u001b[0;34m\u001b[0m\u001b[0m\n\u001b[0m\u001b[1;32m    723\u001b[0m         for hook in itertools.chain(\n\u001b[1;32m    724\u001b[0m                 \u001b[0m_global_forward_hooks\u001b[0m\u001b[0;34m.\u001b[0m\u001b[0mvalues\u001b[0m\u001b[0;34m(\u001b[0m\u001b[0;34m)\u001b[0m\u001b[0;34m,\u001b[0m\u001b[0;34m\u001b[0m\u001b[0;34m\u001b[0m\u001b[0m\n",
      "\u001b[0;32m<ipython-input-444-3b431eb593bd>\u001b[0m in \u001b[0;36mforward\u001b[0;34m(self, x, h)\u001b[0m\n\u001b[1;32m     21\u001b[0m \u001b[0;34m\u001b[0m\u001b[0m\n\u001b[1;32m     22\u001b[0m         \u001b[0mx\u001b[0m\u001b[0;34m=\u001b[0m\u001b[0mself\u001b[0m\u001b[0;34m.\u001b[0m\u001b[0memb\u001b[0m\u001b[0;34m(\u001b[0m\u001b[0mx\u001b[0m\u001b[0;34m)\u001b[0m\u001b[0;34m\u001b[0m\u001b[0;34m\u001b[0m\u001b[0m\n\u001b[0;32m---> 23\u001b[0;31m         \u001b[0my\u001b[0m\u001b[0;34m,\u001b[0m \u001b[0mhidden\u001b[0m \u001b[0;34m=\u001b[0m \u001b[0mself\u001b[0m\u001b[0;34m.\u001b[0m\u001b[0mlstm\u001b[0m\u001b[0;34m(\u001b[0m\u001b[0mx\u001b[0m\u001b[0;34m,\u001b[0m\u001b[0mh\u001b[0m\u001b[0;34m)\u001b[0m\u001b[0;34m\u001b[0m\u001b[0;34m\u001b[0m\u001b[0m\n\u001b[0m\u001b[1;32m     24\u001b[0m \u001b[0;34m\u001b[0m\u001b[0m\n\u001b[1;32m     25\u001b[0m         \u001b[0my\u001b[0m \u001b[0;34m=\u001b[0m \u001b[0mself\u001b[0m\u001b[0;34m.\u001b[0m\u001b[0mfc\u001b[0m\u001b[0;34m(\u001b[0m\u001b[0my\u001b[0m\u001b[0;34m[\u001b[0m\u001b[0;34m:\u001b[0m\u001b[0;34m,\u001b[0m\u001b[0;34m-\u001b[0m\u001b[0;36m1\u001b[0m\u001b[0;34m,\u001b[0m\u001b[0;34m:\u001b[0m\u001b[0;34m]\u001b[0m\u001b[0;34m)\u001b[0m \u001b[0;31m# 出力の最後だけを結果として渡す\u001b[0m\u001b[0;34m\u001b[0m\u001b[0;34m\u001b[0m\u001b[0m\n",
      "\u001b[0;32m~/anaconda3/lib/python3.8/site-packages/torch/nn/modules/module.py\u001b[0m in \u001b[0;36m_call_impl\u001b[0;34m(self, *input, **kwargs)\u001b[0m\n\u001b[1;32m    720\u001b[0m             \u001b[0mresult\u001b[0m \u001b[0;34m=\u001b[0m \u001b[0mself\u001b[0m\u001b[0;34m.\u001b[0m\u001b[0m_slow_forward\u001b[0m\u001b[0;34m(\u001b[0m\u001b[0;34m*\u001b[0m\u001b[0minput\u001b[0m\u001b[0;34m,\u001b[0m \u001b[0;34m**\u001b[0m\u001b[0mkwargs\u001b[0m\u001b[0;34m)\u001b[0m\u001b[0;34m\u001b[0m\u001b[0;34m\u001b[0m\u001b[0m\n\u001b[1;32m    721\u001b[0m         \u001b[0;32melse\u001b[0m\u001b[0;34m:\u001b[0m\u001b[0;34m\u001b[0m\u001b[0;34m\u001b[0m\u001b[0m\n\u001b[0;32m--> 722\u001b[0;31m             \u001b[0mresult\u001b[0m \u001b[0;34m=\u001b[0m \u001b[0mself\u001b[0m\u001b[0;34m.\u001b[0m\u001b[0mforward\u001b[0m\u001b[0;34m(\u001b[0m\u001b[0;34m*\u001b[0m\u001b[0minput\u001b[0m\u001b[0;34m,\u001b[0m \u001b[0;34m**\u001b[0m\u001b[0mkwargs\u001b[0m\u001b[0;34m)\u001b[0m\u001b[0;34m\u001b[0m\u001b[0;34m\u001b[0m\u001b[0m\n\u001b[0m\u001b[1;32m    723\u001b[0m         for hook in itertools.chain(\n\u001b[1;32m    724\u001b[0m                 \u001b[0m_global_forward_hooks\u001b[0m\u001b[0;34m.\u001b[0m\u001b[0mvalues\u001b[0m\u001b[0;34m(\u001b[0m\u001b[0;34m)\u001b[0m\u001b[0;34m,\u001b[0m\u001b[0;34m\u001b[0m\u001b[0;34m\u001b[0m\u001b[0m\n",
      "\u001b[0;32m~/anaconda3/lib/python3.8/site-packages/torch/nn/modules/rnn.py\u001b[0m in \u001b[0;36mforward\u001b[0;34m(self, input, hx)\u001b[0m\n\u001b[1;32m    574\u001b[0m         \u001b[0mself\u001b[0m\u001b[0;34m.\u001b[0m\u001b[0mcheck_forward_args\u001b[0m\u001b[0;34m(\u001b[0m\u001b[0minput\u001b[0m\u001b[0;34m,\u001b[0m \u001b[0mhx\u001b[0m\u001b[0;34m,\u001b[0m \u001b[0mbatch_sizes\u001b[0m\u001b[0;34m)\u001b[0m\u001b[0;34m\u001b[0m\u001b[0;34m\u001b[0m\u001b[0m\n\u001b[1;32m    575\u001b[0m         \u001b[0;32mif\u001b[0m \u001b[0mbatch_sizes\u001b[0m \u001b[0;32mis\u001b[0m \u001b[0;32mNone\u001b[0m\u001b[0;34m:\u001b[0m\u001b[0;34m\u001b[0m\u001b[0;34m\u001b[0m\u001b[0m\n\u001b[0;32m--> 576\u001b[0;31m             result = _VF.lstm(input, hx, self._flat_weights, self.bias, self.num_layers,\n\u001b[0m\u001b[1;32m    577\u001b[0m                               self.dropout, self.training, self.bidirectional, self.batch_first)\n\u001b[1;32m    578\u001b[0m         \u001b[0;32melse\u001b[0m\u001b[0;34m:\u001b[0m\u001b[0;34m\u001b[0m\u001b[0;34m\u001b[0m\u001b[0m\n",
      "\u001b[0;31mKeyboardInterrupt\u001b[0m: "
     ]
    }
   ],
   "source": [
    "%tensorboard --logdir ./logs\n",
    "EPOCHS = 100\n",
    "\n",
    "writer = SummaryWriter(log_dir=\"./logs\")\n",
    "\n",
    "for epoch in tqdm(range(EPOCHS)):\n",
    "    train_loss_mean=[]\n",
    "    train_acc_mean=[]\n",
    "    for d in train_iter:\n",
    "        train_loss, train_acc = train_step(d.Text, d.Label,lstmModel)\n",
    "        train_loss_mean.append(train_loss)\n",
    "        train_acc_mean.append(train_acc)\n",
    "    \n",
    "    valid_loss_mean=[]\n",
    "    valid_acc_mean=[]\n",
    "    for d in val_iter:\n",
    "        valid_loss, valid_acc=valid_step(d.Text, d.Label, lstmModel)\n",
    "        valid_loss_mean.append(valid_loss)\n",
    "        valid_acc_mean.append(valid_acc)\n",
    "    \n",
    "    train_loss_mean=np.mean(train_loss_mean)\n",
    "    train_acc_mean=np.mean(train_acc_mean)\n",
    "    valid_loss_mean=np.mean(valid_loss_mean)\n",
    "    valid_acc_mean=np.mean(valid_acc_mean)\n",
    "    \n",
    "    with torch.no_grad():\n",
    "        writer.add_scalar(\"Loss/train\", train_loss_mean, epoch)\n",
    "        writer.add_scalar(\"Acc/train\", train_acc_mean, epoch)\n",
    "        writer.add_scalar(\"Loss/valid\", valid_loss_mean, epoch)\n",
    "        writer.add_scalar(\"Acc/valid\", valid_acc_mean, epoch)\n",
    "\n",
    "writer.close()"
   ]
  },
  {
   "attachments": {
    "image.png": {
     "image/png": "[encoded data removed]"
    }
   },
   "cell_type": "markdown",
   "metadata": {},
   "source": [
    "![image.png](attachment:image.png)"
   ]
  },
  {
   "cell_type": "code",
   "execution_count": 448,
   "metadata": {},
   "outputs": [
    {
     "name": "stdout",
     "output_type": "stream",
     "text": [
      "0.9130434782608695\n"
     ]
    }
   ],
   "source": [
    "ans=[]\n",
    "length=0\n",
    "for t in test_iter:\n",
    "    y=lstmModel(t.Text)\n",
    "    length+=len(t.Label)\n",
    "    ans.append(is_equal_pred(y,t.Label).sum())\n",
    "print(np.array(ans).sum()/length)"
   ]
  },
  {
   "cell_type": "code",
   "execution_count": 438,
   "metadata": {},
   "outputs": [
    {
     "name": "stdout",
     "output_type": "stream",
     "text": [
      "0.9130434782608695\n"
     ]
    },
    {
     "name": "stderr",
     "output_type": "stream",
     "text": [
      "/home/yumizsui/anaconda3/lib/python3.8/site-packages/torchtext/data/batch.py:23: UserWarning: Batch class will be retired in the 0.8.0 release and moved to torchtext.legacy. Please see 0.7.0 release notes for further information.\n",
      "  warnings.warn('{} class will be retired in the 0.8.0 release and moved to torchtext.legacy. Please see 0.7.0 release notes for further information.'.format(self.__class__.__name__), UserWarning)\n"
     ]
    }
   ],
   "source": [
    "ans=[]\n",
    "length=0\n",
    "for t in test_iter:\n",
    "    y=cnnModel(t.Text)\n",
    "    length+=len(t.Label)\n",
    "    ans.append(is_equal_pred(y,t.Label).sum())\n",
    "print(np.array(ans).sum()/length)"
   ]
  },
  {
   "cell_type": "markdown",
   "metadata": {},
   "source": [
    "### 89"
   ]
  },
  {
   "cell_type": "code",
   "execution_count": 12,
   "metadata": {},
   "outputs": [],
   "source": [
    "from transformers import BertTokenizer, BertModel"
   ]
  },
  {
   "cell_type": "code",
   "execution_count": 466,
   "metadata": {},
   "outputs": [],
   "source": [
    "from transformers import BertForSequenceClassification"
   ]
  },
  {
   "cell_type": "code",
   "execution_count": 263,
   "metadata": {},
   "outputs": [],
   "source": [
    "import torch.optim as optim\n",
    "from torch.utils.data import Dataset, DataLoader"
   ]
  },
  {
   "cell_type": "code",
   "execution_count": 264,
   "metadata": {},
   "outputs": [],
   "source": [
    "drop_rate= 0.3\n",
    "class Bert(nn.Module):\n",
    "    def __init__(self):\n",
    "        super().__init__()\n",
    "        self.bert=BertModel.from_pretrained('bert-base-uncased')\n",
    "        self.drop=nn.Dropout(drop_rate)\n",
    "        self.linear=nn.Linear(768, 4)\n",
    "    def forward(self, ids, mask):\n",
    "        _, h = self.bert(ids, attention_mask=mask)\n",
    "        y = self.linear(self.drop(h))\n",
    "        return y"
   ]
  },
  {
   "cell_type": "code",
   "execution_count": 281,
   "metadata": {},
   "outputs": [],
   "source": [
    "class CreateDataset(Dataset):\n",
    "    def __init__(self, X, y, tokenizer, max_len=20):\n",
    "        self.X = X\n",
    "        self.y = y\n",
    "        self.tokenizer = tokenizer\n",
    "        self.max_len = max_len\n",
    "\n",
    "    def __len__(self):\n",
    "        return len(self.y)\n",
    "\n",
    "    def __getitem__(self, index):\n",
    "        text = self.X[index]\n",
    "        inputs = self.tokenizer.encode_plus(\n",
    "            text,\n",
    "            add_special_tokens=True,\n",
    "            max_length=self.max_len,\n",
    "            pad_to_max_length=True,\n",
    "            truncation=True\n",
    "            \n",
    "        )\n",
    "        ids = inputs['input_ids']\n",
    "        mask = inputs['attention_mask']\n",
    "\n",
    "        return {\n",
    "          'ids': torch.LongTensor(ids),\n",
    "          'mask': torch.LongTensor(mask),\n",
    "          'labels': self.y[index]\n",
    "        }"
   ]
  },
  {
   "cell_type": "code",
   "execution_count": 185,
   "metadata": {},
   "outputs": [],
   "source": [
    "train=pd.read_csv('src/newcorpora/train.txt', sep=\"\\t\",header=None,names=[\"CATEGORY\", \"TITLE\"])\n",
    "valid=pd.read_csv('src/newcorpora/valid.txt', sep=\"\\t\",header=None,names=[\"CATEGORY\", \"TITLE\"])\n",
    "test=pd.read_csv('src/newcorpora/test.txt', sep=\"\\t\",header=None,names=[\"CATEGORY\", \"TITLE\"])"
   ]
  },
  {
   "cell_type": "code",
   "execution_count": 259,
   "metadata": {},
   "outputs": [],
   "source": [
    "y_train=train[\"CATEGORY\"].map({'b':0,'e':1,'t':2,'m':3})\n",
    "y_valid=valid[\"CATEGORY\"].map({'b':0,'e':1,'t':2,'m':3})\n",
    "y_test=test[\"CATEGORY\"].map({'b':0,'e':1,'t':2,'m':3})\n",
    "\n",
    "y_train=torch.tensor(y_train)\n",
    "y_valid=torch.tensor(y_valid)\n",
    "y_test=torch.tensor(y_test)"
   ]
  },
  {
   "cell_type": "code",
   "execution_count": 282,
   "metadata": {},
   "outputs": [],
   "source": [
    "tokenizer = BertTokenizer.from_pretrained('bert-base-uncased')\n",
    "dataset_train = CreateDataset(train['TITLE'], y_train, tokenizer,max_len=15)\n",
    "dataset_valid = CreateDataset(valid['TITLE'], y_valid, tokenizer)\n",
    "dataset_test = CreateDataset(test['TITLE'], y_test, tokenizer)"
   ]
  },
  {
   "cell_type": "code",
   "execution_count": 297,
   "metadata": {},
   "outputs": [],
   "source": [
    "batch_size=1024\n",
    "dataloader_train = DataLoader(dataset_train, batch_size=batch_size, shuffle=True)\n",
    "dataloader_valid = DataLoader(dataset_valid, batch_size=batch_size, shuffle=True)"
   ]
  },
  {
   "cell_type": "code",
   "execution_count": 298,
   "metadata": {},
   "outputs": [],
   "source": [
    "bertModel=Bert()\n",
    "bertModel=bertModel.to(device)\n",
    "optimizer = optim.Adam(\n",
    "    bertModel.parameters(),lr=0.01)"
   ]
  },
  {
   "cell_type": "code",
   "execution_count": 266,
   "metadata": {
    "scrolled": true
   },
   "outputs": [],
   "source": [
    "def is_equal_pred(pred_y,true_y):\n",
    "    return Softmax(pred_y).argmax(axis=1) == true_y\n",
    "\n",
    "def train_step_bert(ids, mask, train_y, model):\n",
    "    model.train()\n",
    "    pred_y = model(ids,mask)\n",
    "    \n",
    "    optimizer.zero_grad()\n",
    "    loss = criterion(pred_y, train_y)\n",
    "    loss.backward()\n",
    "    optimizer.step()\n",
    "    \n",
    "    with torch.no_grad():\n",
    "        n=len(train_y)\n",
    "        acc = is_equal_pred(pred_y,train_y).sum()\n",
    "    \n",
    "    return (loss.item(), acc.item()/n)\n",
    "\n",
    "def valid_step_bert(ids, mask, valid_y, model):\n",
    "    model.eval()\n",
    "    pred_y = model(ids,mask)\n",
    "    \n",
    "    loss = criterion(pred_y, valid_y)\n",
    "    \n",
    "    with torch.no_grad():\n",
    "        n=len(valid_y)\n",
    "        acc = is_equal_pred(pred_y,valid_y).sum()\n",
    "\n",
    "    return (loss.item(), acc.item()/n)"
   ]
  },
  {
   "cell_type": "code",
   "execution_count": null,
   "metadata": {
    "scrolled": false
   },
   "outputs": [
    {
     "data": {
      "text/plain": [
       "Reusing TensorBoard on port 6006 (pid 78408), started 1 day, 16:55:56 ago. (Use '!kill 78408' to kill it.)"
      ]
     },
     "metadata": {},
     "output_type": "display_data"
    },
    {
     "data": {
      "text/html": [
       "\n",
       "      <iframe id=\"tensorboard-frame-2f87204094717da3\" width=\"100%\" height=\"800\" frameborder=\"0\">\n",
       "      </iframe>\n",
       "      <script>\n",
       "        (function() {\n",
       "          const frame = document.getElementById(\"tensorboard-frame-2f87204094717da3\");\n",
       "          const url = new URL(\"/\", window.location);\n",
       "          const port = 6006;\n",
       "          if (port) {\n",
       "            url.port = port;\n",
       "          }\n",
       "          frame.src = url;\n",
       "        })();\n",
       "      </script>\n",
       "    "
      ],
      "text/plain": [
       "<IPython.core.display.HTML object>"
      ]
     },
     "metadata": {},
     "output_type": "display_data"
    },
    {
     "name": "stderr",
     "output_type": "stream",
     "text": [
      "\r",
      "  0%|          | 0/30 [00:00<?, ?it/s]"
     ]
    }
   ],
   "source": [
    "%tensorboard --logdir ./logs\n",
    "EPOCHS = 30\n",
    "\n",
    "writer = SummaryWriter(log_dir=\"./logs\")\n",
    "\n",
    "for epoch in tqdm(range(EPOCHS)):\n",
    "    train_loss_mean=[]\n",
    "    train_acc_mean=[]\n",
    "    for d in dataloader_train:\n",
    "        \n",
    "        ids = d['ids'].to(device)\n",
    "        mask = d['mask'].to(device)\n",
    "        labels = d['labels'].to(device)\n",
    "        \n",
    "        train_loss, train_acc = train_step_bert(ids, mask, labels, bertModel)\n",
    "        train_loss_mean.append(train_loss)\n",
    "        train_acc_mean.append(train_acc)\n",
    "    \n",
    "    valid_loss_mean=[]\n",
    "    valid_acc_mean=[]\n",
    "    for d in dataloader_valid:\n",
    "        \n",
    "        ids = d['ids'].to(device)\n",
    "        mask = d['mask'].to(device)\n",
    "        labels = d['labels'].to(device)\n",
    "        \n",
    "        valid_loss, valid_acc = valid_step_bert(ids, mask, labels, bertModel)\n",
    "        valid_loss_mean.append(valid_loss)\n",
    "        valid_acc_mean.append(valid_acc)\n",
    "    \n",
    "    train_loss_mean=np.mean(train_loss_mean)\n",
    "    train_acc_mean=np.mean(train_acc_mean)\n",
    "    valid_loss_mean=np.mean(valid_loss_mean)\n",
    "    valid_acc_mean=np.mean(valid_acc_mean)\n",
    "    \n",
    "    with torch.no_grad():\n",
    "        writer.add_scalar(\"Loss/train\", train_loss_mean, epoch)\n",
    "        writer.add_scalar(\"Acc/train\", train_acc_mean, epoch)\n",
    "        writer.add_scalar(\"Loss/valid\", valid_loss_mean, epoch)\n",
    "        writer.add_scalar(\"Acc/valid\", valid_acc_mean, epoch)\n",
    "\n",
    "writer.close()"
   ]
  },
  {
   "cell_type": "code",
   "execution_count": null,
   "metadata": {},
   "outputs": [],
   "source": []
  }
 ],
 "metadata": {
  "kernelspec": {
   "display_name": "Python 3",
   "language": "python",
   "name": "python3"
  },
  "language_info": {
   "codemirror_mode": {
    "name": "ipython",
    "version": 3
   },
   "file_extension": ".py",
   "mimetype": "text/x-python",
   "name": "python",
   "nbconvert_exporter": "python",
   "pygments_lexer": "ipython3",
   "version": "3.8.3"
  }
 },
 "nbformat": 4,
 "nbformat_minor": 4
}
