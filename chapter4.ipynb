{
 "cells": [
  {
   "cell_type": "code",
   "execution_count": 71,
   "metadata": {},
   "outputs": [],
   "source": [
    "import MeCab\n",
    "with open(\"neko.txt\",encoding=\"utf-8\") as f:\n",
    "    nekotxt=f.read()\n",
    "m = MeCab.Tagger ()\n",
    "nekoMecab=m.parse (nekotxt)"
   ]
  },
  {
   "cell_type": "markdown",
   "metadata": {},
   "source": [
    "### 30"
   ]
  },
  {
   "cell_type": "code",
   "execution_count": 21,
   "metadata": {
    "collapsed": true
   },
   "outputs": [
    {
     "name": "stdout",
     "output_type": "stream",
     "text": [
      "一　吾輩は猫である。\n",
      "名前はまだ無い。\n",
      "　どこで生れたかとんと見当がつかぬ。\n",
      "何でも薄暗いじめじめした所でニャーニャー泣いていた事だけは記憶している。\n",
      "吾輩はここで始めて人間というものを見た。\n",
      "しかもあとで聞くとそれは書生という人間中で一番獰悪な種族であったそうだ。\n",
      "この書生というのは時々我々を捕えて煮て食うという話である。\n",
      "しかしその当時は何という考もなかったから別段恐しいとも思わなかった。\n",
      "ただ彼の掌に載せられてスーと持ち上げられた時何だかフワフワした感じがあったばかりである。\n",
      "掌の上で少し落ちついて書生の顔を見たのがいわゆる人間というものの見始であろう。\n",
      "この時妙なものだと思った感じが今でも残っている。\n",
      "第一毛をもって装飾されべきはずの顔がつるつるしてまるで薬缶だ。\n",
      "その後猫にもだいぶ逢ったがこんな片輪には一度も出会わした事がない。\n",
      "のみならず顔の真中があまりに突起している。\n",
      "そうしてその穴の中から時々ぷうぷうと煙を吹く。\n",
      "どうも咽せぽくて実に弱った。\n",
      "これが人間の飲む煙草というものである事はようやくこの頃知った。\n",
      "　この書生の掌の裏でしばらくはよい心持に坐っておったが、しばらくすると非常な速力で運転し始めた。\n",
      "書生が動くのか自分だけが動くのか分らないが無暗に眼が廻る。\n",
      "胸が悪くなる。\n",
      "到底助からないと思っていると、どさりと音がして眼から火が出た。\n",
      "それまでは記憶しているがあとは何の事やらいくら考え出そうとしても分らない。\n",
      "　ふと気が付いて見ると書生はいない。\n",
      "たくさんおった兄弟が一疋も見えぬ。\n",
      "肝心の母親さえ姿を隠してしまった。\n",
      "その上今までの所とは違って無暗に明るい。\n",
      "眼を明いていられぬくらいだ。\n",
      "はてな何でも容子がおかしいと、のそのそ這い出して見ると非常に痛い。\n",
      "吾輩は藁の上から急に笹原の中へ棄てられたのである。\n",
      "　ようやくの思いで笹原を這い出すと向うに大きな池がある。\n"
     ]
    }
   ],
   "source": [
    "import re\n",
    "pattern=re.compile(r\"^(.*?)\\t(.*?),(.*?)(?:,.*?){4},(.*?)(?:,.*?)*\\n\",re.MULTILINE + re.DOTALL)\n",
    "\n",
    "nekoPattern=pattern.findall(nekoMecab)\n",
    "nekosets=[]\n",
    "sentence=[]\n",
    "for np in nekoPattern:\n",
    "#     if np[2]==\"空白\":\n",
    "#         continue\n",
    "    term={\"surface\":np[0],\n",
    "          \"base\":np[3],\n",
    "          \"pos\":np[1],\n",
    "          \"pos1\":np[2],\n",
    "         }\n",
    "    sentence.append(term)\n",
    "    if np[2]==\"句点\":\n",
    "        nekosets.append(sentence)\n",
    "        sentence=[]\n",
    "for sentence in nekosets[:30]:\n",
    "    for term in sentence:\n",
    "        print(term[\"surface\"],end=\"\")\n",
    "    print()"
   ]
  },
  {
   "cell_type": "markdown",
   "metadata": {},
   "source": [
    "### 31"
   ]
  },
  {
   "cell_type": "code",
   "execution_count": 8,
   "metadata": {},
   "outputs": [
    {
     "name": "stdout",
     "output_type": "stream",
     "text": [
      "['生れ', 'つか', 'し', '泣い', 'い', 'し', 'いる', '始め', '見', '聞く', '捕え', '煮', '食う', '思わ', '載せ', 'られ', '持ち上げ', 'られ', 'し', 'あっ', '落ちつい', '見', 'いう', '見', '思っ', '残っ', 'いる', 'さ', 'れ', 'し']\n"
     ]
    }
   ],
   "source": [
    "verb_surface=[]\n",
    "for sentence in nekosets:\n",
    "    for term in sentence:\n",
    "        if term[\"pos\"]==\"動詞\":\n",
    "            verb_surface.append(term[\"surface\"])\n",
    "print(verb_surface[:30])"
   ]
  },
  {
   "cell_type": "markdown",
   "metadata": {},
   "source": [
    "### 32"
   ]
  },
  {
   "cell_type": "code",
   "execution_count": 6,
   "metadata": {},
   "outputs": [
    {
     "name": "stdout",
     "output_type": "stream",
     "text": [
      "['生れる', 'つく', 'する', '泣く', 'いる', 'する', 'いる', '始める', '見る', '聞く', '捕える', '煮る', '食う', '思う', '載せる', 'られる', '持ち上げる', 'られる', 'する', 'ある', '落ちつく', '見る', 'いう', '見る', '思う', '残る', 'いる', 'する', 'れる', 'する']\n"
     ]
    }
   ],
   "source": [
    "verb_base=[]\n",
    "for sentence in nekosets:\n",
    "    for term in sentence:\n",
    "        if term[\"pos\"]==\"動詞\":\n",
    "            verb_base.append(term[\"base\"])\n",
    "print(verb_base[:30])"
   ]
  },
  {
   "cell_type": "markdown",
   "metadata": {},
   "source": [
    "### 33"
   ]
  },
  {
   "cell_type": "code",
   "execution_count": 15,
   "metadata": {},
   "outputs": [
    {
     "name": "stdout",
     "output_type": "stream",
     "text": [
      "['彼の掌', '掌の上', '書生の顔', 'はずの顔', '顔の真中', '穴の中', '書生の掌', '掌の裏', '何の事', '肝心の母親', '藁の上', '笹原の中', '池の前', '一樹の蔭', '垣根の穴', '隣家の三', '時の通路', '一刻の猶予', '家の内', '彼の書生', '以外の人間', '前の書生', 'おさんの隙', 'おさんの三', '胸の痞', '家の主人', '主人の方', '鼻の下', '吾輩の顔', '自分の住']\n"
     ]
    }
   ],
   "source": [
    "norn_phrase_no=[]\n",
    "for sentence in nekosets:\n",
    "    for i,term in enumerate(sentence):\n",
    "        if term[\"surface\"]==\"の\" \\\n",
    "        and term[\"pos1\"]==\"連体化\"\\\n",
    "        and i >0 and i != len(sentence)-1\\\n",
    "        and sentence[i-1][\"pos\"]==\"名詞\" and sentence[i+1][\"pos\"]==\"名詞\":\n",
    "            norn_phrase_no.append(sentence[i-1][\"surface\"]+sentence[i][\"surface\"]+sentence[i+1][\"surface\"])\n",
    "print(norn_phrase_no[:30])"
   ]
  },
  {
   "cell_type": "markdown",
   "metadata": {},
   "source": [
    "### 34"
   ]
  },
  {
   "cell_type": "code",
   "execution_count": 24,
   "metadata": {
    "scrolled": false
   },
   "outputs": [
    {
     "name": "stdout",
     "output_type": "stream",
     "text": [
      "['人間中', '一番獰悪', '時妙', '一毛', 'その後猫', 'こんな片輪', '一度', 'ぷうぷうと煙', '邸内', '三毛', '暖かそう', '書生以外', '再びおさん', '同じ事', '四五遍', 'この間おさん', '三馬', '御台所', 'ら内', 'まま奥', '住家', 'ぎりほとんど', '勉強家', '勉強家', '勤勉家', '二三ページ', '主人以外', '限り吾輩', '朝主人', 'その後いろいろ経験']\n"
     ]
    }
   ],
   "source": [
    "norn_connect=[]\n",
    "for sentence in nekosets:\n",
    "    size=len(sentence)\n",
    "    i=0\n",
    "    while i != size:\n",
    "        if sentence[i][\"pos\"]==\"名詞\" \\\n",
    "            and i != size-1 \\\n",
    "            and sentence[i+1][\"pos\"]==\"名詞\":\n",
    "            conection=[]\n",
    "            while j != size and sentence[i][\"pos\"]==\"名詞\":\n",
    "                conection.append(sentence[i][\"surface\"])\n",
    "                i+=1\n",
    "            norn_connect.append(\"\".join(conection))\n",
    "        else: i+=1\n",
    "print(norn_connect[:30])"
   ]
  },
  {
   "cell_type": "markdown",
   "metadata": {},
   "source": [
    "### 35"
   ]
  },
  {
   "cell_type": "code",
   "execution_count": 26,
   "metadata": {},
   "outputs": [
    {
     "name": "stdout",
     "output_type": "stream",
     "text": [
      "[('の', 9198), ('。', 7486), ('て', 6777), ('、', 6772), ('は', 6418), ('に', 6177), ('を', 6047), ('だ', 5967), ('と', 5486), ('が', 5338), ('た', 4250), ('する', 3661), ('「', 3231), ('」', 3225), ('ない', 3058), ('も', 2433), ('ある', 2309), ('で', 2092), ('から', 2022), ('*', 1887), ('いる', 1723), ('か', 1552), ('ん', 1521), ('云う', 1411), ('事', 1205), ('です', 1166), ('ます', 1158), ('なる', 1141), ('へ', 1034), ('う', 980)]\n"
     ]
    }
   ],
   "source": [
    "neko_words={}\n",
    "for sentence in nekosets:\n",
    "    for term in sentence:\n",
    "        if term[\"base\"] in neko_words:\n",
    "            neko_words[term[\"base\"]]+=1\n",
    "        else:\n",
    "            neko_words[term[\"base\"]]=1\n",
    "sorted_words=sorted(neko_words.items(),key=lambda x:x[1],reverse=True)\n",
    "print(sorted_words[:30])"
   ]
  },
  {
   "cell_type": "markdown",
   "metadata": {},
   "source": [
    "### 36"
   ]
  },
  {
   "cell_type": "code",
   "execution_count": 78,
   "metadata": {},
   "outputs": [
    {
     "data": {
      "image/png": "[encoded data removed]",
      "text/plain": [
       "<Figure size 432x288 with 1 Axes>"
      ]
     },
     "metadata": {
      "needs_background": "light"
     },
     "output_type": "display_data"
    }
   ],
   "source": [
    "# coding:utf-8\n",
    "import matplotlib.pyplot as plt\n",
    "import matplotlib.font_manager as fm\n",
    "font = fm.FontProperties(fname=\"C:\\Windows\\Fonts\\YuGothL.ttc\")\n",
    "top_10=list(zip(*sorted_words[:10]))\n",
    "plt.bar(range(10),top_10[1])\n",
    "plt.xticks(range(10),top_10[0],fontproperties=font)\n",
    "plt.xlabel(\"単語\",fontproperties=font)\n",
    "plt.ylabel(\"出現頻度\",fontproperties=font)\n",
    "plt.show()"
   ]
  },
  {
   "cell_type": "markdown",
   "metadata": {},
   "source": [
    "### 37"
   ]
  },
  {
   "cell_type": "code",
   "execution_count": 77,
   "metadata": {},
   "outputs": [
    {
     "data": {
      "image/png": "[encoded data removed]",
      "text/plain": [
       "<Figure size 432x288 with 1 Axes>"
      ]
     },
     "metadata": {
      "needs_background": "light"
     },
     "output_type": "display_data"
    }
   ],
   "source": [
    "from collections import defaultdict\n",
    "neko_freq=defaultdict(int)\n",
    "for sentence in nekosets:\n",
    "    if \"猫\" in [morph[\"base\"] for morph in sentence]:\n",
    "        for morph in sentence:\n",
    "            if morph[\"pos\"] not in [\"記号\", \"助詞\", \"助動詞\"]:\n",
    "                neko_freq[morph[\"base\"]] +=1\n",
    "del neko_freq['猫']\n",
    "neko_freq_sorted=sorted(neko_freq.items(), key=lambda x: x[1], reverse=True)\n",
    "top_10=list(zip(*neko_freq_sorted[:10]))\n",
    "plt.bar(range(10),top_10[1])\n",
    "plt.xticks(range(10),top_10[0],fontproperties=font)\n",
    "plt.xlabel(\"単語\",fontproperties=font)\n",
    "plt.ylabel(\"出現頻度\",fontproperties=font)\n",
    "plt.show()"
   ]
  },
  {
   "cell_type": "markdown",
   "metadata": {},
   "source": [
    "### 38"
   ]
  },
  {
   "cell_type": "code",
   "execution_count": 76,
   "metadata": {},
   "outputs": [
    {
     "data": {
      "image/png": "[encoded data removed]",
      "text/plain": [
       "<Figure size 432x288 with 1 Axes>"
      ]
     },
     "metadata": {
      "needs_background": "light"
     },
     "output_type": "display_data"
    }
   ],
   "source": [
    "from collections import defaultdict\n",
    "appearence=defaultdict(int)\n",
    "for sentence in nekosets:\n",
    "    for morph in sentence:\n",
    "        appearence[morph[\"base\"]]+=1\n",
    "plt.hist(appearence.values(), bins=100)\n",
    "plt.xlabel(\"出現頻度\",fontproperties=font)\n",
    "plt.ylabel(\"単語数\",fontproperties=font)\n",
    "plt.show()"
   ]
  },
  {
   "cell_type": "markdown",
   "metadata": {},
   "source": [
    "### 39"
   ]
  },
  {
   "cell_type": "code",
   "execution_count": 84,
   "metadata": {},
   "outputs": [
    {
     "data": {
      "image/png": "[encoded data removed]",
      "text/plain": [
       "<Figure size 432x288 with 1 Axes>"
      ]
     },
     "metadata": {
      "needs_background": "light"
     },
     "output_type": "display_data"
    }
   ],
   "source": [
    "plt.plot(sorted(appearence.values(),reverse=True))\n",
    "plt.xscale(\"log\")\n",
    "plt.yscale(\"log\")\n",
    "plt.xlabel(\"出現頻度順位\",fontproperties=font)\n",
    "plt.ylabel(\"出現頻度\",fontproperties=font)\n",
    "plt.show()"
   ]
  }
 ],
 "metadata": {
  "kernelspec": {
   "display_name": "Python 3",
   "language": "python",
   "name": "python3"
  },
  "language_info": {
   "codemirror_mode": {
    "name": "ipython",
    "version": 3
   },
   "file_extension": ".py",
   "mimetype": "text/x-python",
   "name": "python",
   "nbconvert_exporter": "python",
   "pygments_lexer": "ipython3",
   "version": "3.7.3"
  }
 },
 "nbformat": 4,
 "nbformat_minor": 2
}
