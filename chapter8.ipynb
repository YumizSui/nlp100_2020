{
 "cells": [
  {
   "cell_type": "code",
   "execution_count": 1,
   "metadata": {},
   "outputs": [],
   "source": [
    "from gensim.models import KeyedVectors\n",
    "from tqdm import tqdm\n",
    "import pandas as pd\n",
    "import numpy as np\n",
    "import string\n",
    "import re\n",
    "import torch\n",
    "import torch.nn as nn"
   ]
  },
  {
   "cell_type": "markdown",
   "metadata": {},
   "source": [
    "### 70"
   ]
  },
  {
   "cell_type": "code",
   "execution_count": 6,
   "metadata": {},
   "outputs": [],
   "source": [
    "w2vModel = KeyedVectors.load_word2vec_format('src/GoogleNews-vectors-negative300.bin.gz', binary=True)\n",
    "\n",
    "train=pd.read_csv('src/newcorpora/train.txt', sep=\"\\t\",header=None,names=[\"CATEGORY\", \"TITLE\"])\n",
    "valid=pd.read_csv('src/newcorpora/valid.txt', sep=\"\\t\",header=None,names=[\"CATEGORY\", \"TITLE\"])\n",
    "test=pd.read_csv('src/newcorpora/test.txt', sep=\"\\t\",header=None,names=[\"CATEGORY\", \"TITLE\"])"
   ]
  },
  {
   "cell_type": "code",
   "execution_count": 7,
   "metadata": {},
   "outputs": [],
   "source": [
    "def normalizeText(text):\n",
    "    text = text.lower()  # 小文字化\n",
    "    table = str.maketrans(string.punctuation, ' '*len(string.punctuation))\n",
    "    text = re.sub('[0-9|,|.]+', '0', text)\n",
    "    text = text.translate(table)\n",
    "    text = re.sub(r\"\\s+\", \" \", text)\n",
    "    text = re.sub(r\"^ | $\", \"\", text)\n",
    "    return text"
   ]
  },
  {
   "cell_type": "code",
   "execution_count": 8,
   "metadata": {},
   "outputs": [],
   "source": [
    "def get_title_vector(title):\n",
    "    size=w2vModel.vector_size\n",
    "    vec=[w2vModel[word] if word in w2vModel.vocab else [0]*size for word in title.split()]\n",
    "    vec= np.mean(np.array(vec),axis=0)\n",
    "    return vec"
   ]
  },
  {
   "cell_type": "code",
   "execution_count": 9,
   "metadata": {
    "scrolled": false
   },
   "outputs": [],
   "source": [
    "X_train=np.array(list(map(get_title_vector, train.TITLE.map(lambda x: normalizeText(x)))))\n",
    "X_valid=np.array(list(map(get_title_vector, valid.TITLE.map(lambda x: normalizeText(x)))))\n",
    "X_test=np.array(list(map(get_title_vector, test.TITLE.map(lambda x: normalizeText(x)))))\n",
    "\n",
    "# pd.DataFrame(X_train).to_csv(\"src/wordsim353/X_train.txt\",sep=\"\\t\",header=None,index=None)\n",
    "# pd.DataFrame(X_valid).to_csv(\"src/wordsim353/X_valid.txt\",sep=\"\\t\",header=None,index=None)\n",
    "# pd.DataFrame(X_test).to_csv(\"src/wordsim353/X_valid.txt\",sep=\"\\t\",header=None,index=None)\n",
    "\n",
    "y_train=train[\"CATEGORY\"].map({'b':0,'e':1,'t':2,'m':3})\n",
    "y_valid=valid[\"CATEGORY\"].map({'b':0,'e':1,'t':2,'m':3})\n",
    "y_test=test[\"CATEGORY\"].map({'b':0,'e':1,'t':2,'m':3})\n",
    "\n",
    "# pd.Series(y_train).to_csv(\"src/wordsim353/y_train.txt\",header=None,index=None)\n",
    "# pd.Series(y_valid).to_csv(\"src/wordsim353/y_valid.txt\",header=None,index=None)\n",
    "# pd.Series(y_test).to_csv(\"src/wordsim353/y_test.txt\",header=None,index=None)"
   ]
  },
  {
   "cell_type": "code",
   "execution_count": 10,
   "metadata": {},
   "outputs": [],
   "source": [
    "d=w2vModel.vector_size\n",
    "L=4"
   ]
  },
  {
   "cell_type": "markdown",
   "metadata": {},
   "source": [
    "### 71"
   ]
  },
  {
   "cell_type": "code",
   "execution_count": 7,
   "metadata": {},
   "outputs": [
    {
     "data": {
      "text/plain": [
       "tensor([[0.1338, 0.1772, 0.1538, 0.5352],\n",
       "        [0.2960, 0.3814, 0.1253, 0.1974],\n",
       "        [0.0255, 0.4356, 0.3023, 0.2366],\n",
       "        [0.0377, 0.0526, 0.4280, 0.4818]])"
      ]
     },
     "execution_count": 7,
     "metadata": {},
     "output_type": "execute_result"
    }
   ],
   "source": [
    "X=torch.tensor(X_train[:4],dtype=torch.float32)\n",
    "W=torch.randn(size=[300,4])\n",
    "softmax = nn.Softmax(dim=1)\n",
    "softmax(X.matmul(W))"
   ]
  },
  {
   "cell_type": "markdown",
   "metadata": {},
   "source": [
    "別実装"
   ]
  },
  {
   "cell_type": "markdown",
   "metadata": {},
   "source": [
    "### 72"
   ]
  },
  {
   "cell_type": "code",
   "execution_count": 25,
   "metadata": {},
   "outputs": [],
   "source": [
    "criterion=nn.CrossEntropyLoss()"
   ]
  },
  {
   "cell_type": "code",
   "execution_count": 37,
   "metadata": {},
   "outputs": [
    {
     "name": "stdout",
     "output_type": "stream",
     "text": [
      "tensor([[-0.0563,  1.6913, -0.2063, -1.1848],\n",
      "        [ 4.0888, -2.2877, -0.1979, -1.4350],\n",
      "        [ 4.7767, -2.4733, -0.4913, -1.7425],\n",
      "        [-1.3681,  4.3502, -0.4973, -2.4993]], grad_fn=<AddmmBackward>)\n"
     ]
    }
   ],
   "source": [
    "y_pred = neuralModel(X)\n",
    "y_true=torch.tensor(y_train[:4],dtype=torch.int64)\n",
    "print(y_pred)"
   ]
  },
  {
   "cell_type": "code",
   "execution_count": 13,
   "metadata": {
    "scrolled": true
   },
   "outputs": [],
   "source": [
    "y_true=torch.tensor(y_train[:4],dtype=torch.int64)"
   ]
  },
  {
   "cell_type": "code",
   "execution_count": 14,
   "metadata": {},
   "outputs": [
    {
     "data": {
      "text/plain": [
       "tensor(2.3910)"
      ]
     },
     "execution_count": 14,
     "metadata": {},
     "output_type": "execute_result"
    }
   ],
   "source": [
    "CrossEntropyLoss(torch.matmul(X, W),y_true)"
   ]
  },
  {
   "cell_type": "markdown",
   "metadata": {},
   "source": [
    "### 73"
   ]
  },
  {
   "cell_type": "code",
   "execution_count": 2,
   "metadata": {},
   "outputs": [],
   "source": [
    "import torch.optim as optim"
   ]
  },
  {
   "cell_type": "code",
   "execution_count": 11,
   "metadata": {},
   "outputs": [],
   "source": [
    "INPUT_FEATURES=d\n",
    "OUTPUT_NEURONS=L"
   ]
  },
  {
   "cell_type": "code",
   "execution_count": 12,
   "metadata": {},
   "outputs": [],
   "source": [
    "class NeuralNetwork(nn.Module):\n",
    "    def __init__(self):\n",
    "        super(NeuralNetwork,self).__init__()\n",
    "        \n",
    "        self.layer1=nn.Linear(\n",
    "        INPUT_FEATURES,\n",
    "        OUTPUT_NEURONS\n",
    "        )\n",
    "    def forward(self,input_data):\n",
    "        return self.layer1(input_data)"
   ]
  },
  {
   "cell_type": "code",
   "execution_count": 17,
   "metadata": {},
   "outputs": [
    {
     "data": {
      "text/plain": [
       "tensor([[0.6418, 0.1027, 0.1786, 0.0770],\n",
       "        [0.8805, 0.0396, 0.0470, 0.0328],\n",
       "        [0.4327, 0.1164, 0.1437, 0.3072],\n",
       "        [0.4955, 0.0179, 0.2197, 0.2669]])"
      ]
     },
     "execution_count": 17,
     "metadata": {},
     "output_type": "execute_result"
    }
   ],
   "source": [
    "X=torch.tensor(X_train[:4],dtype=torch.float32)\n",
    "W=torch.randn(size=[300,4])\n",
    "softmax = nn.Softmax(dim=1)\n",
    "softmax(X.matmul(W))"
   ]
  },
  {
   "cell_type": "code",
   "execution_count": 13,
   "metadata": {},
   "outputs": [],
   "source": [
    "def is_equal_pred(pred_y,true_y):\n",
    "    return activation(pred_y).argmax(axis=1) == true_y\n",
    "\n",
    "def train_step(train_X, train_y):\n",
    "    neuralModel.train()\n",
    "    pred_y = neuralModel(train_X)\n",
    "    \n",
    "    optimizer.zero_grad()\n",
    "    loss = criterion(pred_y, train_y)\n",
    "    loss.backward()\n",
    "    optimizer.step()\n",
    "    \n",
    "    n=len(train_y)\n",
    "    \n",
    "    acc = is_equal_pred(pred_y,train_y).sum()\n",
    "    \n",
    "    return (loss.item(), acc.item()/n)\n",
    "\n",
    "def valid_step(valid_X, valid_y):\n",
    "    neuralModel.eval()\n",
    "    pred_y = neuralModel(valid_X)\n",
    "    \n",
    "    loss = criterion(pred_y, valid_y)\n",
    "    \n",
    "    n=len(valid_y)\n",
    "    acc = is_equal_pred(pred_y,valid_y).sum()\n",
    "\n",
    "    return (loss.item(), acc.item()/n)\n",
    "\n",
    "def init_parameters(layer):\n",
    "    if type(layer) == nn.Linear:\n",
    "        nn.init.xavier_uniform_(layer.weight)\n",
    "        layer.bias.data.fill_(0.0)\n",
    "#         layer.weight.grad = None\n",
    "#         layer.bias.grad = None"
   ]
  },
  {
   "cell_type": "code",
   "execution_count": 15,
   "metadata": {},
   "outputs": [],
   "source": [
    "neuralModel=NeuralNetwork()\n",
    "# optimizer\n",
    "LEARNING_RATE = 1\n",
    "# REGULARIZATION = 0.01\n",
    "optimizer = optim.SGD(\n",
    "    neuralModel.parameters(),\n",
    "    lr=LEARNING_RATE)\n",
    "#     ,weight_decay=REGULARIZATION)\n",
    "\n",
    "# activation\n",
    "activation = torch.nn.Softmax(dim=1)\n",
    "\n",
    "# criterion\n",
    "criterion=nn.CrossEntropyLoss()"
   ]
  },
  {
   "cell_type": "code",
   "execution_count": 14,
   "metadata": {},
   "outputs": [],
   "source": [
    "train_X=torch.tensor(X_train,dtype=torch.float32)\n",
    "train_y=torch.tensor(y_train,dtype=torch.int64)\n",
    "valid_X=torch.tensor(X_valid,dtype=torch.float32)\n",
    "valid_y=torch.tensor(y_valid,dtype=torch.int64)\n",
    "test_X=torch.tensor(X_test,dtype=torch.float32)\n",
    "test_y=torch.tensor(y_test,dtype=torch.int64)\n",
    "\n",
    "train_n=len(train_y)\n",
    "valid_n=len(valid_y)\n",
    "test_n=len(test_y)"
   ]
  },
  {
   "cell_type": "code",
   "execution_count": 16,
   "metadata": {
    "scrolled": true
   },
   "outputs": [
    {
     "name": "stderr",
     "output_type": "stream",
     "text": [
      "100%|██████████| 100/100 [00:00<00:00, 226.20it/s]\n"
     ]
    }
   ],
   "source": [
    "neuralModel.apply(init_parameters)\n",
    "EPOCHS = 100\n",
    "train_history_loss = []\n",
    "train_history_acc = []\n",
    "valid_history_loss = []\n",
    "valid_history_acc = []\n",
    "\n",
    "for epoch in tqdm(range(EPOCHS)):\n",
    "    train_loss, train_acc=train_step(train_X,train_y)\n",
    "    valid_loss, valid_acc=valid_step(valid_X, valid_y)\n",
    "    train_history_loss.append(train_loss)\n",
    "    train_history_acc.append(train_acc)\n",
    "    valid_history_loss.append(valid_loss)\n",
    "    valid_history_acc.append(valid_acc)"
   ]
  },
  {
   "cell_type": "code",
   "execution_count": 18,
   "metadata": {},
   "outputs": [],
   "source": [
    "import matplotlib.pyplot as plt"
   ]
  },
  {
   "cell_type": "code",
   "execution_count": 19,
   "metadata": {},
   "outputs": [
    {
     "data": {
      "text/plain": [
       "Text(0.5, 0, 'epocs')"
      ]
     },
     "execution_count": 19,
     "metadata": {},
     "output_type": "execute_result"
    },
    {
     "data": {
      "image/png": "[encoded data removed]",
      "text/plain": [
       "<Figure size 432x288 with 1 Axes>"
      ]
     },
     "metadata": {
      "needs_background": "light"
     },
     "output_type": "display_data"
    }
   ],
   "source": [
    "plt.plot(train_history_loss,label=\"train\")\n",
    "plt.plot(valid_history_loss,label=\"valid\")\n",
    "plt.legend()\n",
    "plt.ylabel(\"loss\")\n",
    "plt.xlabel(\"epocs\")"
   ]
  },
  {
   "cell_type": "code",
   "execution_count": 20,
   "metadata": {},
   "outputs": [
    {
     "data": {
      "text/plain": [
       "Text(0.5, 0, 'epocs')"
      ]
     },
     "execution_count": 20,
     "metadata": {},
     "output_type": "execute_result"
    },
    {
     "data": {
      "image/png": "[encoded data removed]",
      "text/plain": [
       "<Figure size 432x288 with 1 Axes>"
      ]
     },
     "metadata": {
      "needs_background": "light"
     },
     "output_type": "display_data"
    }
   ],
   "source": [
    "plt.plot(np.array(train_history_acc),label=\"train\")\n",
    "plt.plot(np.array(valid_history_acc),label=\"valid\")\n",
    "plt.legend()\n",
    "plt.ylabel(\"accuracy\")\n",
    "plt.xlabel(\"epocs\")"
   ]
  },
  {
   "cell_type": "markdown",
   "metadata": {},
   "source": [
    "### 74"
   ]
  },
  {
   "cell_type": "code",
   "execution_count": 61,
   "metadata": {},
   "outputs": [
    {
     "name": "stdout",
     "output_type": "stream",
     "text": [
      "0.7784857571214393\n",
      "0.7698650674662668\n",
      "0.7818590704647677\n"
     ]
    }
   ],
   "source": [
    "pred_train_X=neuralModel(train_X)\n",
    "pred_valid_X=neuralModel(valid_X)\n",
    "pred_test_X=neuralModel(test_X)\n",
    "acc_train=np.array(is_equal_pred(pred_train_X,train_y)).mean()\n",
    "acc_valid=np.array(is_equal_pred(pred_valid_X,valid_y)).mean()\n",
    "acc_test=np.array(is_equal_pred(pred_test_X,test_y)).mean()\n",
    "\n",
    "print(acc_train)\n",
    "print(acc_valid)\n",
    "print(acc_test)"
   ]
  },
  {
   "cell_type": "markdown",
   "metadata": {},
   "source": [
    "### 75"
   ]
  },
  {
   "cell_type": "code",
   "execution_count": 28,
   "metadata": {},
   "outputs": [],
   "source": [
    "from torch.utils.tensorboard import SummaryWriter"
   ]
  },
  {
   "cell_type": "code",
   "execution_count": 67,
   "metadata": {
    "collapsed": true
   },
   "outputs": [
    {
     "name": "stdout",
     "output_type": "stream",
     "text": [
      "The tensorboard extension is already loaded. To reload it, use:\n",
      "  %reload_ext tensorboard\n"
     ]
    },
    {
     "data": {
      "text/plain": [
       "Reusing TensorBoard on port 6006 (pid 77324), started 0:44:48 ago. (Use '!kill 77324' to kill it.)"
      ]
     },
     "metadata": {},
     "output_type": "display_data"
    },
    {
     "data": {
      "text/html": [
       "\n",
       "      <iframe id=\"tensorboard-frame-6e46a204a6876fb8\" width=\"100%\" height=\"800\" frameborder=\"0\">\n",
       "      </iframe>\n",
       "      <script>\n",
       "        (function() {\n",
       "          const frame = document.getElementById(\"tensorboard-frame-6e46a204a6876fb8\");\n",
       "          const url = new URL(\"/\", window.location);\n",
       "          const port = 6006;\n",
       "          if (port) {\n",
       "            url.port = port;\n",
       "          }\n",
       "          frame.src = url;\n",
       "        })();\n",
       "      </script>\n",
       "    "
      ],
      "text/plain": [
       "<IPython.core.display.HTML object>"
      ]
     },
     "metadata": {},
     "output_type": "display_data"
    },
    {
     "name": "stderr",
     "output_type": "stream",
     "text": [
      "100%|██████████| 1000/1000 [00:06<00:00, 162.52it/s]\n"
     ]
    }
   ],
   "source": [
    "!rm -rf ./logs\n",
    "\n",
    "neuralModel=NeuralNetwork()\n",
    "# optimizer\n",
    "LEARNING_RATE = 1\n",
    "# REGULARIZATION = 0.01\n",
    "optimizer = optim.SGD(\n",
    "    neuralModel.parameters(),\n",
    "    lr=LEARNING_RATE)\n",
    "#     ,weight_decay=REGULARIZATION)\n",
    "\n",
    "\n",
    "%load_ext tensorboard\n",
    "%tensorboard --logdir ./logs\n",
    "\n",
    "neuralModel.apply(init_parameters)\n",
    "EPOCHS = 1000\n",
    "train_history_loss = []\n",
    "train_history_acc = []\n",
    "valid_history_loss = []\n",
    "valid_history_acc = []\n",
    "\n",
    "writer = SummaryWriter(log_dir=\"./logs\")\n",
    "\n",
    "for epoch in tqdm(range(EPOCHS)):\n",
    "    train_loss, train_acc=train_step(train_X,train_y)\n",
    "    valid_loss, valid_acc=valid_step(valid_X, valid_y)\n",
    "    writer.add_scalar(\"Loss/train\", train_loss, epoch)\n",
    "    writer.add_scalar(\"Acc/train\", train_acc, epoch)\n",
    "    writer.add_scalar(\"Loss/valid\", valid_loss, epoch)\n",
    "    writer.add_scalar(\"Acc/valid\", valid_acc, epoch)\n",
    "    \n",
    "writer.close()"
   ]
  },
  {
   "cell_type": "markdown",
   "metadata": {},
   "source": [
    "### 76"
   ]
  },
  {
   "cell_type": "code",
   "execution_count": 27,
   "metadata": {},
   "outputs": [],
   "source": [
    "import datetime"
   ]
  },
  {
   "cell_type": "code",
   "execution_count": 131,
   "metadata": {},
   "outputs": [],
   "source": [
    "!rm -rf ./logs\n",
    "\n",
    "neuralModel=NeuralNetwork()\n",
    "# optimizer\n",
    "LEARNING_RATE = 1\n",
    "# REGULARIZATION = 0.01\n",
    "optimizer = optim.SGD(\n",
    "    neuralModel.parameters(),\n",
    "    lr=LEARNING_RATE)\n",
    "#     ,weight_decay=REGULARIZATION)"
   ]
  },
  {
   "cell_type": "code",
   "execution_count": 132,
   "metadata": {
    "scrolled": true
   },
   "outputs": [
    {
     "data": {
      "text/plain": [
       "Reusing TensorBoard on port 6006 (pid 77324), started 2:03:54 ago. (Use '!kill 77324' to kill it.)"
      ]
     },
     "metadata": {},
     "output_type": "display_data"
    },
    {
     "data": {
      "text/html": [
       "\n",
       "      <iframe id=\"tensorboard-frame-dc001621fa68918c\" width=\"100%\" height=\"800\" frameborder=\"0\">\n",
       "      </iframe>\n",
       "      <script>\n",
       "        (function() {\n",
       "          const frame = document.getElementById(\"tensorboard-frame-dc001621fa68918c\");\n",
       "          const url = new URL(\"/\", window.location);\n",
       "          const port = 6006;\n",
       "          if (port) {\n",
       "            url.port = port;\n",
       "          }\n",
       "          frame.src = url;\n",
       "        })();\n",
       "      </script>\n",
       "    "
      ],
      "text/plain": [
       "<IPython.core.display.HTML object>"
      ]
     },
     "metadata": {},
     "output_type": "display_data"
    },
    {
     "name": "stderr",
     "output_type": "stream",
     "text": [
      "100%|██████████| 1000/1000 [00:07<00:00, 142.78it/s]\n"
     ]
    }
   ],
   "source": [
    "\n",
    "%tensorboard --logdir ./logs\n",
    "\n",
    "neuralModel.apply(init_parameters)\n",
    "EPOCHS = 1000\n",
    "train_history_loss = []\n",
    "train_history_acc = []\n",
    "valid_history_loss = []\n",
    "valid_history_acc = []\n",
    "\n",
    "writer = SummaryWriter(log_dir=\"./logs\")\n",
    "nowstr=datetime.datetime.now().strftime('%Y%m%d_%H%M')\n",
    "for epoch in tqdm(range(EPOCHS)):\n",
    "    train_loss, train_acc=train_step(train_X,train_y)\n",
    "    valid_loss, valid_acc=valid_step(valid_X, valid_y)\n",
    "    \n",
    "    with torch.no_grad():\n",
    "        writer.add_scalar(\"Loss/train\", train_loss, epoch)\n",
    "        writer.add_scalar(\"Acc/train\", train_acc, epoch)\n",
    "        writer.add_scalar(\"Loss/valid\", valid_loss, epoch)\n",
    "        writer.add_scalar(\"Acc/valid\", valid_acc, epoch)\n",
    "\n",
    "        torch.save(neuralModel.state_dict(), 'output/'+nowstr+\"_\"+str(epoch)+'.model')\n",
    "        torch.save(optimizer.state_dict(), 'output/'+nowstr+\"_\"+str(epoch)+'.param')\n",
    "\n",
    "writer.close()"
   ]
  },
  {
   "cell_type": "code",
   "execution_count": 90,
   "metadata": {
    "collapsed": true
   },
   "outputs": [
    {
     "name": "stdout",
     "output_type": "stream",
     "text": [
      "0.5121814092953523\n",
      "0.5082458770614693\n",
      "0.5217391304347826\n"
     ]
    }
   ],
   "source": [
    "modelload = NeuralNetwork()\n",
    "modelload.load_state_dict(torch.load('output/'+nowstr+\"_\"+str(0)+'.model'))\n",
    "\n",
    "pred_train_X=modelload(train_X)\n",
    "pred_valid_X=modelload(valid_X)\n",
    "pred_test_X=modelload(test_X)\n",
    "acc_train=np.array(is_equal_pred(pred_train_X,train_y)).mean()\n",
    "acc_valid=np.array(is_equal_pred(pred_valid_X,valid_y)).mean()\n",
    "acc_test=np.array(is_equal_pred(pred_test_X,test_y)).mean()\n",
    "\n",
    "print(acc_train)\n",
    "print(acc_valid)\n",
    "print(acc_test)"
   ]
  },
  {
   "cell_type": "markdown",
   "metadata": {},
   "source": [
    "### 77"
   ]
  },
  {
   "cell_type": "code",
   "execution_count": 23,
   "metadata": {},
   "outputs": [],
   "source": [
    "from torch.utils.data import TensorDataset, DataLoader"
   ]
  },
  {
   "cell_type": "code",
   "execution_count": null,
   "metadata": {},
   "outputs": [],
   "source": [
    "!rm -rf ./logs\n",
    "\n",
    "neuralModel=NeuralNetwork()\n",
    "# optimizer\n",
    "LEARNING_RATE = 1\n",
    "# REGULARIZATION = 0.01\n",
    "optimizer = optim.SGD(\n",
    "    neuralModel.parameters(),\n",
    "    lr=LEARNING_RATE)\n",
    "#     ,weight_decay=REGULARIZATION)"
   ]
  },
  {
   "cell_type": "code",
   "execution_count": 122,
   "metadata": {
    "collapsed": true
   },
   "outputs": [
    {
     "data": {
      "text/plain": [
       "Reusing TensorBoard on port 6006 (pid 77324), started 1:24:48 ago. (Use '!kill 77324' to kill it.)"
      ]
     },
     "metadata": {},
     "output_type": "display_data"
    },
    {
     "data": {
      "text/html": [
       "\n",
       "      <iframe id=\"tensorboard-frame-fc3697e6bfe86730\" width=\"100%\" height=\"800\" frameborder=\"0\">\n",
       "      </iframe>\n",
       "      <script>\n",
       "        (function() {\n",
       "          const frame = document.getElementById(\"tensorboard-frame-fc3697e6bfe86730\");\n",
       "          const url = new URL(\"/\", window.location);\n",
       "          const port = 6006;\n",
       "          if (port) {\n",
       "            url.port = port;\n",
       "          }\n",
       "          frame.src = url;\n",
       "        })();\n",
       "      </script>\n",
       "    "
      ],
      "text/plain": [
       "<IPython.core.display.HTML object>"
      ]
     },
     "metadata": {},
     "output_type": "display_data"
    },
    {
     "name": "stderr",
     "output_type": "stream",
     "text": [
      "100%|██████████| 11/11 [14:04<00:00, 76.79s/it]  \n"
     ]
    }
   ],
   "source": [
    "%tensorboard --logdir ./logs\n",
    "\n",
    "EPOCHS = 10\n",
    "train_history_loss = []\n",
    "train_history_acc = []\n",
    "valid_history_loss = []\n",
    "valid_history_acc = []\n",
    "\n",
    "ds_train = TensorDataset(train_X, train_y)\n",
    "ds_valid = TensorDataset(valid_X, valid_y)\n",
    "\n",
    "writer = SummaryWriter(log_dir=\"./logs\")\n",
    "\n",
    "nowstr=datetime.datetime.now().strftime('%Y%m%d_%H%M')\n",
    "\n",
    "batchsizes=np.logspace(0, 10, 11, base=2,dtype=int)\n",
    "# batchsizes=np.logspace(0, 10, 11, base=2,dtype=int)\n",
    "\n",
    "for b in tqdm(batchsizes):\n",
    "    neuralModel=NeuralNetwork()\n",
    "    # optimizer\n",
    "    LEARNING_RATE = 1\n",
    "    # REGULARIZATION = 0.01\n",
    "    optimizer = optim.SGD(\n",
    "        neuralModel.parameters(),\n",
    "        lr=LEARNING_RATE)\n",
    "    neuralModel.apply(init_parameters)\n",
    "    \n",
    "    loader_train = DataLoader(ds_train, batch_size=int(b), shuffle=True)\n",
    "    loader_valid = DataLoader(ds_valid, batch_size=int(b), shuffle=True)\n",
    "    for epoch in range(EPOCHS):\n",
    "        train_loss_mean=[]\n",
    "        train_acc_mean=[]\n",
    "        for x,y in loader_train:\n",
    "            train_loss, train_acc=train_step(train_X,train_y)\n",
    "            train_loss_mean.append(train_loss)\n",
    "            train_acc_mean.append(train_acc)\n",
    "\n",
    "        valid_loss_mean=[]\n",
    "        valid_acc_mean=[]\n",
    "        for x,y in loader_valid:\n",
    "            valid_loss, valid_acc=valid_step(valid_X, valid_y)\n",
    "            valid_loss_mean.append(valid_loss)\n",
    "            valid_acc_mean.append(valid_acc)\n",
    "\n",
    "        train_loss_mean=np.mean(train_loss_mean)\n",
    "        train_acc_mean=np.mean(train_acc_mean)\n",
    "        valid_loss_mean=np.mean(valid_loss_mean)\n",
    "        valid_acc_mean=np.mean(valid_acc_mean)\n",
    "\n",
    "        with torch.no_grad():\n",
    "            writer.add_scalar(\"Loss/train\", train_loss_mean, epoch)\n",
    "            writer.add_scalar(\"Acc/train\", train_acc_mean, epoch)\n",
    "            writer.add_scalar(\"Loss/valid\", valid_loss_mean, epoch)\n",
    "            writer.add_scalar(\"Acc/valid\", valid_acc_mean, epoch)\n",
    "\n",
    "            torch.save(neuralModel.state_dict(), f\"output/date{nowstr}_batch{b}_epoch{epoch}.model\")\n",
    "            torch.save(optimizer.state_dict(), f\"output/date{nowstr}_batch{b}_epoch{epoch}.param\")\n",
    "\n",
    "writer.close()"
   ]
  },
  {
   "cell_type": "code",
   "execution_count": 127,
   "metadata": {},
   "outputs": [
    {
     "name": "stdout",
     "output_type": "stream",
     "text": [
      "1:\t0.9180097451274363\t0.8823088455772113\t0.8928035982008995\n",
      "2:\t0.9160419790104948\t0.8830584707646177\t0.8973013493253373\n",
      "4:\t0.9131371814092953\t0.8830584707646177\t0.8988005997001499\n",
      "8:\t0.9081709145427287\t0.883808095952024\t0.8973013493253373\n",
      "16:\t0.9010494752623688\t0.8823088455772113\t0.8920539730134932\n",
      "32:\t0.8927098950524738\t0.8800599700149925\t0.8860569715142429\n",
      "64:\t0.8839017991004497\t0.868815592203898\t0.8853073463268366\n",
      "128:\t0.8728448275862069\t0.8590704647676162\t0.8823088455772113\n",
      "256:\t0.8514805097451275\t0.841079460269865\t0.8643178410794603\n",
      "512:\t0.8180284857571214\t0.8050974512743628\t0.8305847076461769\n",
      "1024:\t0.7825149925037481\t0.7736131934032984\t0.7863568215892054\n"
     ]
    }
   ],
   "source": [
    "acc_trains=[]\n",
    "acc_valids=[]\n",
    "acc_tests=[]\n",
    "for b in batchsizes:\n",
    "    modelload = NeuralNetwork()\n",
    "    modelload.load_state_dict(torch.load(f\"output/date{nowstr}_batch{b}_epoch{9}.model\"))\n",
    "    pred_train_X=modelload(train_X)\n",
    "    pred_valid_X=modelload(valid_X)\n",
    "    pred_test_X=modelload(test_X)\n",
    "    acc_train=np.array(is_equal_pred(pred_train_X,train_y)).mean()\n",
    "    acc_valid=np.array(is_equal_pred(pred_valid_X,valid_y)).mean()\n",
    "    acc_test=np.array(is_equal_pred(pred_test_X,test_y)).mean()\n",
    "    acc_trains.append(acc_train)\n",
    "    acc_valids.append(acc_valid)\n",
    "    acc_tests.append(acc_test)\n",
    "    print(f\"{b}:\\t{acc_train}\\t{acc_valid}\\t{acc_test}\")"
   ]
  },
  {
   "cell_type": "code",
   "execution_count": 129,
   "metadata": {},
   "outputs": [
    {
     "data": {
      "text/plain": [
       "[<matplotlib.lines.Line2D at 0x7f6b78ddb460>]"
      ]
     },
     "execution_count": 129,
     "metadata": {},
     "output_type": "execute_result"
    },
    {
     "data": {
      "image/png": "[encoded data removed]",
      "text/plain": [
       "<Figure size 432x288 with 1 Axes>"
      ]
     },
     "metadata": {
      "needs_background": "light"
     },
     "output_type": "display_data"
    }
   ],
   "source": [
    "plt.plot(batchsizes,acc_trains)\n",
    "plt.plot(batchsizes,acc_valids)\n",
    "plt.plot(batchsizes,acc_tests)"
   ]
  },
  {
   "cell_type": "markdown",
   "metadata": {},
   "source": [
    "### 78"
   ]
  },
  {
   "cell_type": "code",
   "execution_count": null,
   "metadata": {},
   "outputs": [],
   "source": [
    "%load_ext tensorboard"
   ]
  },
  {
   "cell_type": "code",
   "execution_count": 51,
   "metadata": {},
   "outputs": [
    {
     "name": "stdout",
     "output_type": "stream",
     "text": [
      "cpu\n"
     ]
    }
   ],
   "source": [
    "device = torch.device(\"cpu\")\n",
    "print(device)"
   ]
  },
  {
   "cell_type": "code",
   "execution_count": 61,
   "metadata": {},
   "outputs": [],
   "source": [
    "!rm -rf ./logs\n",
    "\n",
    "neuralModel=NeuralNetwork()\n",
    "\n",
    "neuralModel = neuralModel.to(device)\n",
    "# optimizer\n",
    "LEARNING_RATE = 1\n",
    "# REGULARIZATION = 0.01\n",
    "optimizer = optim.SGD(\n",
    "    neuralModel.parameters(),\n",
    "    lr=LEARNING_RATE)\n",
    "#     ,weight_decay=REGULARIZATION)"
   ]
  },
  {
   "cell_type": "code",
   "execution_count": 63,
   "metadata": {
    "scrolled": false
   },
   "outputs": [
    {
     "data": {
      "text/html": [
       "\n",
       "      <iframe id=\"tensorboard-frame-e4b17751d3f06efe\" width=\"100%\" height=\"800\" frameborder=\"0\">\n",
       "      </iframe>\n",
       "      <script>\n",
       "        (function() {\n",
       "          const frame = document.getElementById(\"tensorboard-frame-e4b17751d3f06efe\");\n",
       "          const url = new URL(\"/\", window.location);\n",
       "          const port = 6006;\n",
       "          if (port) {\n",
       "            url.port = port;\n",
       "          }\n",
       "          frame.src = url;\n",
       "        })();\n",
       "      </script>\n",
       "    "
      ],
      "text/plain": [
       "<IPython.core.display.HTML object>"
      ]
     },
     "metadata": {},
     "output_type": "display_data"
    }
   ],
   "source": [
    "%tensorboard --logdir ./logs\n",
    "\n",
    "EPOCHS = 100\n",
    "train_history_loss = []\n",
    "train_history_acc = []\n",
    "valid_history_loss = []\n",
    "valid_history_acc = []\n",
    "\n",
    "ds_train = TensorDataset(train_X.to(device), train_y.to(device))\n",
    "ds_valid = TensorDataset(valid_X.to(device), valid_y.to(device))\n",
    "\n",
    "writer = SummaryWriter(log_dir=\"./logs\")\n",
    "\n",
    "nowstr=datetime.datetime.now().strftime('%Y%m%d_%H%M')\n",
    "\n",
    "batchsize=32\n",
    "# batchsizes=np.logspace(0, 10, 11, base=2,dtype=int)\n",
    "\n",
    "neuralModel.apply(init_parameters)\n",
    "\n",
    "loader_train = DataLoader(ds_train, batch_size=batchsize, shuffle=True)\n",
    "loader_valid = DataLoader(ds_valid, batch_size=batchsize, shuffle=True)\n",
    "for epoch in range(EPOCHS):\n",
    "    train_loss_mean=[]\n",
    "    train_acc_mean=[]\n",
    "    for x,y in loader_train:\n",
    "        train_loss, train_acc=train_step(train_X,train_y)\n",
    "        train_loss_mean.append(train_loss)\n",
    "        train_acc_mean.append(train_acc)\n",
    "\n",
    "    valid_loss_mean=[]\n",
    "    valid_acc_mean=[]\n",
    "    for x,y in loader_valid:\n",
    "        valid_loss, valid_acc=valid_step(valid_X, valid_y)\n",
    "        valid_loss_mean.append(valid_loss)\n",
    "        valid_acc_mean.append(valid_acc)\n",
    "\n",
    "    train_loss_mean=np.mean(train_loss_mean)\n",
    "    train_acc_mean=np.mean(train_acc_mean)\n",
    "    valid_loss_mean=np.mean(valid_loss_mean)\n",
    "    valid_acc_mean=np.mean(valid_acc_mean)\n",
    "\n",
    "    with torch.no_grad():\n",
    "        writer.add_scalar(\"Loss/train\", train_loss_mean, epoch)\n",
    "        writer.add_scalar(\"Acc/train\", train_acc_mean, epoch)\n",
    "        writer.add_scalar(\"Loss/valid\", valid_loss_mean, epoch)\n",
    "        writer.add_scalar(\"Acc/valid\", valid_acc_mean, epoch)\n",
    "\n",
    "#         torch.save(neuralModel.state_dict(), f\"output/date{nowstr}_batch{b}_epoch{epoch}.model\")\n",
    "#         torch.save(optimizer.state_dict(), f\"output/date{nowstr}_batch{b}_epoch{epoch}.param\")\n",
    "\n",
    "writer.close()"
   ]
  },
  {
   "cell_type": "markdown",
   "metadata": {},
   "source": [
    "### 79"
   ]
  },
  {
   "cell_type": "code",
   "execution_count": 234,
   "metadata": {
    "scrolled": false
   },
   "outputs": [],
   "source": [
    "from sklearn.feature_extraction.text import TfidfVectorizer"
   ]
  },
  {
   "cell_type": "code",
   "execution_count": 6,
   "metadata": {},
   "outputs": [],
   "source": [
    "w2vModel = KeyedVectors.load_word2vec_format('src/GoogleNews-vectors-negative300.bin.gz', binary=True)\n",
    "\n",
    "train=pd.read_csv('src/newcorpora/train.txt', sep=\"\\t\",header=None,names=[\"CATEGORY\", \"TITLE\"])\n",
    "valid=pd.read_csv('src/newcorpora/valid.txt', sep=\"\\t\",header=None,names=[\"CATEGORY\", \"TITLE\"])\n",
    "test=pd.read_csv('src/newcorpora/test.txt', sep=\"\\t\",header=None,names=[\"CATEGORY\", \"TITLE\"])"
   ]
  },
  {
   "cell_type": "code",
   "execution_count": 200,
   "metadata": {},
   "outputs": [],
   "source": [
    "size=w2vModel.vector_size\n",
    "vecs=[]\n",
    "for word in title.split():\n",
    "    w=train_feature[word][0] if word in train_feature.columns else 0\n",
    "    vec=w2vModel[word] if word in w2vModel.vocab else np.zeros(size)\n",
    "    vec=w*vec\n",
    "    if not np.all(vec==0):\n",
    "        vecs.append(vec)\n",
    "    return np.mean(vecs,axis=0)"
   ]
  },
  {
   "cell_type": "code",
   "execution_count": 338,
   "metadata": {},
   "outputs": [],
   "source": [
    "columns=train_feature.columns\n",
    "\n",
    "def get_title_vector_weighted(title,i,feature):\n",
    "    size=w2vModel.vector_size\n",
    "    vecs=[]\n",
    "    for word in title.split():\n",
    "        w=feature[word][i] if word in columns else 0\n",
    "        vec=w2vModel[word] if word in w2vModel.vocab else np.zeros(size)\n",
    "        vec=w*vec\n",
    "        if np.all(vec==0.0):\n",
    "            continue\n",
    "        vecs.append(vec)\n",
    "    return np.array(vecs).mean(axis=0)"
   ]
  },
  {
   "cell_type": "code",
   "execution_count": 313,
   "metadata": {},
   "outputs": [],
   "source": [
    "Tfidfvec = TfidfVectorizer(max_df=0.9)#,max_features=1000, ngram_range=(1, 2))\n",
    "\n",
    "train_vec=Tfidfvec.fit_transform(train.TITLE.map(lambda x: normalizeText(x)))\n",
    "valid_vec=Tfidfvec.transform(valid.TITLE.map(lambda x: normalizeText(x)))\n",
    "test_vec=Tfidfvec.transform(test.TITLE.map(lambda x: normalizeText(x)))\n",
    "\n",
    "train_feature=pd.DataFrame(train_vec.toarray(), columns=Tfidfvec.get_feature_names())\n",
    "valid_feature=pd.DataFrame(valid_vec.toarray(), columns=Tfidfvec.get_feature_names())\n",
    "test_feature=pd.DataFrame(test_vec.toarray(), columns=Tfidfvec.get_feature_names())"
   ]
  },
  {
   "cell_type": "code",
   "execution_count": 341,
   "metadata": {
    "scrolled": true
   },
   "outputs": [],
   "source": [
    "X_train=[]\n",
    "for i,title in enumerate(train.TITLE):\n",
    "    title=normalizeText(title)\n",
    "    X_train.append(get_title_vector_weighted(title,i,train_feature))\n",
    "X_train=np.array(X_train)\n",
    "\n",
    "X_valid=[]\n",
    "for i,title in enumerate(valid.TITLE):\n",
    "    title=normalizeText(title)\n",
    "    X_valid.append(get_title_vector_weighted(title,i,valid_feature))\n",
    "X_valid=np.array(X_valid)\n",
    "\n",
    "X_test=[]\n",
    "for i,title in enumerate(test.TITLE):\n",
    "    title=normalizeText(title)\n",
    "    X_test.append(get_title_vector_weighted(title,i,test_feature))\n",
    "X_test=np.array(X_test)\n",
    "\n",
    "y_train=train[\"CATEGORY\"].map({'b':0,'e':1,'t':2,'m':3})\n",
    "y_valid=valid[\"CATEGORY\"].map({'b':0,'e':1,'t':2,'m':3})\n",
    "y_test=test[\"CATEGORY\"].map({'b':0,'e':1,'t':2,'m':3})"
   ]
  },
  {
   "cell_type": "code",
   "execution_count": 345,
   "metadata": {},
   "outputs": [],
   "source": [
    "train_X=torch.tensor(X_train,dtype=torch.float32)\n",
    "train_y=torch.tensor(y_train,dtype=torch.int64)\n",
    "valid_X=torch.tensor(X_valid,dtype=torch.float32)\n",
    "valid_y=torch.tensor(y_valid,dtype=torch.int64)\n",
    "test_X=torch.tensor(X_test,dtype=torch.float32)\n",
    "test_y=torch.tensor(y_test,dtype=torch.int64)\n",
    "\n",
    "train_n=len(train_y)\n",
    "valid_n=len(valid_y)\n",
    "test_n=len(test_y)"
   ]
  },
  {
   "cell_type": "code",
   "execution_count": 243,
   "metadata": {},
   "outputs": [
    {
     "data": {
      "text/plain": [
       "torch.Size([10, 300])"
      ]
     },
     "execution_count": 243,
     "metadata": {},
     "output_type": "execute_result"
    }
   ],
   "source": [
    "valid_X.shape"
   ]
  },
  {
   "cell_type": "code",
   "execution_count": 346,
   "metadata": {},
   "outputs": [],
   "source": [
    "ReLU=nn.ReLU()\n",
    "Sigmoid=nn.Sigmoid()\n",
    "MIDDLE_NEURONS=32\n",
    "\n",
    "class MultiNeuralNetwork(nn.Module):\n",
    "    def __init__(self):\n",
    "        super(MultiNeuralNetwork,self).__init__()\n",
    "        \n",
    "        self.layer1=nn.Linear(\n",
    "        INPUT_FEATURES,\n",
    "        MIDDLE_NEURONS\n",
    "        )\n",
    "        self.layer2=nn.Linear(\n",
    "        MIDDLE_NEURONS,\n",
    "        OUTPUT_NEURONS\n",
    "        )\n",
    "    def forward(self,input_data):\n",
    "        h1=self.layer1(input_data)\n",
    "        h2=Sigmoid(h1)\n",
    "        h3=self.layer2(h2)\n",
    "        return h3"
   ]
  },
  {
   "cell_type": "code",
   "execution_count": 347,
   "metadata": {},
   "outputs": [],
   "source": [
    "def train_step(train_X, train_y,model):\n",
    "    model.train()\n",
    "    pred_y = model(train_X)\n",
    "    \n",
    "    optimizer.zero_grad()\n",
    "    loss = criterion(pred_y, train_y)\n",
    "    loss.backward()\n",
    "    optimizer.step()\n",
    "    \n",
    "    n=len(train_y)\n",
    "    \n",
    "    acc = is_equal_pred(pred_y,train_y).sum()\n",
    "    \n",
    "    return (loss.item(), acc.item()/n)\n",
    "\n",
    "def valid_step(valid_X, valid_y,model):\n",
    "    model.eval()\n",
    "    pred_y = model(valid_X)\n",
    "    \n",
    "    loss = criterion(pred_y, valid_y)\n",
    "    \n",
    "    n=len(valid_y)\n",
    "    acc = is_equal_pred(pred_y,valid_y).sum()\n",
    "\n",
    "    return (loss.item(), acc.item()/n)"
   ]
  },
  {
   "cell_type": "code",
   "execution_count": 356,
   "metadata": {},
   "outputs": [],
   "source": [
    "!rm -rf ./logs\n",
    "\n",
    "multiNeuralModel=MultiNeuralNetwork()\n",
    "\n",
    "multiNeuralModel = multiNeuralModel.to(device)\n",
    "# optimizer\n",
    "REGULARIZATION = 0.0001\n",
    "optimizer = optim.Adadelta(\n",
    "    multiNeuralModel.parameters(),weight_decay=REGULARIZATION)\n",
    "# ,\n",
    "#     lr=LEARNING_RATE\n",
    "#      )"
   ]
  },
  {
   "cell_type": "code",
   "execution_count": 118,
   "metadata": {},
   "outputs": [],
   "source": [
    "EPOCHS=100"
   ]
  },
  {
   "cell_type": "code",
   "execution_count": 358,
   "metadata": {},
   "outputs": [
    {
     "data": {
      "text/html": [
       "\n",
       "      <iframe id=\"tensorboard-frame-a1210e6a3711109f\" width=\"100%\" height=\"800\" frameborder=\"0\">\n",
       "      </iframe>\n",
       "      <script>\n",
       "        (function() {\n",
       "          const frame = document.getElementById(\"tensorboard-frame-a1210e6a3711109f\");\n",
       "          const url = new URL(\"/\", window.location);\n",
       "          const port = 6006;\n",
       "          if (port) {\n",
       "            url.port = port;\n",
       "          }\n",
       "          frame.src = url;\n",
       "        })();\n",
       "      </script>\n",
       "    "
      ],
      "text/plain": [
       "<IPython.core.display.HTML object>"
      ]
     },
     "metadata": {},
     "output_type": "display_data"
    }
   ],
   "source": [
    "%tensorboard --logdir ./logs\n",
    "\n",
    "ds_train = TensorDataset(train_X.to(device), train_y.to(device))\n",
    "ds_valid = TensorDataset(valid_X.to(device), valid_y.to(device))\n",
    "\n",
    "writer = SummaryWriter(log_dir=\"./logs\")\n",
    "\n",
    "nowstr=datetime.datetime.now().strftime('%Y%m%d_%H%M')\n",
    "\n",
    "batchsize=128\n",
    "# batchsizes=np.logspace(0, 10, 11, base=2,dtype=int)\n",
    "\n",
    "multiNeuralModel.apply(init_parameters)\n",
    "\n",
    "loader_train = DataLoader(ds_train, batch_size=batchsize, shuffle=True)\n",
    "loader_valid = DataLoader(ds_valid, batch_size=batchsize, shuffle=True)\n",
    "for epoch in range(EPOCHS):\n",
    "    train_loss_mean=[]\n",
    "    train_acc_mean=[]\n",
    "    for x,y in loader_train:\n",
    "        train_loss, train_acc=train_step(train_X,train_y,multiNeuralModel)\n",
    "        train_loss_mean.append(train_loss)\n",
    "        train_acc_mean.append(train_acc)\n",
    "\n",
    "    valid_loss_mean=[]\n",
    "    valid_acc_mean=[]\n",
    "    for x,y in loader_valid:\n",
    "        valid_loss, valid_acc=valid_step(valid_X, valid_y,multiNeuralModel)\n",
    "        valid_loss_mean.append(valid_loss)\n",
    "        valid_acc_mean.append(valid_acc)\n",
    "\n",
    "    train_loss_mean=np.mean(train_loss_mean)\n",
    "    train_acc_mean=np.mean(train_acc_mean)\n",
    "    valid_loss_mean=np.mean(valid_loss_mean)\n",
    "    valid_acc_mean=np.mean(valid_acc_mean)\n",
    "\n",
    "    with torch.no_grad():\n",
    "        writer.add_scalar(\"Loss/train\", train_loss_mean, epoch)\n",
    "        writer.add_scalar(\"Acc/train\", train_acc_mean, epoch)\n",
    "        writer.add_scalar(\"Loss/valid\", valid_loss_mean, epoch)\n",
    "        writer.add_scalar(\"Acc/valid\", valid_acc_mean, epoch)\n",
    "\n",
    "#         torch.save(neuralModel.state_dict(), f\"output/date{nowstr}_batch{b}_epoch{epoch}.model\")\n",
    "#         torch.save(optimizer.state_dict(), f\"output/date{nowstr}_batch{b}_epoch{epoch}.param\")\n",
    "\n",
    "writer.close()"
   ]
  }
 ],
 "metadata": {
  "kernelspec": {
   "display_name": "Python 3",
   "language": "python",
   "name": "python3"
  },
  "language_info": {
   "codemirror_mode": {
    "name": "ipython",
    "version": 3
   },
   "file_extension": ".py",
   "mimetype": "text/x-python",
   "name": "python",
   "nbconvert_exporter": "python",
   "pygments_lexer": "ipython3",
   "version": "3.8.3"
  }
 },
 "nbformat": 4,
 "nbformat_minor": 4
}
